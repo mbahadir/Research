{
 "cells": [
  {
   "cell_type": "code",
   "execution_count": 1,
   "metadata": {},
   "outputs": [
    {
     "name": "stderr",
     "output_type": "stream",
     "text": [
      "C:\\Users\\bahad\\anaconda3\\envs\\r-tutorial\\lib\\site-packages\\numpy\\core\\__init__.py:29: UserWarning: loaded more than 1 DLL from .libs:\n",
      "C:\\Users\\bahad\\anaconda3\\envs\\r-tutorial\\lib\\site-packages\\numpy\\.libs\\libopenblas.NOIJJG62EMASZI6NYURL6JBKM4EVBGM7.gfortran-win_amd64.dll\n",
      "C:\\Users\\bahad\\anaconda3\\envs\\r-tutorial\\lib\\site-packages\\numpy\\.libs\\libopenblas.TXA6YQSD3GCQQC22GEQ54J2UDCXDXHWN.gfortran-win_amd64.dll\n",
      "  stacklevel=1)\n"
     ]
    }
   ],
   "source": [
    "import numpy as np\n",
    "import pandas as pd\n",
    "import matplotlib.pyplot as plt\n",
    "import os"
   ]
  },
  {
   "cell_type": "code",
   "execution_count": 2,
   "metadata": {},
   "outputs": [
    {
     "data": {
      "text/plain": [
       "'C:\\\\Users\\\\bahad\\\\GitHub\\\\Research\\\\Models'"
      ]
     },
     "execution_count": 2,
     "metadata": {},
     "output_type": "execute_result"
    }
   ],
   "source": [
    "os.getcwd()"
   ]
  },
  {
   "cell_type": "code",
   "execution_count": 3,
   "metadata": {},
   "outputs": [],
   "source": [
    "pd.set_option(\"display.max_columns\", None)"
   ]
  },
  {
   "cell_type": "markdown",
   "metadata": {},
   "source": [
    "# Data Loading"
   ]
  },
  {
   "cell_type": "code",
   "execution_count": 4,
   "metadata": {},
   "outputs": [],
   "source": [
    "data_initial=pd.read_csv(\"D:/Datasets/m5-forecasting-accuracy/Obtained_Data/second_scenario_group.csv\",dtype={\"event_name_1\": object,\n",
    "                                                                                         \"event_type_1\": object,\n",
    "                                                                                         \"event_name_2\": object,\n",
    "                                                                                         \"event_type_2\": object,},index_col=0)"
   ]
  },
  {
   "cell_type": "code",
   "execution_count": 5,
   "metadata": {},
   "outputs": [],
   "source": [
    "data_initial[\"date\"]=pd.to_datetime(data_initial[\"date\"])"
   ]
  },
  {
   "cell_type": "code",
   "execution_count": 6,
   "metadata": {},
   "outputs": [
    {
     "data": {
      "text/plain": [
       "LentStart              18\n",
       "ValentinesDay          18\n",
       "Purim End              18\n",
       "PresidentsDay          18\n",
       "SuperBowl              18\n",
       "LentWeek2              18\n",
       "StPatricksDay          18\n",
       "MartinLutherKingDay    15\n",
       "Eid al-Fitr            15\n",
       "NBAFinalsEnd           15\n",
       "LaborDay               15\n",
       "Thanksgiving           15\n",
       "NewYear                15\n",
       "Ramadan starts         15\n",
       "Chanukah End           15\n",
       "EidAlAdha              15\n",
       "OrthodoxChristmas      15\n",
       "Christmas              15\n",
       "Easter                 15\n",
       "IndependenceDay        15\n",
       "Halloween              15\n",
       "NBAFinalsStart         15\n",
       "VeteransDay            15\n",
       "MemorialDay            15\n",
       "Mother's day           15\n",
       "ColumbusDay            15\n",
       "Pesach End             15\n",
       "Father's day           12\n",
       "OrthodoxEaster         12\n",
       "Cinco De Mayo          12\n",
       "Name: event_name_1, dtype: int64"
      ]
     },
     "execution_count": 6,
     "metadata": {},
     "output_type": "execute_result"
    }
   ],
   "source": [
    "data_initial.event_name_1.value_counts()"
   ]
  },
  {
   "cell_type": "code",
   "execution_count": 7,
   "metadata": {},
   "outputs": [
    {
     "data": {
      "text/html": [
       "<div>\n",
       "<style scoped>\n",
       "    .dataframe tbody tr th:only-of-type {\n",
       "        vertical-align: middle;\n",
       "    }\n",
       "\n",
       "    .dataframe tbody tr th {\n",
       "        vertical-align: top;\n",
       "    }\n",
       "\n",
       "    .dataframe thead th {\n",
       "        text-align: right;\n",
       "    }\n",
       "</style>\n",
       "<table border=\"1\" class=\"dataframe\">\n",
       "  <thead>\n",
       "    <tr style=\"text-align: right;\">\n",
       "      <th></th>\n",
       "      <th>store_id</th>\n",
       "      <th>date</th>\n",
       "      <th>Total_sales</th>\n",
       "      <th>Sales</th>\n",
       "      <th>event_name_1</th>\n",
       "      <th>event_type_1</th>\n",
       "      <th>event_name_2</th>\n",
       "      <th>event_type_2</th>\n",
       "      <th>snap_CA</th>\n",
       "      <th>snap_TX</th>\n",
       "      <th>snap_WI</th>\n",
       "      <th>sell_price_mean</th>\n",
       "      <th>sell_price_median</th>\n",
       "      <th>sell_price_std</th>\n",
       "      <th>CA</th>\n",
       "      <th>TX</th>\n",
       "      <th>WI</th>\n",
       "      <th>Friday</th>\n",
       "      <th>Monday</th>\n",
       "      <th>Saturday</th>\n",
       "      <th>Sunday</th>\n",
       "      <th>Thursday</th>\n",
       "      <th>Tuesday</th>\n",
       "      <th>Wednesday</th>\n",
       "      <th>Jan</th>\n",
       "      <th>Feb</th>\n",
       "      <th>Mar</th>\n",
       "      <th>Apr</th>\n",
       "      <th>May</th>\n",
       "      <th>June</th>\n",
       "      <th>July</th>\n",
       "      <th>Agu</th>\n",
       "      <th>Sep</th>\n",
       "      <th>Oct</th>\n",
       "      <th>Nov</th>\n",
       "      <th>Dec</th>\n",
       "      <th>_2011</th>\n",
       "      <th>_2012</th>\n",
       "      <th>_2013</th>\n",
       "      <th>_2014</th>\n",
       "      <th>_2015</th>\n",
       "      <th>_2016</th>\n",
       "    </tr>\n",
       "  </thead>\n",
       "  <tbody>\n",
       "    <tr>\n",
       "      <th>0</th>\n",
       "      <td>TX_1</td>\n",
       "      <td>2011-01-29</td>\n",
       "      <td>1124</td>\n",
       "      <td>58</td>\n",
       "      <td>NaN</td>\n",
       "      <td>NaN</td>\n",
       "      <td>NaN</td>\n",
       "      <td>NaN</td>\n",
       "      <td>0</td>\n",
       "      <td>0</td>\n",
       "      <td>0</td>\n",
       "      <td>5.959714</td>\n",
       "      <td>5.05</td>\n",
       "      <td>4.094626</td>\n",
       "      <td>0.0</td>\n",
       "      <td>1.0</td>\n",
       "      <td>0.0</td>\n",
       "      <td>0.0</td>\n",
       "      <td>0.0</td>\n",
       "      <td>1.0</td>\n",
       "      <td>0.0</td>\n",
       "      <td>0.0</td>\n",
       "      <td>0.0</td>\n",
       "      <td>0.0</td>\n",
       "      <td>1.0</td>\n",
       "      <td>0.0</td>\n",
       "      <td>0.0</td>\n",
       "      <td>0.0</td>\n",
       "      <td>0.0</td>\n",
       "      <td>0.0</td>\n",
       "      <td>0.0</td>\n",
       "      <td>0.0</td>\n",
       "      <td>0.0</td>\n",
       "      <td>0.0</td>\n",
       "      <td>0.0</td>\n",
       "      <td>0.0</td>\n",
       "      <td>1.0</td>\n",
       "      <td>0.0</td>\n",
       "      <td>0.0</td>\n",
       "      <td>0.0</td>\n",
       "      <td>0.0</td>\n",
       "      <td>0.0</td>\n",
       "    </tr>\n",
       "    <tr>\n",
       "      <th>1</th>\n",
       "      <td>TX_1</td>\n",
       "      <td>2011-01-30</td>\n",
       "      <td>1124</td>\n",
       "      <td>62</td>\n",
       "      <td>NaN</td>\n",
       "      <td>NaN</td>\n",
       "      <td>NaN</td>\n",
       "      <td>NaN</td>\n",
       "      <td>0</td>\n",
       "      <td>0</td>\n",
       "      <td>0</td>\n",
       "      <td>5.959714</td>\n",
       "      <td>5.05</td>\n",
       "      <td>4.094626</td>\n",
       "      <td>0.0</td>\n",
       "      <td>1.0</td>\n",
       "      <td>0.0</td>\n",
       "      <td>0.0</td>\n",
       "      <td>0.0</td>\n",
       "      <td>0.0</td>\n",
       "      <td>1.0</td>\n",
       "      <td>0.0</td>\n",
       "      <td>0.0</td>\n",
       "      <td>0.0</td>\n",
       "      <td>1.0</td>\n",
       "      <td>0.0</td>\n",
       "      <td>0.0</td>\n",
       "      <td>0.0</td>\n",
       "      <td>0.0</td>\n",
       "      <td>0.0</td>\n",
       "      <td>0.0</td>\n",
       "      <td>0.0</td>\n",
       "      <td>0.0</td>\n",
       "      <td>0.0</td>\n",
       "      <td>0.0</td>\n",
       "      <td>0.0</td>\n",
       "      <td>1.0</td>\n",
       "      <td>0.0</td>\n",
       "      <td>0.0</td>\n",
       "      <td>0.0</td>\n",
       "      <td>0.0</td>\n",
       "      <td>0.0</td>\n",
       "    </tr>\n",
       "    <tr>\n",
       "      <th>2</th>\n",
       "      <td>TX_1</td>\n",
       "      <td>2011-01-31</td>\n",
       "      <td>1124</td>\n",
       "      <td>41</td>\n",
       "      <td>NaN</td>\n",
       "      <td>NaN</td>\n",
       "      <td>NaN</td>\n",
       "      <td>NaN</td>\n",
       "      <td>0</td>\n",
       "      <td>0</td>\n",
       "      <td>0</td>\n",
       "      <td>5.959714</td>\n",
       "      <td>5.05</td>\n",
       "      <td>4.094626</td>\n",
       "      <td>0.0</td>\n",
       "      <td>1.0</td>\n",
       "      <td>0.0</td>\n",
       "      <td>0.0</td>\n",
       "      <td>1.0</td>\n",
       "      <td>0.0</td>\n",
       "      <td>0.0</td>\n",
       "      <td>0.0</td>\n",
       "      <td>0.0</td>\n",
       "      <td>0.0</td>\n",
       "      <td>1.0</td>\n",
       "      <td>0.0</td>\n",
       "      <td>0.0</td>\n",
       "      <td>0.0</td>\n",
       "      <td>0.0</td>\n",
       "      <td>0.0</td>\n",
       "      <td>0.0</td>\n",
       "      <td>0.0</td>\n",
       "      <td>0.0</td>\n",
       "      <td>0.0</td>\n",
       "      <td>0.0</td>\n",
       "      <td>0.0</td>\n",
       "      <td>1.0</td>\n",
       "      <td>0.0</td>\n",
       "      <td>0.0</td>\n",
       "      <td>0.0</td>\n",
       "      <td>0.0</td>\n",
       "      <td>0.0</td>\n",
       "    </tr>\n",
       "    <tr>\n",
       "      <th>3</th>\n",
       "      <td>TX_1</td>\n",
       "      <td>2011-02-01</td>\n",
       "      <td>1124</td>\n",
       "      <td>46</td>\n",
       "      <td>NaN</td>\n",
       "      <td>NaN</td>\n",
       "      <td>NaN</td>\n",
       "      <td>NaN</td>\n",
       "      <td>1</td>\n",
       "      <td>1</td>\n",
       "      <td>0</td>\n",
       "      <td>5.959714</td>\n",
       "      <td>5.05</td>\n",
       "      <td>4.094626</td>\n",
       "      <td>0.0</td>\n",
       "      <td>1.0</td>\n",
       "      <td>0.0</td>\n",
       "      <td>0.0</td>\n",
       "      <td>0.0</td>\n",
       "      <td>0.0</td>\n",
       "      <td>0.0</td>\n",
       "      <td>0.0</td>\n",
       "      <td>1.0</td>\n",
       "      <td>0.0</td>\n",
       "      <td>0.0</td>\n",
       "      <td>1.0</td>\n",
       "      <td>0.0</td>\n",
       "      <td>0.0</td>\n",
       "      <td>0.0</td>\n",
       "      <td>0.0</td>\n",
       "      <td>0.0</td>\n",
       "      <td>0.0</td>\n",
       "      <td>0.0</td>\n",
       "      <td>0.0</td>\n",
       "      <td>0.0</td>\n",
       "      <td>0.0</td>\n",
       "      <td>1.0</td>\n",
       "      <td>0.0</td>\n",
       "      <td>0.0</td>\n",
       "      <td>0.0</td>\n",
       "      <td>0.0</td>\n",
       "      <td>0.0</td>\n",
       "    </tr>\n",
       "    <tr>\n",
       "      <th>4</th>\n",
       "      <td>TX_1</td>\n",
       "      <td>2011-02-02</td>\n",
       "      <td>1124</td>\n",
       "      <td>28</td>\n",
       "      <td>NaN</td>\n",
       "      <td>NaN</td>\n",
       "      <td>NaN</td>\n",
       "      <td>NaN</td>\n",
       "      <td>1</td>\n",
       "      <td>0</td>\n",
       "      <td>1</td>\n",
       "      <td>5.959714</td>\n",
       "      <td>5.05</td>\n",
       "      <td>4.094626</td>\n",
       "      <td>0.0</td>\n",
       "      <td>1.0</td>\n",
       "      <td>0.0</td>\n",
       "      <td>0.0</td>\n",
       "      <td>0.0</td>\n",
       "      <td>0.0</td>\n",
       "      <td>0.0</td>\n",
       "      <td>0.0</td>\n",
       "      <td>0.0</td>\n",
       "      <td>1.0</td>\n",
       "      <td>0.0</td>\n",
       "      <td>1.0</td>\n",
       "      <td>0.0</td>\n",
       "      <td>0.0</td>\n",
       "      <td>0.0</td>\n",
       "      <td>0.0</td>\n",
       "      <td>0.0</td>\n",
       "      <td>0.0</td>\n",
       "      <td>0.0</td>\n",
       "      <td>0.0</td>\n",
       "      <td>0.0</td>\n",
       "      <td>0.0</td>\n",
       "      <td>1.0</td>\n",
       "      <td>0.0</td>\n",
       "      <td>0.0</td>\n",
       "      <td>0.0</td>\n",
       "      <td>0.0</td>\n",
       "      <td>0.0</td>\n",
       "    </tr>\n",
       "  </tbody>\n",
       "</table>\n",
       "</div>"
      ],
      "text/plain": [
       "  store_id       date  Total_sales  Sales event_name_1 event_type_1  \\\n",
       "0     TX_1 2011-01-29         1124     58          NaN          NaN   \n",
       "1     TX_1 2011-01-30         1124     62          NaN          NaN   \n",
       "2     TX_1 2011-01-31         1124     41          NaN          NaN   \n",
       "3     TX_1 2011-02-01         1124     46          NaN          NaN   \n",
       "4     TX_1 2011-02-02         1124     28          NaN          NaN   \n",
       "\n",
       "  event_name_2 event_type_2  snap_CA  snap_TX  snap_WI  sell_price_mean  \\\n",
       "0          NaN          NaN        0        0        0         5.959714   \n",
       "1          NaN          NaN        0        0        0         5.959714   \n",
       "2          NaN          NaN        0        0        0         5.959714   \n",
       "3          NaN          NaN        1        1        0         5.959714   \n",
       "4          NaN          NaN        1        0        1         5.959714   \n",
       "\n",
       "   sell_price_median  sell_price_std   CA   TX   WI  Friday  Monday  Saturday  \\\n",
       "0               5.05        4.094626  0.0  1.0  0.0     0.0     0.0       1.0   \n",
       "1               5.05        4.094626  0.0  1.0  0.0     0.0     0.0       0.0   \n",
       "2               5.05        4.094626  0.0  1.0  0.0     0.0     1.0       0.0   \n",
       "3               5.05        4.094626  0.0  1.0  0.0     0.0     0.0       0.0   \n",
       "4               5.05        4.094626  0.0  1.0  0.0     0.0     0.0       0.0   \n",
       "\n",
       "   Sunday  Thursday  Tuesday  Wednesday  Jan  Feb  Mar  Apr  May  June  July  \\\n",
       "0     0.0       0.0      0.0        0.0  1.0  0.0  0.0  0.0  0.0   0.0   0.0   \n",
       "1     1.0       0.0      0.0        0.0  1.0  0.0  0.0  0.0  0.0   0.0   0.0   \n",
       "2     0.0       0.0      0.0        0.0  1.0  0.0  0.0  0.0  0.0   0.0   0.0   \n",
       "3     0.0       0.0      1.0        0.0  0.0  1.0  0.0  0.0  0.0   0.0   0.0   \n",
       "4     0.0       0.0      0.0        1.0  0.0  1.0  0.0  0.0  0.0   0.0   0.0   \n",
       "\n",
       "   Agu  Sep  Oct  Nov  Dec  _2011  _2012  _2013  _2014  _2015  _2016  \n",
       "0  0.0  0.0  0.0  0.0  0.0    1.0    0.0    0.0    0.0    0.0    0.0  \n",
       "1  0.0  0.0  0.0  0.0  0.0    1.0    0.0    0.0    0.0    0.0    0.0  \n",
       "2  0.0  0.0  0.0  0.0  0.0    1.0    0.0    0.0    0.0    0.0    0.0  \n",
       "3  0.0  0.0  0.0  0.0  0.0    1.0    0.0    0.0    0.0    0.0    0.0  \n",
       "4  0.0  0.0  0.0  0.0  0.0    1.0    0.0    0.0    0.0    0.0    0.0  "
      ]
     },
     "execution_count": 7,
     "metadata": {},
     "output_type": "execute_result"
    }
   ],
   "source": [
    "data_initial.head()"
   ]
  },
  {
   "cell_type": "markdown",
   "metadata": {},
   "source": [
    "## Event Conversion"
   ]
  },
  {
   "cell_type": "code",
   "execution_count": 8,
   "metadata": {},
   "outputs": [],
   "source": [
    "from sklearn.preprocessing import OneHotEncoder"
   ]
  },
  {
   "cell_type": "code",
   "execution_count": 9,
   "metadata": {},
   "outputs": [],
   "source": [
    "hot_encoder=OneHotEncoder()"
   ]
  },
  {
   "cell_type": "code",
   "execution_count": null,
   "metadata": {},
   "outputs": [],
   "source": []
  },
  {
   "cell_type": "markdown",
   "metadata": {},
   "source": [
    "## Event"
   ]
  },
  {
   "cell_type": "code",
   "execution_count": 10,
   "metadata": {},
   "outputs": [],
   "source": [
    "data_initial.drop([\"event_name_1\", \"event_name_2\", \"event_type_2\", \"CA\", \"TX\", \"WI\"], axis=1, inplace=True)"
   ]
  },
  {
   "cell_type": "code",
   "execution_count": 11,
   "metadata": {},
   "outputs": [
    {
     "name": "stderr",
     "output_type": "stream",
     "text": [
      "C:\\Users\\bahad\\anaconda3\\envs\\r-tutorial\\lib\\site-packages\\ipykernel_launcher.py:1: SettingWithCopyWarning: \n",
      "A value is trying to be set on a copy of a slice from a DataFrame.\n",
      "Try using .loc[row_indexer,col_indexer] = value instead\n",
      "\n",
      "See the caveats in the documentation: https://pandas.pydata.org/pandas-docs/stable/user_guide/indexing.html#returning-a-view-versus-a-copy\n",
      "  \"\"\"Entry point for launching an IPython kernel.\n"
     ]
    }
   ],
   "source": [
    "data_initial[data_initial[\"event_type_1\"].isna()][\"event_type_1\"]=0\n",
    "data_initial[\"event_type_1\"]=data_initial[\"event_type_1\"].astype(str)"
   ]
  },
  {
   "cell_type": "code",
   "execution_count": 12,
   "metadata": {},
   "outputs": [],
   "source": [
    "encoded_event=hot_encoder.fit_transform(data_initial[[\"event_type_1\"]])\n",
    "array_event=encoded_event.toarray()"
   ]
  },
  {
   "cell_type": "code",
   "execution_count": 13,
   "metadata": {},
   "outputs": [
    {
     "data": {
      "text/plain": [
       "[array(['Cultural', 'National', 'Religious', 'Sporting', 'nan'],\n",
       "       dtype=object)]"
      ]
     },
     "execution_count": 13,
     "metadata": {},
     "output_type": "execute_result"
    }
   ],
   "source": [
    "hot_encoder.categories_"
   ]
  },
  {
   "cell_type": "code",
   "execution_count": 14,
   "metadata": {},
   "outputs": [],
   "source": [
    "event_df=pd.DataFrame(array_event,columns=[\"Cultural\", \"National\", \"Religious\", \"Sporting\", 'nan'])"
   ]
  },
  {
   "cell_type": "markdown",
   "metadata": {},
   "source": [
    "## Store Id"
   ]
  },
  {
   "cell_type": "code",
   "execution_count": 15,
   "metadata": {},
   "outputs": [],
   "source": [
    "encoded_store=hot_encoder.fit_transform(data_initial[[\"store_id\"]])\n",
    "array_store=encoded_store.toarray()"
   ]
  },
  {
   "cell_type": "code",
   "execution_count": 16,
   "metadata": {},
   "outputs": [
    {
     "data": {
      "text/plain": [
       "[array(['TX_1', 'TX_2', 'TX_3'], dtype=object)]"
      ]
     },
     "execution_count": 16,
     "metadata": {},
     "output_type": "execute_result"
    }
   ],
   "source": [
    "hot_encoder.categories_"
   ]
  },
  {
   "cell_type": "code",
   "execution_count": 17,
   "metadata": {},
   "outputs": [],
   "source": [
    "store_df=pd.DataFrame(array_store, columns=['TX_1', 'TX_2', 'TX_3'])"
   ]
  },
  {
   "cell_type": "code",
   "execution_count": null,
   "metadata": {},
   "outputs": [],
   "source": []
  },
  {
   "cell_type": "code",
   "execution_count": 18,
   "metadata": {},
   "outputs": [],
   "source": [
    "frames=[data_initial, event_df, store_df]\n",
    "data=pd.concat(frames, axis=1)"
   ]
  },
  {
   "cell_type": "code",
   "execution_count": 19,
   "metadata": {},
   "outputs": [],
   "source": [
    "data.drop([\"event_type_1\", \"nan\", \"Total_sales\", \"store_id\"], axis=1, inplace=True)"
   ]
  },
  {
   "cell_type": "code",
   "execution_count": 20,
   "metadata": {},
   "outputs": [
    {
     "data": {
      "text/html": [
       "<div>\n",
       "<style scoped>\n",
       "    .dataframe tbody tr th:only-of-type {\n",
       "        vertical-align: middle;\n",
       "    }\n",
       "\n",
       "    .dataframe tbody tr th {\n",
       "        vertical-align: top;\n",
       "    }\n",
       "\n",
       "    .dataframe thead th {\n",
       "        text-align: right;\n",
       "    }\n",
       "</style>\n",
       "<table border=\"1\" class=\"dataframe\">\n",
       "  <thead>\n",
       "    <tr style=\"text-align: right;\">\n",
       "      <th></th>\n",
       "      <th>date</th>\n",
       "      <th>Sales</th>\n",
       "      <th>snap_CA</th>\n",
       "      <th>snap_TX</th>\n",
       "      <th>snap_WI</th>\n",
       "      <th>sell_price_mean</th>\n",
       "      <th>sell_price_median</th>\n",
       "      <th>sell_price_std</th>\n",
       "      <th>Friday</th>\n",
       "      <th>Monday</th>\n",
       "      <th>Saturday</th>\n",
       "      <th>Sunday</th>\n",
       "      <th>Thursday</th>\n",
       "      <th>Tuesday</th>\n",
       "      <th>Wednesday</th>\n",
       "      <th>Jan</th>\n",
       "      <th>Feb</th>\n",
       "      <th>Mar</th>\n",
       "      <th>Apr</th>\n",
       "      <th>May</th>\n",
       "      <th>June</th>\n",
       "      <th>July</th>\n",
       "      <th>Agu</th>\n",
       "      <th>Sep</th>\n",
       "      <th>Oct</th>\n",
       "      <th>Nov</th>\n",
       "      <th>Dec</th>\n",
       "      <th>_2011</th>\n",
       "      <th>_2012</th>\n",
       "      <th>_2013</th>\n",
       "      <th>_2014</th>\n",
       "      <th>_2015</th>\n",
       "      <th>_2016</th>\n",
       "      <th>Cultural</th>\n",
       "      <th>National</th>\n",
       "      <th>Religious</th>\n",
       "      <th>Sporting</th>\n",
       "      <th>TX_1</th>\n",
       "      <th>TX_2</th>\n",
       "      <th>TX_3</th>\n",
       "    </tr>\n",
       "  </thead>\n",
       "  <tbody>\n",
       "    <tr>\n",
       "      <th>0</th>\n",
       "      <td>2011-01-29</td>\n",
       "      <td>58</td>\n",
       "      <td>0</td>\n",
       "      <td>0</td>\n",
       "      <td>0</td>\n",
       "      <td>5.959714</td>\n",
       "      <td>5.05</td>\n",
       "      <td>4.094626</td>\n",
       "      <td>0.0</td>\n",
       "      <td>0.0</td>\n",
       "      <td>1.0</td>\n",
       "      <td>0.0</td>\n",
       "      <td>0.0</td>\n",
       "      <td>0.0</td>\n",
       "      <td>0.0</td>\n",
       "      <td>1.0</td>\n",
       "      <td>0.0</td>\n",
       "      <td>0.0</td>\n",
       "      <td>0.0</td>\n",
       "      <td>0.0</td>\n",
       "      <td>0.0</td>\n",
       "      <td>0.0</td>\n",
       "      <td>0.0</td>\n",
       "      <td>0.0</td>\n",
       "      <td>0.0</td>\n",
       "      <td>0.0</td>\n",
       "      <td>0.0</td>\n",
       "      <td>1.0</td>\n",
       "      <td>0.0</td>\n",
       "      <td>0.0</td>\n",
       "      <td>0.0</td>\n",
       "      <td>0.0</td>\n",
       "      <td>0.0</td>\n",
       "      <td>0.0</td>\n",
       "      <td>0.0</td>\n",
       "      <td>0.0</td>\n",
       "      <td>0.0</td>\n",
       "      <td>1.0</td>\n",
       "      <td>0.0</td>\n",
       "      <td>0.0</td>\n",
       "    </tr>\n",
       "    <tr>\n",
       "      <th>1</th>\n",
       "      <td>2011-01-30</td>\n",
       "      <td>62</td>\n",
       "      <td>0</td>\n",
       "      <td>0</td>\n",
       "      <td>0</td>\n",
       "      <td>5.959714</td>\n",
       "      <td>5.05</td>\n",
       "      <td>4.094626</td>\n",
       "      <td>0.0</td>\n",
       "      <td>0.0</td>\n",
       "      <td>0.0</td>\n",
       "      <td>1.0</td>\n",
       "      <td>0.0</td>\n",
       "      <td>0.0</td>\n",
       "      <td>0.0</td>\n",
       "      <td>1.0</td>\n",
       "      <td>0.0</td>\n",
       "      <td>0.0</td>\n",
       "      <td>0.0</td>\n",
       "      <td>0.0</td>\n",
       "      <td>0.0</td>\n",
       "      <td>0.0</td>\n",
       "      <td>0.0</td>\n",
       "      <td>0.0</td>\n",
       "      <td>0.0</td>\n",
       "      <td>0.0</td>\n",
       "      <td>0.0</td>\n",
       "      <td>1.0</td>\n",
       "      <td>0.0</td>\n",
       "      <td>0.0</td>\n",
       "      <td>0.0</td>\n",
       "      <td>0.0</td>\n",
       "      <td>0.0</td>\n",
       "      <td>0.0</td>\n",
       "      <td>0.0</td>\n",
       "      <td>0.0</td>\n",
       "      <td>0.0</td>\n",
       "      <td>1.0</td>\n",
       "      <td>0.0</td>\n",
       "      <td>0.0</td>\n",
       "    </tr>\n",
       "    <tr>\n",
       "      <th>2</th>\n",
       "      <td>2011-01-31</td>\n",
       "      <td>41</td>\n",
       "      <td>0</td>\n",
       "      <td>0</td>\n",
       "      <td>0</td>\n",
       "      <td>5.959714</td>\n",
       "      <td>5.05</td>\n",
       "      <td>4.094626</td>\n",
       "      <td>0.0</td>\n",
       "      <td>1.0</td>\n",
       "      <td>0.0</td>\n",
       "      <td>0.0</td>\n",
       "      <td>0.0</td>\n",
       "      <td>0.0</td>\n",
       "      <td>0.0</td>\n",
       "      <td>1.0</td>\n",
       "      <td>0.0</td>\n",
       "      <td>0.0</td>\n",
       "      <td>0.0</td>\n",
       "      <td>0.0</td>\n",
       "      <td>0.0</td>\n",
       "      <td>0.0</td>\n",
       "      <td>0.0</td>\n",
       "      <td>0.0</td>\n",
       "      <td>0.0</td>\n",
       "      <td>0.0</td>\n",
       "      <td>0.0</td>\n",
       "      <td>1.0</td>\n",
       "      <td>0.0</td>\n",
       "      <td>0.0</td>\n",
       "      <td>0.0</td>\n",
       "      <td>0.0</td>\n",
       "      <td>0.0</td>\n",
       "      <td>0.0</td>\n",
       "      <td>0.0</td>\n",
       "      <td>0.0</td>\n",
       "      <td>0.0</td>\n",
       "      <td>1.0</td>\n",
       "      <td>0.0</td>\n",
       "      <td>0.0</td>\n",
       "    </tr>\n",
       "    <tr>\n",
       "      <th>3</th>\n",
       "      <td>2011-02-01</td>\n",
       "      <td>46</td>\n",
       "      <td>1</td>\n",
       "      <td>1</td>\n",
       "      <td>0</td>\n",
       "      <td>5.959714</td>\n",
       "      <td>5.05</td>\n",
       "      <td>4.094626</td>\n",
       "      <td>0.0</td>\n",
       "      <td>0.0</td>\n",
       "      <td>0.0</td>\n",
       "      <td>0.0</td>\n",
       "      <td>0.0</td>\n",
       "      <td>1.0</td>\n",
       "      <td>0.0</td>\n",
       "      <td>0.0</td>\n",
       "      <td>1.0</td>\n",
       "      <td>0.0</td>\n",
       "      <td>0.0</td>\n",
       "      <td>0.0</td>\n",
       "      <td>0.0</td>\n",
       "      <td>0.0</td>\n",
       "      <td>0.0</td>\n",
       "      <td>0.0</td>\n",
       "      <td>0.0</td>\n",
       "      <td>0.0</td>\n",
       "      <td>0.0</td>\n",
       "      <td>1.0</td>\n",
       "      <td>0.0</td>\n",
       "      <td>0.0</td>\n",
       "      <td>0.0</td>\n",
       "      <td>0.0</td>\n",
       "      <td>0.0</td>\n",
       "      <td>0.0</td>\n",
       "      <td>0.0</td>\n",
       "      <td>0.0</td>\n",
       "      <td>0.0</td>\n",
       "      <td>1.0</td>\n",
       "      <td>0.0</td>\n",
       "      <td>0.0</td>\n",
       "    </tr>\n",
       "    <tr>\n",
       "      <th>4</th>\n",
       "      <td>2011-02-02</td>\n",
       "      <td>28</td>\n",
       "      <td>1</td>\n",
       "      <td>0</td>\n",
       "      <td>1</td>\n",
       "      <td>5.959714</td>\n",
       "      <td>5.05</td>\n",
       "      <td>4.094626</td>\n",
       "      <td>0.0</td>\n",
       "      <td>0.0</td>\n",
       "      <td>0.0</td>\n",
       "      <td>0.0</td>\n",
       "      <td>0.0</td>\n",
       "      <td>0.0</td>\n",
       "      <td>1.0</td>\n",
       "      <td>0.0</td>\n",
       "      <td>1.0</td>\n",
       "      <td>0.0</td>\n",
       "      <td>0.0</td>\n",
       "      <td>0.0</td>\n",
       "      <td>0.0</td>\n",
       "      <td>0.0</td>\n",
       "      <td>0.0</td>\n",
       "      <td>0.0</td>\n",
       "      <td>0.0</td>\n",
       "      <td>0.0</td>\n",
       "      <td>0.0</td>\n",
       "      <td>1.0</td>\n",
       "      <td>0.0</td>\n",
       "      <td>0.0</td>\n",
       "      <td>0.0</td>\n",
       "      <td>0.0</td>\n",
       "      <td>0.0</td>\n",
       "      <td>0.0</td>\n",
       "      <td>0.0</td>\n",
       "      <td>0.0</td>\n",
       "      <td>0.0</td>\n",
       "      <td>1.0</td>\n",
       "      <td>0.0</td>\n",
       "      <td>0.0</td>\n",
       "    </tr>\n",
       "  </tbody>\n",
       "</table>\n",
       "</div>"
      ],
      "text/plain": [
       "        date  Sales  snap_CA  snap_TX  snap_WI  sell_price_mean  \\\n",
       "0 2011-01-29     58        0        0        0         5.959714   \n",
       "1 2011-01-30     62        0        0        0         5.959714   \n",
       "2 2011-01-31     41        0        0        0         5.959714   \n",
       "3 2011-02-01     46        1        1        0         5.959714   \n",
       "4 2011-02-02     28        1        0        1         5.959714   \n",
       "\n",
       "   sell_price_median  sell_price_std  Friday  Monday  Saturday  Sunday  \\\n",
       "0               5.05        4.094626     0.0     0.0       1.0     0.0   \n",
       "1               5.05        4.094626     0.0     0.0       0.0     1.0   \n",
       "2               5.05        4.094626     0.0     1.0       0.0     0.0   \n",
       "3               5.05        4.094626     0.0     0.0       0.0     0.0   \n",
       "4               5.05        4.094626     0.0     0.0       0.0     0.0   \n",
       "\n",
       "   Thursday  Tuesday  Wednesday  Jan  Feb  Mar  Apr  May  June  July  Agu  \\\n",
       "0       0.0      0.0        0.0  1.0  0.0  0.0  0.0  0.0   0.0   0.0  0.0   \n",
       "1       0.0      0.0        0.0  1.0  0.0  0.0  0.0  0.0   0.0   0.0  0.0   \n",
       "2       0.0      0.0        0.0  1.0  0.0  0.0  0.0  0.0   0.0   0.0  0.0   \n",
       "3       0.0      1.0        0.0  0.0  1.0  0.0  0.0  0.0   0.0   0.0  0.0   \n",
       "4       0.0      0.0        1.0  0.0  1.0  0.0  0.0  0.0   0.0   0.0  0.0   \n",
       "\n",
       "   Sep  Oct  Nov  Dec  _2011  _2012  _2013  _2014  _2015  _2016  Cultural  \\\n",
       "0  0.0  0.0  0.0  0.0    1.0    0.0    0.0    0.0    0.0    0.0       0.0   \n",
       "1  0.0  0.0  0.0  0.0    1.0    0.0    0.0    0.0    0.0    0.0       0.0   \n",
       "2  0.0  0.0  0.0  0.0    1.0    0.0    0.0    0.0    0.0    0.0       0.0   \n",
       "3  0.0  0.0  0.0  0.0    1.0    0.0    0.0    0.0    0.0    0.0       0.0   \n",
       "4  0.0  0.0  0.0  0.0    1.0    0.0    0.0    0.0    0.0    0.0       0.0   \n",
       "\n",
       "   National  Religious  Sporting  TX_1  TX_2  TX_3  \n",
       "0       0.0        0.0       0.0   1.0   0.0   0.0  \n",
       "1       0.0        0.0       0.0   1.0   0.0   0.0  \n",
       "2       0.0        0.0       0.0   1.0   0.0   0.0  \n",
       "3       0.0        0.0       0.0   1.0   0.0   0.0  \n",
       "4       0.0        0.0       0.0   1.0   0.0   0.0  "
      ]
     },
     "execution_count": 20,
     "metadata": {},
     "output_type": "execute_result"
    }
   ],
   "source": [
    "data.head()"
   ]
  },
  {
   "cell_type": "code",
   "execution_count": 21,
   "metadata": {},
   "outputs": [
    {
     "data": {
      "text/html": [
       "<div>\n",
       "<style scoped>\n",
       "    .dataframe tbody tr th:only-of-type {\n",
       "        vertical-align: middle;\n",
       "    }\n",
       "\n",
       "    .dataframe tbody tr th {\n",
       "        vertical-align: top;\n",
       "    }\n",
       "\n",
       "    .dataframe thead th {\n",
       "        text-align: right;\n",
       "    }\n",
       "</style>\n",
       "<table border=\"1\" class=\"dataframe\">\n",
       "  <thead>\n",
       "    <tr style=\"text-align: right;\">\n",
       "      <th></th>\n",
       "      <th>Sales</th>\n",
       "      <th>snap_CA</th>\n",
       "      <th>snap_TX</th>\n",
       "      <th>snap_WI</th>\n",
       "      <th>sell_price_mean</th>\n",
       "      <th>sell_price_median</th>\n",
       "      <th>sell_price_std</th>\n",
       "      <th>Friday</th>\n",
       "      <th>Monday</th>\n",
       "      <th>Saturday</th>\n",
       "      <th>Sunday</th>\n",
       "      <th>Thursday</th>\n",
       "      <th>Tuesday</th>\n",
       "      <th>Wednesday</th>\n",
       "      <th>Jan</th>\n",
       "      <th>Feb</th>\n",
       "      <th>Mar</th>\n",
       "      <th>Apr</th>\n",
       "      <th>May</th>\n",
       "      <th>June</th>\n",
       "      <th>July</th>\n",
       "      <th>Agu</th>\n",
       "      <th>Sep</th>\n",
       "      <th>Oct</th>\n",
       "      <th>Nov</th>\n",
       "      <th>Dec</th>\n",
       "      <th>_2011</th>\n",
       "      <th>_2012</th>\n",
       "      <th>_2013</th>\n",
       "      <th>_2014</th>\n",
       "      <th>_2015</th>\n",
       "      <th>_2016</th>\n",
       "      <th>Cultural</th>\n",
       "      <th>National</th>\n",
       "      <th>Religious</th>\n",
       "      <th>Sporting</th>\n",
       "      <th>TX_1</th>\n",
       "      <th>TX_2</th>\n",
       "      <th>TX_3</th>\n",
       "    </tr>\n",
       "  </thead>\n",
       "  <tbody>\n",
       "    <tr>\n",
       "      <th>count</th>\n",
       "      <td>5739.000000</td>\n",
       "      <td>5739.000000</td>\n",
       "      <td>5739.000000</td>\n",
       "      <td>5739.000000</td>\n",
       "      <td>5739.000000</td>\n",
       "      <td>5739.000000</td>\n",
       "      <td>5739.000000</td>\n",
       "      <td>5739.000000</td>\n",
       "      <td>5739.000000</td>\n",
       "      <td>5739.000000</td>\n",
       "      <td>5739.000000</td>\n",
       "      <td>5739.000000</td>\n",
       "      <td>5739.000000</td>\n",
       "      <td>5739.000000</td>\n",
       "      <td>5739.000000</td>\n",
       "      <td>5739.000000</td>\n",
       "      <td>5739.000000</td>\n",
       "      <td>5739.000000</td>\n",
       "      <td>5739.000000</td>\n",
       "      <td>5739.000000</td>\n",
       "      <td>5739.000000</td>\n",
       "      <td>5739.000000</td>\n",
       "      <td>5739.000000</td>\n",
       "      <td>5739.000000</td>\n",
       "      <td>5739.000000</td>\n",
       "      <td>5739.000000</td>\n",
       "      <td>5739.000000</td>\n",
       "      <td>5739.000000</td>\n",
       "      <td>5739.000000</td>\n",
       "      <td>5739.000000</td>\n",
       "      <td>5739.000000</td>\n",
       "      <td>5739.000000</td>\n",
       "      <td>5739.000000</td>\n",
       "      <td>5739.000000</td>\n",
       "      <td>5739.000000</td>\n",
       "      <td>5739.000000</td>\n",
       "      <td>5739.000000</td>\n",
       "      <td>5739.000000</td>\n",
       "      <td>5739.000000</td>\n",
       "    </tr>\n",
       "    <tr>\n",
       "      <th>mean</th>\n",
       "      <td>60.678690</td>\n",
       "      <td>0.329326</td>\n",
       "      <td>0.329326</td>\n",
       "      <td>0.329326</td>\n",
       "      <td>6.364913</td>\n",
       "      <td>5.284278</td>\n",
       "      <td>4.713428</td>\n",
       "      <td>0.142708</td>\n",
       "      <td>0.142708</td>\n",
       "      <td>0.143231</td>\n",
       "      <td>0.143231</td>\n",
       "      <td>0.142708</td>\n",
       "      <td>0.142708</td>\n",
       "      <td>0.142708</td>\n",
       "      <td>0.082593</td>\n",
       "      <td>0.088866</td>\n",
       "      <td>0.097229</td>\n",
       "      <td>0.090957</td>\n",
       "      <td>0.081025</td>\n",
       "      <td>0.078411</td>\n",
       "      <td>0.081025</td>\n",
       "      <td>0.081025</td>\n",
       "      <td>0.078411</td>\n",
       "      <td>0.081025</td>\n",
       "      <td>0.078411</td>\n",
       "      <td>0.081025</td>\n",
       "      <td>0.176163</td>\n",
       "      <td>0.191323</td>\n",
       "      <td>0.190800</td>\n",
       "      <td>0.190800</td>\n",
       "      <td>0.190800</td>\n",
       "      <td>0.060115</td>\n",
       "      <td>0.018296</td>\n",
       "      <td>0.026660</td>\n",
       "      <td>0.027182</td>\n",
       "      <td>0.008364</td>\n",
       "      <td>0.333333</td>\n",
       "      <td>0.333333</td>\n",
       "      <td>0.333333</td>\n",
       "    </tr>\n",
       "    <tr>\n",
       "      <th>std</th>\n",
       "      <td>18.630619</td>\n",
       "      <td>0.470009</td>\n",
       "      <td>0.470009</td>\n",
       "      <td>0.470009</td>\n",
       "      <td>0.431139</td>\n",
       "      <td>0.298365</td>\n",
       "      <td>0.662430</td>\n",
       "      <td>0.349805</td>\n",
       "      <td>0.349805</td>\n",
       "      <td>0.350338</td>\n",
       "      <td>0.350338</td>\n",
       "      <td>0.349805</td>\n",
       "      <td>0.349805</td>\n",
       "      <td>0.349805</td>\n",
       "      <td>0.275290</td>\n",
       "      <td>0.284575</td>\n",
       "      <td>0.296296</td>\n",
       "      <td>0.287572</td>\n",
       "      <td>0.272897</td>\n",
       "      <td>0.268840</td>\n",
       "      <td>0.272897</td>\n",
       "      <td>0.272897</td>\n",
       "      <td>0.268840</td>\n",
       "      <td>0.272897</td>\n",
       "      <td>0.268840</td>\n",
       "      <td>0.272897</td>\n",
       "      <td>0.380992</td>\n",
       "      <td>0.393377</td>\n",
       "      <td>0.392966</td>\n",
       "      <td>0.392966</td>\n",
       "      <td>0.392966</td>\n",
       "      <td>0.237720</td>\n",
       "      <td>0.134031</td>\n",
       "      <td>0.161101</td>\n",
       "      <td>0.162629</td>\n",
       "      <td>0.091079</td>\n",
       "      <td>0.471446</td>\n",
       "      <td>0.471446</td>\n",
       "      <td>0.471446</td>\n",
       "    </tr>\n",
       "    <tr>\n",
       "      <th>min</th>\n",
       "      <td>0.000000</td>\n",
       "      <td>0.000000</td>\n",
       "      <td>0.000000</td>\n",
       "      <td>0.000000</td>\n",
       "      <td>5.446415</td>\n",
       "      <td>4.480000</td>\n",
       "      <td>3.428941</td>\n",
       "      <td>0.000000</td>\n",
       "      <td>0.000000</td>\n",
       "      <td>0.000000</td>\n",
       "      <td>0.000000</td>\n",
       "      <td>0.000000</td>\n",
       "      <td>0.000000</td>\n",
       "      <td>0.000000</td>\n",
       "      <td>0.000000</td>\n",
       "      <td>0.000000</td>\n",
       "      <td>0.000000</td>\n",
       "      <td>0.000000</td>\n",
       "      <td>0.000000</td>\n",
       "      <td>0.000000</td>\n",
       "      <td>0.000000</td>\n",
       "      <td>0.000000</td>\n",
       "      <td>0.000000</td>\n",
       "      <td>0.000000</td>\n",
       "      <td>0.000000</td>\n",
       "      <td>0.000000</td>\n",
       "      <td>0.000000</td>\n",
       "      <td>0.000000</td>\n",
       "      <td>0.000000</td>\n",
       "      <td>0.000000</td>\n",
       "      <td>0.000000</td>\n",
       "      <td>0.000000</td>\n",
       "      <td>0.000000</td>\n",
       "      <td>0.000000</td>\n",
       "      <td>0.000000</td>\n",
       "      <td>0.000000</td>\n",
       "      <td>0.000000</td>\n",
       "      <td>0.000000</td>\n",
       "      <td>0.000000</td>\n",
       "    </tr>\n",
       "    <tr>\n",
       "      <th>25%</th>\n",
       "      <td>47.000000</td>\n",
       "      <td>0.000000</td>\n",
       "      <td>0.000000</td>\n",
       "      <td>0.000000</td>\n",
       "      <td>6.039063</td>\n",
       "      <td>4.970000</td>\n",
       "      <td>4.095943</td>\n",
       "      <td>0.000000</td>\n",
       "      <td>0.000000</td>\n",
       "      <td>0.000000</td>\n",
       "      <td>0.000000</td>\n",
       "      <td>0.000000</td>\n",
       "      <td>0.000000</td>\n",
       "      <td>0.000000</td>\n",
       "      <td>0.000000</td>\n",
       "      <td>0.000000</td>\n",
       "      <td>0.000000</td>\n",
       "      <td>0.000000</td>\n",
       "      <td>0.000000</td>\n",
       "      <td>0.000000</td>\n",
       "      <td>0.000000</td>\n",
       "      <td>0.000000</td>\n",
       "      <td>0.000000</td>\n",
       "      <td>0.000000</td>\n",
       "      <td>0.000000</td>\n",
       "      <td>0.000000</td>\n",
       "      <td>0.000000</td>\n",
       "      <td>0.000000</td>\n",
       "      <td>0.000000</td>\n",
       "      <td>0.000000</td>\n",
       "      <td>0.000000</td>\n",
       "      <td>0.000000</td>\n",
       "      <td>0.000000</td>\n",
       "      <td>0.000000</td>\n",
       "      <td>0.000000</td>\n",
       "      <td>0.000000</td>\n",
       "      <td>0.000000</td>\n",
       "      <td>0.000000</td>\n",
       "      <td>0.000000</td>\n",
       "    </tr>\n",
       "    <tr>\n",
       "      <th>50%</th>\n",
       "      <td>59.000000</td>\n",
       "      <td>0.000000</td>\n",
       "      <td>0.000000</td>\n",
       "      <td>0.000000</td>\n",
       "      <td>6.398908</td>\n",
       "      <td>5.360000</td>\n",
       "      <td>4.514425</td>\n",
       "      <td>0.000000</td>\n",
       "      <td>0.000000</td>\n",
       "      <td>0.000000</td>\n",
       "      <td>0.000000</td>\n",
       "      <td>0.000000</td>\n",
       "      <td>0.000000</td>\n",
       "      <td>0.000000</td>\n",
       "      <td>0.000000</td>\n",
       "      <td>0.000000</td>\n",
       "      <td>0.000000</td>\n",
       "      <td>0.000000</td>\n",
       "      <td>0.000000</td>\n",
       "      <td>0.000000</td>\n",
       "      <td>0.000000</td>\n",
       "      <td>0.000000</td>\n",
       "      <td>0.000000</td>\n",
       "      <td>0.000000</td>\n",
       "      <td>0.000000</td>\n",
       "      <td>0.000000</td>\n",
       "      <td>0.000000</td>\n",
       "      <td>0.000000</td>\n",
       "      <td>0.000000</td>\n",
       "      <td>0.000000</td>\n",
       "      <td>0.000000</td>\n",
       "      <td>0.000000</td>\n",
       "      <td>0.000000</td>\n",
       "      <td>0.000000</td>\n",
       "      <td>0.000000</td>\n",
       "      <td>0.000000</td>\n",
       "      <td>0.000000</td>\n",
       "      <td>0.000000</td>\n",
       "      <td>0.000000</td>\n",
       "    </tr>\n",
       "    <tr>\n",
       "      <th>75%</th>\n",
       "      <td>72.000000</td>\n",
       "      <td>1.000000</td>\n",
       "      <td>1.000000</td>\n",
       "      <td>1.000000</td>\n",
       "      <td>6.798731</td>\n",
       "      <td>5.480000</td>\n",
       "      <td>5.219345</td>\n",
       "      <td>0.000000</td>\n",
       "      <td>0.000000</td>\n",
       "      <td>0.000000</td>\n",
       "      <td>0.000000</td>\n",
       "      <td>0.000000</td>\n",
       "      <td>0.000000</td>\n",
       "      <td>0.000000</td>\n",
       "      <td>0.000000</td>\n",
       "      <td>0.000000</td>\n",
       "      <td>0.000000</td>\n",
       "      <td>0.000000</td>\n",
       "      <td>0.000000</td>\n",
       "      <td>0.000000</td>\n",
       "      <td>0.000000</td>\n",
       "      <td>0.000000</td>\n",
       "      <td>0.000000</td>\n",
       "      <td>0.000000</td>\n",
       "      <td>0.000000</td>\n",
       "      <td>0.000000</td>\n",
       "      <td>0.000000</td>\n",
       "      <td>0.000000</td>\n",
       "      <td>0.000000</td>\n",
       "      <td>0.000000</td>\n",
       "      <td>0.000000</td>\n",
       "      <td>0.000000</td>\n",
       "      <td>0.000000</td>\n",
       "      <td>0.000000</td>\n",
       "      <td>0.000000</td>\n",
       "      <td>0.000000</td>\n",
       "      <td>1.000000</td>\n",
       "      <td>1.000000</td>\n",
       "      <td>1.000000</td>\n",
       "    </tr>\n",
       "    <tr>\n",
       "      <th>max</th>\n",
       "      <td>183.000000</td>\n",
       "      <td>1.000000</td>\n",
       "      <td>1.000000</td>\n",
       "      <td>1.000000</td>\n",
       "      <td>7.040315</td>\n",
       "      <td>5.825000</td>\n",
       "      <td>5.800847</td>\n",
       "      <td>1.000000</td>\n",
       "      <td>1.000000</td>\n",
       "      <td>1.000000</td>\n",
       "      <td>1.000000</td>\n",
       "      <td>1.000000</td>\n",
       "      <td>1.000000</td>\n",
       "      <td>1.000000</td>\n",
       "      <td>1.000000</td>\n",
       "      <td>1.000000</td>\n",
       "      <td>1.000000</td>\n",
       "      <td>1.000000</td>\n",
       "      <td>1.000000</td>\n",
       "      <td>1.000000</td>\n",
       "      <td>1.000000</td>\n",
       "      <td>1.000000</td>\n",
       "      <td>1.000000</td>\n",
       "      <td>1.000000</td>\n",
       "      <td>1.000000</td>\n",
       "      <td>1.000000</td>\n",
       "      <td>1.000000</td>\n",
       "      <td>1.000000</td>\n",
       "      <td>1.000000</td>\n",
       "      <td>1.000000</td>\n",
       "      <td>1.000000</td>\n",
       "      <td>1.000000</td>\n",
       "      <td>1.000000</td>\n",
       "      <td>1.000000</td>\n",
       "      <td>1.000000</td>\n",
       "      <td>1.000000</td>\n",
       "      <td>1.000000</td>\n",
       "      <td>1.000000</td>\n",
       "      <td>1.000000</td>\n",
       "    </tr>\n",
       "  </tbody>\n",
       "</table>\n",
       "</div>"
      ],
      "text/plain": [
       "             Sales      snap_CA      snap_TX      snap_WI  sell_price_mean  \\\n",
       "count  5739.000000  5739.000000  5739.000000  5739.000000      5739.000000   \n",
       "mean     60.678690     0.329326     0.329326     0.329326         6.364913   \n",
       "std      18.630619     0.470009     0.470009     0.470009         0.431139   \n",
       "min       0.000000     0.000000     0.000000     0.000000         5.446415   \n",
       "25%      47.000000     0.000000     0.000000     0.000000         6.039063   \n",
       "50%      59.000000     0.000000     0.000000     0.000000         6.398908   \n",
       "75%      72.000000     1.000000     1.000000     1.000000         6.798731   \n",
       "max     183.000000     1.000000     1.000000     1.000000         7.040315   \n",
       "\n",
       "       sell_price_median  sell_price_std       Friday       Monday  \\\n",
       "count        5739.000000     5739.000000  5739.000000  5739.000000   \n",
       "mean            5.284278        4.713428     0.142708     0.142708   \n",
       "std             0.298365        0.662430     0.349805     0.349805   \n",
       "min             4.480000        3.428941     0.000000     0.000000   \n",
       "25%             4.970000        4.095943     0.000000     0.000000   \n",
       "50%             5.360000        4.514425     0.000000     0.000000   \n",
       "75%             5.480000        5.219345     0.000000     0.000000   \n",
       "max             5.825000        5.800847     1.000000     1.000000   \n",
       "\n",
       "          Saturday       Sunday     Thursday      Tuesday    Wednesday  \\\n",
       "count  5739.000000  5739.000000  5739.000000  5739.000000  5739.000000   \n",
       "mean      0.143231     0.143231     0.142708     0.142708     0.142708   \n",
       "std       0.350338     0.350338     0.349805     0.349805     0.349805   \n",
       "min       0.000000     0.000000     0.000000     0.000000     0.000000   \n",
       "25%       0.000000     0.000000     0.000000     0.000000     0.000000   \n",
       "50%       0.000000     0.000000     0.000000     0.000000     0.000000   \n",
       "75%       0.000000     0.000000     0.000000     0.000000     0.000000   \n",
       "max       1.000000     1.000000     1.000000     1.000000     1.000000   \n",
       "\n",
       "               Jan          Feb          Mar          Apr          May  \\\n",
       "count  5739.000000  5739.000000  5739.000000  5739.000000  5739.000000   \n",
       "mean      0.082593     0.088866     0.097229     0.090957     0.081025   \n",
       "std       0.275290     0.284575     0.296296     0.287572     0.272897   \n",
       "min       0.000000     0.000000     0.000000     0.000000     0.000000   \n",
       "25%       0.000000     0.000000     0.000000     0.000000     0.000000   \n",
       "50%       0.000000     0.000000     0.000000     0.000000     0.000000   \n",
       "75%       0.000000     0.000000     0.000000     0.000000     0.000000   \n",
       "max       1.000000     1.000000     1.000000     1.000000     1.000000   \n",
       "\n",
       "              June         July          Agu          Sep          Oct  \\\n",
       "count  5739.000000  5739.000000  5739.000000  5739.000000  5739.000000   \n",
       "mean      0.078411     0.081025     0.081025     0.078411     0.081025   \n",
       "std       0.268840     0.272897     0.272897     0.268840     0.272897   \n",
       "min       0.000000     0.000000     0.000000     0.000000     0.000000   \n",
       "25%       0.000000     0.000000     0.000000     0.000000     0.000000   \n",
       "50%       0.000000     0.000000     0.000000     0.000000     0.000000   \n",
       "75%       0.000000     0.000000     0.000000     0.000000     0.000000   \n",
       "max       1.000000     1.000000     1.000000     1.000000     1.000000   \n",
       "\n",
       "               Nov          Dec        _2011        _2012        _2013  \\\n",
       "count  5739.000000  5739.000000  5739.000000  5739.000000  5739.000000   \n",
       "mean      0.078411     0.081025     0.176163     0.191323     0.190800   \n",
       "std       0.268840     0.272897     0.380992     0.393377     0.392966   \n",
       "min       0.000000     0.000000     0.000000     0.000000     0.000000   \n",
       "25%       0.000000     0.000000     0.000000     0.000000     0.000000   \n",
       "50%       0.000000     0.000000     0.000000     0.000000     0.000000   \n",
       "75%       0.000000     0.000000     0.000000     0.000000     0.000000   \n",
       "max       1.000000     1.000000     1.000000     1.000000     1.000000   \n",
       "\n",
       "             _2014        _2015        _2016     Cultural     National  \\\n",
       "count  5739.000000  5739.000000  5739.000000  5739.000000  5739.000000   \n",
       "mean      0.190800     0.190800     0.060115     0.018296     0.026660   \n",
       "std       0.392966     0.392966     0.237720     0.134031     0.161101   \n",
       "min       0.000000     0.000000     0.000000     0.000000     0.000000   \n",
       "25%       0.000000     0.000000     0.000000     0.000000     0.000000   \n",
       "50%       0.000000     0.000000     0.000000     0.000000     0.000000   \n",
       "75%       0.000000     0.000000     0.000000     0.000000     0.000000   \n",
       "max       1.000000     1.000000     1.000000     1.000000     1.000000   \n",
       "\n",
       "         Religious     Sporting         TX_1         TX_2         TX_3  \n",
       "count  5739.000000  5739.000000  5739.000000  5739.000000  5739.000000  \n",
       "mean      0.027182     0.008364     0.333333     0.333333     0.333333  \n",
       "std       0.162629     0.091079     0.471446     0.471446     0.471446  \n",
       "min       0.000000     0.000000     0.000000     0.000000     0.000000  \n",
       "25%       0.000000     0.000000     0.000000     0.000000     0.000000  \n",
       "50%       0.000000     0.000000     0.000000     0.000000     0.000000  \n",
       "75%       0.000000     0.000000     1.000000     1.000000     1.000000  \n",
       "max       1.000000     1.000000     1.000000     1.000000     1.000000  "
      ]
     },
     "execution_count": 21,
     "metadata": {},
     "output_type": "execute_result"
    }
   ],
   "source": [
    "data.describe()"
   ]
  },
  {
   "cell_type": "markdown",
   "metadata": {},
   "source": [
    "# Performance Function"
   ]
  },
  {
   "cell_type": "code",
   "execution_count": 22,
   "metadata": {},
   "outputs": [],
   "source": [
    "def performance_list(ID, forecast, actual):\n",
    "    name=ID\n",
    "    n=len(actual)\n",
    "    error=actual-forecast\n",
    "    mean=np.mean(actual)\n",
    "    sd=actual.std()\n",
    "    FBias=sum(error)/sum(actual)\n",
    "    MPE=sum(error/actual)/n\n",
    "    MAPE=sum(abs(error/actual))/n\n",
    "    RMSE=np.sqrt(sum(error**2))/n\n",
    "    MAD=sum(abs(error))/n\n",
    "    WMAPE=MAD/mean\n",
    "    result_df=pd.DataFrame({\"Name\" :       name ,\n",
    "                            \"# of inst\":       n,\n",
    "                            \"Mean\":         mean,\n",
    "                            \"Standard Dev.\":  sd, \n",
    "                            \"FBias\":       FBias, \n",
    "                            \"MPE\":           MPE, \n",
    "                            \"MAPE\":         MAPE,                                      \n",
    "                            \"RMSE\":         RMSE, \n",
    "                            \"MAD\":           MAD, \n",
    "                            \"WMAPE\":      WMAPE}, index=[0])\n",
    "    return(result_df)"
   ]
  },
  {
   "cell_type": "code",
   "execution_count": null,
   "metadata": {},
   "outputs": [],
   "source": []
  },
  {
   "cell_type": "code",
   "execution_count": 23,
   "metadata": {},
   "outputs": [
    {
     "data": {
      "text/plain": [
       "[<matplotlib.lines.Line2D at 0x14dc408b788>]"
      ]
     },
     "execution_count": 23,
     "metadata": {},
     "output_type": "execute_result"
    },
    {
     "data": {
      "image/png": "[encoded data removed]",
      "text/plain": [
       "<Figure size 432x288 with 1 Axes>"
      ]
     },
     "metadata": {
      "needs_background": "light"
     },
     "output_type": "display_data"
    }
   ],
   "source": [
    "plt.plot(data[data[\"TX_1\"]==1].Sales)"
   ]
  },
  {
   "cell_type": "code",
   "execution_count": null,
   "metadata": {},
   "outputs": [],
   "source": []
  },
  {
   "cell_type": "code",
   "execution_count": null,
   "metadata": {},
   "outputs": [],
   "source": []
  },
  {
   "cell_type": "code",
   "execution_count": null,
   "metadata": {},
   "outputs": [],
   "source": []
  },
  {
   "cell_type": "code",
   "execution_count": null,
   "metadata": {},
   "outputs": [],
   "source": []
  },
  {
   "cell_type": "code",
   "execution_count": null,
   "metadata": {},
   "outputs": [],
   "source": []
  },
  {
   "cell_type": "code",
   "execution_count": 24,
   "metadata": {},
   "outputs": [],
   "source": [
    "# data['trend']=(data[\"date\"]-data[\"date\"].min()).dt.days"
   ]
  },
  {
   "cell_type": "code",
   "execution_count": 25,
   "metadata": {},
   "outputs": [],
   "source": [
    "data.fillna(method=\"ffill\", inplace=True)"
   ]
  },
  {
   "cell_type": "markdown",
   "metadata": {},
   "source": [
    "### Train & Test"
   ]
  },
  {
   "cell_type": "code",
   "execution_count": 26,
   "metadata": {},
   "outputs": [],
   "source": [
    "# train=data[data[\"date\"]<((data[\"date\"].max()-data[\"date\"].min())*0.8)+data[\"date\"].min()]"
   ]
  },
  {
   "cell_type": "code",
   "execution_count": 27,
   "metadata": {},
   "outputs": [],
   "source": [
    "# test=data[data[\"date\"]>=((data[\"date\"].max()-data[\"date\"].min())*0.8)+data[\"date\"].min()]\n",
    "# test.reset_index(drop=True, inplace=True)"
   ]
  },
  {
   "cell_type": "code",
   "execution_count": null,
   "metadata": {},
   "outputs": [],
   "source": []
  },
  {
   "cell_type": "markdown",
   "metadata": {},
   "source": [
    "### Train & Test Actual"
   ]
  },
  {
   "cell_type": "code",
   "execution_count": 28,
   "metadata": {},
   "outputs": [],
   "source": [
    "import datetime as datetime"
   ]
  },
  {
   "cell_type": "code",
   "execution_count": 29,
   "metadata": {},
   "outputs": [],
   "source": [
    "test_lenght=28\n",
    "specific_date=data[\"date\"].max()-datetime.timedelta(28)"
   ]
  },
  {
   "cell_type": "code",
   "execution_count": 30,
   "metadata": {},
   "outputs": [],
   "source": [
    "train=data[data[\"date\"]<=specific_date]"
   ]
  },
  {
   "cell_type": "code",
   "execution_count": 31,
   "metadata": {},
   "outputs": [],
   "source": [
    "test=data[data[\"date\"]>specific_date]\n",
    "test.reset_index(drop=True, inplace=True)"
   ]
  },
  {
   "cell_type": "markdown",
   "metadata": {},
   "source": [
    "### Date and Customer Drop"
   ]
  },
  {
   "cell_type": "code",
   "execution_count": 32,
   "metadata": {},
   "outputs": [],
   "source": [
    "train=train.drop([\"date\"], axis=1)\n",
    "test=test.drop([\"date\"], axis=1)"
   ]
  },
  {
   "cell_type": "code",
   "execution_count": 33,
   "metadata": {},
   "outputs": [],
   "source": [
    "X_train, y_train=train.drop([\"Sales\"], axis=1), train[\"Sales\"]\n",
    "X_test, y_test=test.drop([\"Sales\"], axis=1), test[\"Sales\"]"
   ]
  },
  {
   "cell_type": "code",
   "execution_count": null,
   "metadata": {},
   "outputs": [],
   "source": []
  },
  {
   "cell_type": "markdown",
   "metadata": {},
   "source": [
    "# Linear Regression-Elastic Net"
   ]
  },
  {
   "cell_type": "code",
   "execution_count": 34,
   "metadata": {},
   "outputs": [],
   "source": [
    "from sklearn.model_selection import GridSearchCV"
   ]
  },
  {
   "cell_type": "code",
   "execution_count": 35,
   "metadata": {},
   "outputs": [],
   "source": [
    "from sklearn.linear_model import ElasticNet"
   ]
  },
  {
   "cell_type": "markdown",
   "metadata": {},
   "source": [
    "### Grid"
   ]
  },
  {
   "cell_type": "code",
   "execution_count": 36,
   "metadata": {},
   "outputs": [],
   "source": [
    "elastic_net_model = ElasticNet()"
   ]
  },
  {
   "cell_type": "code",
   "execution_count": 37,
   "metadata": {},
   "outputs": [],
   "source": [
    "param_grid_elastic=[\n",
    "    {\"alpha\":[0.1,0.2,0.3,0.4], \"l1_ratio\":[0.2,0.4,0.6]}\n",
    "]"
   ]
  },
  {
   "cell_type": "code",
   "execution_count": 38,
   "metadata": {},
   "outputs": [],
   "source": [
    "elastic_net = GridSearchCV(estimator=elastic_net_model, param_grid=param_grid_elastic,\n",
    "                 cv=10,return_train_score=True)"
   ]
  },
  {
   "cell_type": "code",
   "execution_count": 39,
   "metadata": {},
   "outputs": [
    {
     "data": {
      "text/plain": [
       "GridSearchCV(cv=10, estimator=ElasticNet(),\n",
       "             param_grid=[{'alpha': [0.1, 0.2, 0.3, 0.4],\n",
       "                          'l1_ratio': [0.2, 0.4, 0.6]}],\n",
       "             return_train_score=True)"
      ]
     },
     "execution_count": 39,
     "metadata": {},
     "output_type": "execute_result"
    }
   ],
   "source": [
    "elastic_net.fit(X_train, y_train)"
   ]
  },
  {
   "cell_type": "code",
   "execution_count": 40,
   "metadata": {},
   "outputs": [],
   "source": [
    "elastic_predictions=elastic_net.predict(X_test)"
   ]
  },
  {
   "cell_type": "code",
   "execution_count": 41,
   "metadata": {},
   "outputs": [
    {
     "data": {
      "text/html": [
       "<div>\n",
       "<style scoped>\n",
       "    .dataframe tbody tr th:only-of-type {\n",
       "        vertical-align: middle;\n",
       "    }\n",
       "\n",
       "    .dataframe tbody tr th {\n",
       "        vertical-align: top;\n",
       "    }\n",
       "\n",
       "    .dataframe thead th {\n",
       "        text-align: right;\n",
       "    }\n",
       "</style>\n",
       "<table border=\"1\" class=\"dataframe\">\n",
       "  <thead>\n",
       "    <tr style=\"text-align: right;\">\n",
       "      <th></th>\n",
       "      <th>Name</th>\n",
       "      <th># of inst</th>\n",
       "      <th>Mean</th>\n",
       "      <th>Standard Dev.</th>\n",
       "      <th>FBias</th>\n",
       "      <th>MPE</th>\n",
       "      <th>MAPE</th>\n",
       "      <th>RMSE</th>\n",
       "      <th>MAD</th>\n",
       "      <th>WMAPE</th>\n",
       "    </tr>\n",
       "  </thead>\n",
       "  <tbody>\n",
       "    <tr>\n",
       "      <th>0</th>\n",
       "      <td>Control</td>\n",
       "      <td>5655</td>\n",
       "      <td>60.409549</td>\n",
       "      <td>18.4976</td>\n",
       "      <td>4.916992e-17</td>\n",
       "      <td>-inf</td>\n",
       "      <td>inf</td>\n",
       "      <td>0.183687</td>\n",
       "      <td>10.593755</td>\n",
       "      <td>0.175366</td>\n",
       "    </tr>\n",
       "  </tbody>\n",
       "</table>\n",
       "</div>"
      ],
      "text/plain": [
       "      Name  # of inst       Mean  Standard Dev.         FBias  MPE  MAPE  \\\n",
       "0  Control       5655  60.409549        18.4976  4.916992e-17 -inf   inf   \n",
       "\n",
       "       RMSE        MAD     WMAPE  \n",
       "0  0.183687  10.593755  0.175366  "
      ]
     },
     "execution_count": 41,
     "metadata": {},
     "output_type": "execute_result"
    }
   ],
   "source": [
    "performance_list(\"Control\", elastic_net.predict(X_train), y_train)"
   ]
  },
  {
   "cell_type": "code",
   "execution_count": 42,
   "metadata": {},
   "outputs": [],
   "source": [
    "res_elastic=performance_list(\"Elastic Net Performance\", elastic_predictions, y_test)"
   ]
  },
  {
   "cell_type": "code",
   "execution_count": 43,
   "metadata": {},
   "outputs": [
    {
     "data": {
      "text/html": [
       "<div>\n",
       "<style scoped>\n",
       "    .dataframe tbody tr th:only-of-type {\n",
       "        vertical-align: middle;\n",
       "    }\n",
       "\n",
       "    .dataframe tbody tr th {\n",
       "        vertical-align: top;\n",
       "    }\n",
       "\n",
       "    .dataframe thead th {\n",
       "        text-align: right;\n",
       "    }\n",
       "</style>\n",
       "<table border=\"1\" class=\"dataframe\">\n",
       "  <thead>\n",
       "    <tr style=\"text-align: right;\">\n",
       "      <th></th>\n",
       "      <th>Name</th>\n",
       "      <th># of inst</th>\n",
       "      <th>Mean</th>\n",
       "      <th>Standard Dev.</th>\n",
       "      <th>FBias</th>\n",
       "      <th>MPE</th>\n",
       "      <th>MAPE</th>\n",
       "      <th>RMSE</th>\n",
       "      <th>MAD</th>\n",
       "      <th>WMAPE</th>\n",
       "    </tr>\n",
       "  </thead>\n",
       "  <tbody>\n",
       "    <tr>\n",
       "      <th>0</th>\n",
       "      <td>Elastic Net Performance</td>\n",
       "      <td>84</td>\n",
       "      <td>78.797619</td>\n",
       "      <td>18.722308</td>\n",
       "      <td>0.152062</td>\n",
       "      <td>0.118913</td>\n",
       "      <td>0.175918</td>\n",
       "      <td>2.08539</td>\n",
       "      <td>15.012371</td>\n",
       "      <td>0.190518</td>\n",
       "    </tr>\n",
       "  </tbody>\n",
       "</table>\n",
       "</div>"
      ],
      "text/plain": [
       "                      Name  # of inst       Mean  Standard Dev.     FBias  \\\n",
       "0  Elastic Net Performance         84  78.797619      18.722308  0.152062   \n",
       "\n",
       "        MPE      MAPE     RMSE        MAD     WMAPE  \n",
       "0  0.118913  0.175918  2.08539  15.012371  0.190518  "
      ]
     },
     "execution_count": 43,
     "metadata": {},
     "output_type": "execute_result"
    }
   ],
   "source": [
    "res_elastic"
   ]
  },
  {
   "cell_type": "code",
   "execution_count": null,
   "metadata": {},
   "outputs": [],
   "source": []
  },
  {
   "cell_type": "code",
   "execution_count": null,
   "metadata": {},
   "outputs": [],
   "source": []
  },
  {
   "cell_type": "markdown",
   "metadata": {},
   "source": [
    "# Support Vector Machines"
   ]
  },
  {
   "cell_type": "code",
   "execution_count": null,
   "metadata": {},
   "outputs": [],
   "source": []
  },
  {
   "cell_type": "markdown",
   "metadata": {},
   "source": [
    "### Linear"
   ]
  },
  {
   "cell_type": "code",
   "execution_count": 44,
   "metadata": {},
   "outputs": [],
   "source": [
    "from sklearn.svm import LinearSVR"
   ]
  },
  {
   "cell_type": "code",
   "execution_count": 45,
   "metadata": {},
   "outputs": [],
   "source": [
    "sv_regressor=LinearSVR()"
   ]
  },
  {
   "cell_type": "markdown",
   "metadata": {},
   "source": [
    "### Grid"
   ]
  },
  {
   "cell_type": "code",
   "execution_count": 46,
   "metadata": {},
   "outputs": [],
   "source": [
    "param_grid_svm_linear=[\n",
    "    {\"epsilon\":[0.5,1,1.5]}\n",
    "]"
   ]
  },
  {
   "cell_type": "code",
   "execution_count": 47,
   "metadata": {},
   "outputs": [],
   "source": [
    "sv_regressor = GridSearchCV(estimator=sv_regressor, param_grid=param_grid_svm_linear,\n",
    "                 cv=10,return_train_score=True)"
   ]
  },
  {
   "cell_type": "code",
   "execution_count": 48,
   "metadata": {
    "scrolled": true
   },
   "outputs": [
    {
     "data": {
      "text/plain": [
       "GridSearchCV(cv=10, estimator=LinearSVR(),\n",
       "             param_grid=[{'epsilon': [0.5, 1, 1.5]}], return_train_score=True)"
      ]
     },
     "execution_count": 48,
     "metadata": {},
     "output_type": "execute_result"
    }
   ],
   "source": [
    "sv_regressor.fit(X_train, y_train)"
   ]
  },
  {
   "cell_type": "markdown",
   "metadata": {},
   "source": [
    "### Poly with Kernel"
   ]
  },
  {
   "cell_type": "code",
   "execution_count": 49,
   "metadata": {},
   "outputs": [],
   "source": [
    "from sklearn.svm import SVR"
   ]
  },
  {
   "cell_type": "markdown",
   "metadata": {},
   "source": [
    "### Grid"
   ]
  },
  {
   "cell_type": "code",
   "execution_count": 50,
   "metadata": {},
   "outputs": [],
   "source": [
    "param_grid_svm_poly=[\n",
    "    {\"degree\":[2,3], \"epsilon\":[0.02,0.05, 0.1, 0.15, 0.2]}\n",
    "]"
   ]
  },
  {
   "cell_type": "code",
   "execution_count": 51,
   "metadata": {},
   "outputs": [],
   "source": [
    "sv_regressor_poly=SVR(kernel=\"poly\")"
   ]
  },
  {
   "cell_type": "code",
   "execution_count": 52,
   "metadata": {},
   "outputs": [],
   "source": [
    "sv_regressor_poly = GridSearchCV(estimator=sv_regressor_poly, param_grid=param_grid_svm_poly,\n",
    "                 cv=10,return_train_score=True)"
   ]
  },
  {
   "cell_type": "code",
   "execution_count": null,
   "metadata": {},
   "outputs": [],
   "source": [
    "sv_regressor_poly.fit(X_train, y_train)"
   ]
  },
  {
   "cell_type": "code",
   "execution_count": null,
   "metadata": {},
   "outputs": [],
   "source": [
    "sv_regressor_poly.best_estimator_"
   ]
  },
  {
   "cell_type": "markdown",
   "metadata": {},
   "source": [
    "### Predictions"
   ]
  },
  {
   "cell_type": "code",
   "execution_count": null,
   "metadata": {},
   "outputs": [],
   "source": [
    "svm_predictions_linear=sv_regressor.predict(X_test)"
   ]
  },
  {
   "cell_type": "code",
   "execution_count": null,
   "metadata": {},
   "outputs": [],
   "source": [
    "res_svr_linear=performance_list(\"Support Vector Regressor Linear Performance\", svm_predictions_linear, y_test)"
   ]
  },
  {
   "cell_type": "code",
   "execution_count": null,
   "metadata": {},
   "outputs": [],
   "source": []
  },
  {
   "cell_type": "code",
   "execution_count": null,
   "metadata": {},
   "outputs": [],
   "source": [
    "svm_predictions_poly=sv_regressor_poly.predict(X_test)"
   ]
  },
  {
   "cell_type": "code",
   "execution_count": null,
   "metadata": {},
   "outputs": [],
   "source": [
    "res_svr_poly=performance_list(\"Support Vector Regressor Polynomial Performance\", svm_predictions_poly, y_test)"
   ]
  },
  {
   "cell_type": "code",
   "execution_count": null,
   "metadata": {},
   "outputs": [],
   "source": []
  },
  {
   "cell_type": "code",
   "execution_count": null,
   "metadata": {},
   "outputs": [],
   "source": []
  },
  {
   "cell_type": "code",
   "execution_count": null,
   "metadata": {},
   "outputs": [],
   "source": [
    "performance_list(\"Control\", sv_regressor.predict(X_train), y_train)"
   ]
  },
  {
   "cell_type": "code",
   "execution_count": null,
   "metadata": {},
   "outputs": [],
   "source": [
    "performance_list(\"Control\", sv_regressor_poly.predict(X_train), y_train)"
   ]
  },
  {
   "cell_type": "markdown",
   "metadata": {},
   "source": [
    "### Results"
   ]
  },
  {
   "cell_type": "code",
   "execution_count": null,
   "metadata": {},
   "outputs": [],
   "source": [
    "res_svr_linear"
   ]
  },
  {
   "cell_type": "code",
   "execution_count": null,
   "metadata": {},
   "outputs": [],
   "source": [
    "res_svr_poly"
   ]
  },
  {
   "cell_type": "markdown",
   "metadata": {},
   "source": [
    "# Random Forest"
   ]
  },
  {
   "cell_type": "code",
   "execution_count": null,
   "metadata": {},
   "outputs": [],
   "source": [
    "from sklearn.ensemble import RandomForestRegressor"
   ]
  },
  {
   "cell_type": "markdown",
   "metadata": {},
   "source": [
    "### Grid"
   ]
  },
  {
   "cell_type": "code",
   "execution_count": null,
   "metadata": {},
   "outputs": [],
   "source": [
    "param_grid=[\n",
    "    {\"n_estimators\":[200,300,500], \"max_features\":[8,12,16],\n",
    "     \"bootstrap\":[False,True]}\n",
    "]"
   ]
  },
  {
   "cell_type": "code",
   "execution_count": null,
   "metadata": {},
   "outputs": [],
   "source": [
    "random_reg=RandomForestRegressor()\n",
    "grid_search = GridSearchCV(estimator=random_reg, param_grid=param_grid,\n",
    "                 cv=10,return_train_score=True)"
   ]
  },
  {
   "cell_type": "markdown",
   "metadata": {},
   "source": [
    "### Predictions"
   ]
  },
  {
   "cell_type": "code",
   "execution_count": null,
   "metadata": {},
   "outputs": [],
   "source": [
    "grid_search.fit(X_train, y_train)"
   ]
  },
  {
   "cell_type": "code",
   "execution_count": null,
   "metadata": {},
   "outputs": [],
   "source": [
    "grid_search.best_params_"
   ]
  },
  {
   "cell_type": "markdown",
   "metadata": {},
   "source": [
    "### Results"
   ]
  },
  {
   "cell_type": "code",
   "execution_count": null,
   "metadata": {},
   "outputs": [],
   "source": [
    "rf_predictions=grid_search.predict(X_test)"
   ]
  },
  {
   "cell_type": "code",
   "execution_count": null,
   "metadata": {},
   "outputs": [],
   "source": [
    "res_rf=performance_list(\"Random Forest Performance\", rf_predictions, y_test)"
   ]
  },
  {
   "cell_type": "code",
   "execution_count": null,
   "metadata": {
    "scrolled": true
   },
   "outputs": [],
   "source": [
    "res_rf"
   ]
  },
  {
   "cell_type": "code",
   "execution_count": null,
   "metadata": {},
   "outputs": [],
   "source": []
  },
  {
   "cell_type": "code",
   "execution_count": null,
   "metadata": {},
   "outputs": [],
   "source": [
    "performance_list(\"Control\", grid_search.predict(X_train), y_train)"
   ]
  },
  {
   "cell_type": "code",
   "execution_count": null,
   "metadata": {},
   "outputs": [],
   "source": []
  },
  {
   "cell_type": "code",
   "execution_count": null,
   "metadata": {},
   "outputs": [],
   "source": []
  },
  {
   "cell_type": "code",
   "execution_count": null,
   "metadata": {},
   "outputs": [],
   "source": []
  },
  {
   "cell_type": "code",
   "execution_count": null,
   "metadata": {},
   "outputs": [],
   "source": []
  },
  {
   "cell_type": "markdown",
   "metadata": {},
   "source": [
    "# Feature Extraction"
   ]
  },
  {
   "cell_type": "code",
   "execution_count": null,
   "metadata": {},
   "outputs": [],
   "source": [
    "from sklearn.tree import DecisionTreeRegressor\n",
    "from sklearn.model_selection import GridSearchCV\n",
    "from sklearn import tree"
   ]
  },
  {
   "cell_type": "markdown",
   "metadata": {},
   "source": [
    "### Train Node Selection"
   ]
  },
  {
   "cell_type": "code",
   "execution_count": null,
   "metadata": {},
   "outputs": [],
   "source": [
    "grid_search = DecisionTreeRegressor()"
   ]
  },
  {
   "cell_type": "code",
   "execution_count": null,
   "metadata": {},
   "outputs": [],
   "source": [
    "param_grid_feature = [\n",
    "{'min_samples_leaf': [5, 7, 10, 15, 20], 'max_depth': [4, 5, 7, 10, 12, 15], 'min_samples_split': [30, 40, 50, 60, 80]}\n",
    "]"
   ]
  },
  {
   "cell_type": "code",
   "execution_count": null,
   "metadata": {},
   "outputs": [],
   "source": [
    "estimator_best = GridSearchCV(grid_search, param_grid_feature, cv=5)"
   ]
  },
  {
   "cell_type": "code",
   "execution_count": null,
   "metadata": {},
   "outputs": [],
   "source": [
    "estimator_best.fit(X_train, y_train, )"
   ]
  },
  {
   "cell_type": "markdown",
   "metadata": {},
   "source": [
    "## Best Parameters"
   ]
  },
  {
   "cell_type": "code",
   "execution_count": null,
   "metadata": {},
   "outputs": [],
   "source": [
    "estimator_best.best_estimator_"
   ]
  },
  {
   "cell_type": "markdown",
   "metadata": {},
   "source": [
    "### Final Decision Tree"
   ]
  },
  {
   "cell_type": "code",
   "execution_count": null,
   "metadata": {},
   "outputs": [],
   "source": [
    "estimator = DecisionTreeRegressor(max_depth= estimator_best.best_estimator_.max_depth, \n",
    "                                  min_impurity_decrease= estimator_best.best_estimator_.min_impurity_decrease,\n",
    "                                  min_samples_leaf= estimator_best.best_estimator_.min_samples_leaf)"
   ]
  },
  {
   "cell_type": "code",
   "execution_count": null,
   "metadata": {},
   "outputs": [],
   "source": [
    "estimator.fit(X_train, y_train)"
   ]
  },
  {
   "cell_type": "code",
   "execution_count": null,
   "metadata": {},
   "outputs": [],
   "source": [
    "on_leaf = estimator.apply(X_train)\n",
    "X_train_ext=X_train[:]\n",
    "X_train_ext[\"Node\"] = on_leaf.tolist()"
   ]
  },
  {
   "cell_type": "code",
   "execution_count": null,
   "metadata": {},
   "outputs": [],
   "source": [
    "plt.figure(figsize=(14, 8)) \n",
    "plt.show(tree.plot_tree(estimator,filled=True, fontsize=8))"
   ]
  },
  {
   "cell_type": "code",
   "execution_count": null,
   "metadata": {},
   "outputs": [],
   "source": [
    "X_train_ext"
   ]
  },
  {
   "cell_type": "code",
   "execution_count": null,
   "metadata": {},
   "outputs": [],
   "source": []
  },
  {
   "cell_type": "code",
   "execution_count": null,
   "metadata": {},
   "outputs": [],
   "source": []
  },
  {
   "cell_type": "markdown",
   "metadata": {},
   "source": [
    "### Test Node Selection"
   ]
  },
  {
   "cell_type": "code",
   "execution_count": null,
   "metadata": {},
   "outputs": [],
   "source": [
    "on_leaf_test = estimator.apply(X_test)"
   ]
  },
  {
   "cell_type": "code",
   "execution_count": null,
   "metadata": {},
   "outputs": [],
   "source": [
    "X_test_ext=X_test[:]"
   ]
  },
  {
   "cell_type": "code",
   "execution_count": null,
   "metadata": {},
   "outputs": [],
   "source": [
    "X_test_ext[\"Node\"] = on_leaf_test.tolist()"
   ]
  },
  {
   "cell_type": "code",
   "execution_count": null,
   "metadata": {},
   "outputs": [],
   "source": [
    "X_test_ext"
   ]
  },
  {
   "cell_type": "code",
   "execution_count": null,
   "metadata": {},
   "outputs": [],
   "source": []
  },
  {
   "cell_type": "code",
   "execution_count": null,
   "metadata": {},
   "outputs": [],
   "source": []
  },
  {
   "cell_type": "code",
   "execution_count": null,
   "metadata": {},
   "outputs": [],
   "source": []
  },
  {
   "cell_type": "markdown",
   "metadata": {},
   "source": [
    "### Feature Adding"
   ]
  },
  {
   "cell_type": "markdown",
   "metadata": {},
   "source": [
    "Ma=1 kullanıldı daha hızlı bir şekilde anlaşılması için"
   ]
  },
  {
   "cell_type": "code",
   "execution_count": 516,
   "metadata": {},
   "outputs": [],
   "source": [
    "Xframes_feature=[X_train_ext, X_test_ext]\n",
    "yframes_feature=[y_train, y_test]\n",
    "X_concat=pd.concat(Xframes_feature)\n",
    "Y_concat=pd.concat(yframes_feature)\n",
    "final_frame=[X_concat, Y_concat]\n",
    "concated_df=pd.concat(final_frame, axis=1)"
   ]
  },
  {
   "cell_type": "code",
   "execution_count": 517,
   "metadata": {},
   "outputs": [],
   "source": [
    "concated_df[\"new_feature\"] = concated_df.groupby([\"Node\"])[\"Sales\"].shift(+1)"
   ]
  },
  {
   "cell_type": "markdown",
   "metadata": {},
   "source": [
    "# Feature Control"
   ]
  },
  {
   "cell_type": "code",
   "execution_count": 518,
   "metadata": {},
   "outputs": [
    {
     "data": {
      "text/plain": [
       "32    1608\n",
       "6      787\n",
       "35     652\n",
       "33     402\n",
       "36     326\n",
       "39     314\n",
       "13     177\n",
       "47     165\n",
       "48     152\n",
       "5      146\n",
       "57     129\n",
       "8      116\n",
       "42     103\n",
       "43     101\n",
       "40      82\n",
       "19      69\n",
       "50      65\n",
       "26      60\n",
       "9       58\n",
       "54      54\n",
       "27      54\n",
       "12      39\n",
       "23      23\n",
       "51      17\n",
       "58      12\n",
       "20       6\n",
       "55       6\n",
       "14       6\n",
       "24       5\n",
       "18       5\n",
       "Name: Node, dtype: int64"
      ]
     },
     "execution_count": 518,
     "metadata": {},
     "output_type": "execute_result"
    }
   ],
   "source": [
    "concated_df[\"Node\"].value_counts()"
   ]
  },
  {
   "cell_type": "code",
   "execution_count": 519,
   "metadata": {},
   "outputs": [
    {
     "data": {
      "text/plain": [
       "56    36\n",
       "57    36\n",
       "58    36\n",
       "59    36\n",
       "60    36\n",
       "61    43\n",
       "62    57\n",
       "63    36\n",
       "64    36\n",
       "65    36\n",
       "66    36\n",
       "67    36\n",
       "68    43\n",
       "69    57\n",
       "70    36\n",
       "71    36\n",
       "72    36\n",
       "73    36\n",
       "74    36\n",
       "75    43\n",
       "76    57\n",
       "77    36\n",
       "78    36\n",
       "79    36\n",
       "80    36\n",
       "81    36\n",
       "82    43\n",
       "83    57\n",
       "Name: Node, dtype: int64"
      ]
     },
     "execution_count": 519,
     "metadata": {},
     "output_type": "execute_result"
    }
   ],
   "source": [
    "concated_df[-28:].Node"
   ]
  },
  {
   "cell_type": "markdown",
   "metadata": {},
   "source": [
    "## New Feature Adding to Test Set"
   ]
  },
  {
   "cell_type": "code",
   "execution_count": 520,
   "metadata": {},
   "outputs": [],
   "source": [
    "for i in list(range(0,28)):\n",
    "    current_node=concated_df.iloc[-(28-i)].Node\n",
    "    train_dt=concated_df.iloc[:-28]\n",
    "    new_value=train_dt[train_dt[\"Node\"]==int(current_node)].iloc[-1].Sales\n",
    "    concated_df.iloc[-(28-i),concated_df.shape[1]-1]=new_value"
   ]
  },
  {
   "cell_type": "code",
   "execution_count": null,
   "metadata": {},
   "outputs": [],
   "source": []
  },
  {
   "cell_type": "code",
   "execution_count": null,
   "metadata": {},
   "outputs": [],
   "source": []
  },
  {
   "cell_type": "code",
   "execution_count": null,
   "metadata": {},
   "outputs": [],
   "source": []
  },
  {
   "cell_type": "code",
   "execution_count": 521,
   "metadata": {},
   "outputs": [],
   "source": [
    "X_test_new=concated_df.iloc[len(X_train):].drop([\"Sales\",\"Node\"], axis=1)\n",
    "\n",
    "y_test_new=concated_df.iloc[len(X_train):][\"Sales\"]"
   ]
  },
  {
   "cell_type": "code",
   "execution_count": 522,
   "metadata": {},
   "outputs": [],
   "source": [
    "train_new=concated_df.iloc[:len(X_train)]"
   ]
  },
  {
   "cell_type": "code",
   "execution_count": 523,
   "metadata": {},
   "outputs": [
    {
     "name": "stderr",
     "output_type": "stream",
     "text": [
      "C:\\Users\\bahad\\anaconda3\\envs\\r-tutorial\\lib\\site-packages\\ipykernel_launcher.py:1: SettingWithCopyWarning: \n",
      "A value is trying to be set on a copy of a slice from a DataFrame\n",
      "\n",
      "See the caveats in the documentation: https://pandas.pydata.org/pandas-docs/stable/user_guide/indexing.html#returning-a-view-versus-a-copy\n",
      "  \"\"\"Entry point for launching an IPython kernel.\n"
     ]
    }
   ],
   "source": [
    "train_new.dropna(inplace=True);\n",
    "train_new.reset_index(drop=True, inplace=True)"
   ]
  },
  {
   "cell_type": "code",
   "execution_count": 524,
   "metadata": {},
   "outputs": [],
   "source": [
    "X_train_new=train_new.drop([\"Sales\",\"Node\"], axis=1)\n",
    "\n",
    "y_train_new=train_new[\"Sales\"]"
   ]
  },
  {
   "cell_type": "code",
   "execution_count": null,
   "metadata": {},
   "outputs": [],
   "source": []
  },
  {
   "cell_type": "code",
   "execution_count": null,
   "metadata": {},
   "outputs": [],
   "source": []
  },
  {
   "cell_type": "code",
   "execution_count": null,
   "metadata": {},
   "outputs": [],
   "source": []
  },
  {
   "cell_type": "markdown",
   "metadata": {},
   "source": [
    "# Linear Regression-Elastic Net"
   ]
  },
  {
   "cell_type": "markdown",
   "metadata": {},
   "source": [
    "### Grid"
   ]
  },
  {
   "cell_type": "code",
   "execution_count": 464,
   "metadata": {},
   "outputs": [],
   "source": [
    "elastic_net_model_new = ElasticNet()"
   ]
  },
  {
   "cell_type": "code",
   "execution_count": 465,
   "metadata": {},
   "outputs": [],
   "source": [
    "param_grid_elastic=[\n",
    "    {\"alpha\":[0.1,0.2,0.3,0.4], \"l1_ratio\":[0.2,0.4,0.6]}\n",
    "]"
   ]
  },
  {
   "cell_type": "code",
   "execution_count": 466,
   "metadata": {},
   "outputs": [],
   "source": [
    "elastic_net_new = GridSearchCV(estimator=elastic_net_model_new, param_grid=param_grid_elastic,\n",
    "                 cv=10,return_train_score=True)"
   ]
  },
  {
   "cell_type": "code",
   "execution_count": 467,
   "metadata": {},
   "outputs": [
    {
     "data": {
      "text/plain": [
       "GridSearchCV(cv=10, estimator=ElasticNet(),\n",
       "             param_grid=[{'alpha': [0.1, 0.2, 0.3, 0.4],\n",
       "                          'l1_ratio': [0.2, 0.4, 0.6]}],\n",
       "             return_train_score=True)"
      ]
     },
     "execution_count": 467,
     "metadata": {},
     "output_type": "execute_result"
    }
   ],
   "source": [
    "elastic_net_new.fit(X_train_new, y_train_new)"
   ]
  },
  {
   "cell_type": "code",
   "execution_count": 468,
   "metadata": {},
   "outputs": [],
   "source": [
    "elastic_predictions_new=elastic_net_new.predict(X_test_new)"
   ]
  },
  {
   "cell_type": "code",
   "execution_count": 469,
   "metadata": {},
   "outputs": [],
   "source": [
    "res_elastic_new=performance_list(\"Elastic Net Performance with Feature Extraction\", elastic_predictions_new, y_test_new)"
   ]
  },
  {
   "cell_type": "code",
   "execution_count": 470,
   "metadata": {},
   "outputs": [
    {
     "data": {
      "text/html": [
       "<div>\n",
       "<style scoped>\n",
       "    .dataframe tbody tr th:only-of-type {\n",
       "        vertical-align: middle;\n",
       "    }\n",
       "\n",
       "    .dataframe tbody tr th {\n",
       "        vertical-align: top;\n",
       "    }\n",
       "\n",
       "    .dataframe thead th {\n",
       "        text-align: right;\n",
       "    }\n",
       "</style>\n",
       "<table border=\"1\" class=\"dataframe\">\n",
       "  <thead>\n",
       "    <tr style=\"text-align: right;\">\n",
       "      <th></th>\n",
       "      <th>Name</th>\n",
       "      <th># of inst</th>\n",
       "      <th>Mean</th>\n",
       "      <th>Standard Dev.</th>\n",
       "      <th>FBias</th>\n",
       "      <th>MPE</th>\n",
       "      <th>MAPE</th>\n",
       "      <th>RMSE</th>\n",
       "      <th>MAD</th>\n",
       "      <th>WMAPE</th>\n",
       "    </tr>\n",
       "  </thead>\n",
       "  <tbody>\n",
       "    <tr>\n",
       "      <th>0</th>\n",
       "      <td>Elastic Net Performance with Feature Extraction</td>\n",
       "      <td>84</td>\n",
       "      <td>78.79761905</td>\n",
       "      <td>18.72230791</td>\n",
       "      <td>0.07249924</td>\n",
       "      <td>0.03542625</td>\n",
       "      <td>0.15722413</td>\n",
       "      <td>1.76415058</td>\n",
       "      <td>12.78923289</td>\n",
       "      <td>0.16230481</td>\n",
       "    </tr>\n",
       "  </tbody>\n",
       "</table>\n",
       "</div>"
      ],
      "text/plain": [
       "                                              Name  # of inst        Mean  \\\n",
       "0  Elastic Net Performance with Feature Extraction         84 78.79761905   \n",
       "\n",
       "   Standard Dev.      FBias        MPE       MAPE       RMSE         MAD  \\\n",
       "0    18.72230791 0.07249924 0.03542625 0.15722413 1.76415058 12.78923289   \n",
       "\n",
       "       WMAPE  \n",
       "0 0.16230481  "
      ]
     },
     "execution_count": 470,
     "metadata": {},
     "output_type": "execute_result"
    }
   ],
   "source": [
    "res_elastic_new"
   ]
  },
  {
   "cell_type": "markdown",
   "metadata": {},
   "source": [
    "### SVM"
   ]
  },
  {
   "cell_type": "markdown",
   "metadata": {},
   "source": [
    "#### Linear"
   ]
  },
  {
   "cell_type": "code",
   "execution_count": 471,
   "metadata": {},
   "outputs": [],
   "source": [
    "sv_regressor_new=LinearSVR()"
   ]
  },
  {
   "cell_type": "markdown",
   "metadata": {},
   "source": [
    "### Grid"
   ]
  },
  {
   "cell_type": "code",
   "execution_count": 472,
   "metadata": {},
   "outputs": [],
   "source": [
    "param_grid_svm_linear=[\n",
    "    {\"epsilon\":[0.5,1,1.5]}\n",
    "]"
   ]
  },
  {
   "cell_type": "code",
   "execution_count": 473,
   "metadata": {},
   "outputs": [],
   "source": [
    "sv_regressor_new = GridSearchCV(estimator=sv_regressor_new, param_grid=param_grid_svm_linear,\n",
    "                 cv=10,return_train_score=True,)"
   ]
  },
  {
   "cell_type": "code",
   "execution_count": 474,
   "metadata": {},
   "outputs": [
    {
     "name": "stderr",
     "output_type": "stream",
     "text": [
      "C:\\Users\\bahad\\anaconda3\\envs\\r-tutorial\\lib\\site-packages\\sklearn\\svm\\_base.py:977: ConvergenceWarning: Liblinear failed to converge, increase the number of iterations.\n",
      "  \"the number of iterations.\", ConvergenceWarning)\n",
      "C:\\Users\\bahad\\anaconda3\\envs\\r-tutorial\\lib\\site-packages\\sklearn\\svm\\_base.py:977: ConvergenceWarning: Liblinear failed to converge, increase the number of iterations.\n",
      "  \"the number of iterations.\", ConvergenceWarning)\n",
      "C:\\Users\\bahad\\anaconda3\\envs\\r-tutorial\\lib\\site-packages\\sklearn\\svm\\_base.py:977: ConvergenceWarning: Liblinear failed to converge, increase the number of iterations.\n",
      "  \"the number of iterations.\", ConvergenceWarning)\n",
      "C:\\Users\\bahad\\anaconda3\\envs\\r-tutorial\\lib\\site-packages\\sklearn\\svm\\_base.py:977: ConvergenceWarning: Liblinear failed to converge, increase the number of iterations.\n",
      "  \"the number of iterations.\", ConvergenceWarning)\n",
      "C:\\Users\\bahad\\anaconda3\\envs\\r-tutorial\\lib\\site-packages\\sklearn\\svm\\_base.py:977: ConvergenceWarning: Liblinear failed to converge, increase the number of iterations.\n",
      "  \"the number of iterations.\", ConvergenceWarning)\n",
      "C:\\Users\\bahad\\anaconda3\\envs\\r-tutorial\\lib\\site-packages\\sklearn\\svm\\_base.py:977: ConvergenceWarning: Liblinear failed to converge, increase the number of iterations.\n",
      "  \"the number of iterations.\", ConvergenceWarning)\n",
      "C:\\Users\\bahad\\anaconda3\\envs\\r-tutorial\\lib\\site-packages\\sklearn\\svm\\_base.py:977: ConvergenceWarning: Liblinear failed to converge, increase the number of iterations.\n",
      "  \"the number of iterations.\", ConvergenceWarning)\n",
      "C:\\Users\\bahad\\anaconda3\\envs\\r-tutorial\\lib\\site-packages\\sklearn\\svm\\_base.py:977: ConvergenceWarning: Liblinear failed to converge, increase the number of iterations.\n",
      "  \"the number of iterations.\", ConvergenceWarning)\n",
      "C:\\Users\\bahad\\anaconda3\\envs\\r-tutorial\\lib\\site-packages\\sklearn\\svm\\_base.py:977: ConvergenceWarning: Liblinear failed to converge, increase the number of iterations.\n",
      "  \"the number of iterations.\", ConvergenceWarning)\n",
      "C:\\Users\\bahad\\anaconda3\\envs\\r-tutorial\\lib\\site-packages\\sklearn\\svm\\_base.py:977: ConvergenceWarning: Liblinear failed to converge, increase the number of iterations.\n",
      "  \"the number of iterations.\", ConvergenceWarning)\n",
      "C:\\Users\\bahad\\anaconda3\\envs\\r-tutorial\\lib\\site-packages\\sklearn\\svm\\_base.py:977: ConvergenceWarning: Liblinear failed to converge, increase the number of iterations.\n",
      "  \"the number of iterations.\", ConvergenceWarning)\n",
      "C:\\Users\\bahad\\anaconda3\\envs\\r-tutorial\\lib\\site-packages\\sklearn\\svm\\_base.py:977: ConvergenceWarning: Liblinear failed to converge, increase the number of iterations.\n",
      "  \"the number of iterations.\", ConvergenceWarning)\n",
      "C:\\Users\\bahad\\anaconda3\\envs\\r-tutorial\\lib\\site-packages\\sklearn\\svm\\_base.py:977: ConvergenceWarning: Liblinear failed to converge, increase the number of iterations.\n",
      "  \"the number of iterations.\", ConvergenceWarning)\n",
      "C:\\Users\\bahad\\anaconda3\\envs\\r-tutorial\\lib\\site-packages\\sklearn\\svm\\_base.py:977: ConvergenceWarning: Liblinear failed to converge, increase the number of iterations.\n",
      "  \"the number of iterations.\", ConvergenceWarning)\n",
      "C:\\Users\\bahad\\anaconda3\\envs\\r-tutorial\\lib\\site-packages\\sklearn\\svm\\_base.py:977: ConvergenceWarning: Liblinear failed to converge, increase the number of iterations.\n",
      "  \"the number of iterations.\", ConvergenceWarning)\n",
      "C:\\Users\\bahad\\anaconda3\\envs\\r-tutorial\\lib\\site-packages\\sklearn\\svm\\_base.py:977: ConvergenceWarning: Liblinear failed to converge, increase the number of iterations.\n",
      "  \"the number of iterations.\", ConvergenceWarning)\n",
      "C:\\Users\\bahad\\anaconda3\\envs\\r-tutorial\\lib\\site-packages\\sklearn\\svm\\_base.py:977: ConvergenceWarning: Liblinear failed to converge, increase the number of iterations.\n",
      "  \"the number of iterations.\", ConvergenceWarning)\n",
      "C:\\Users\\bahad\\anaconda3\\envs\\r-tutorial\\lib\\site-packages\\sklearn\\svm\\_base.py:977: ConvergenceWarning: Liblinear failed to converge, increase the number of iterations.\n",
      "  \"the number of iterations.\", ConvergenceWarning)\n",
      "C:\\Users\\bahad\\anaconda3\\envs\\r-tutorial\\lib\\site-packages\\sklearn\\svm\\_base.py:977: ConvergenceWarning: Liblinear failed to converge, increase the number of iterations.\n",
      "  \"the number of iterations.\", ConvergenceWarning)\n",
      "C:\\Users\\bahad\\anaconda3\\envs\\r-tutorial\\lib\\site-packages\\sklearn\\svm\\_base.py:977: ConvergenceWarning: Liblinear failed to converge, increase the number of iterations.\n",
      "  \"the number of iterations.\", ConvergenceWarning)\n",
      "C:\\Users\\bahad\\anaconda3\\envs\\r-tutorial\\lib\\site-packages\\sklearn\\svm\\_base.py:977: ConvergenceWarning: Liblinear failed to converge, increase the number of iterations.\n",
      "  \"the number of iterations.\", ConvergenceWarning)\n",
      "C:\\Users\\bahad\\anaconda3\\envs\\r-tutorial\\lib\\site-packages\\sklearn\\svm\\_base.py:977: ConvergenceWarning: Liblinear failed to converge, increase the number of iterations.\n",
      "  \"the number of iterations.\", ConvergenceWarning)\n",
      "C:\\Users\\bahad\\anaconda3\\envs\\r-tutorial\\lib\\site-packages\\sklearn\\svm\\_base.py:977: ConvergenceWarning: Liblinear failed to converge, increase the number of iterations.\n",
      "  \"the number of iterations.\", ConvergenceWarning)\n",
      "C:\\Users\\bahad\\anaconda3\\envs\\r-tutorial\\lib\\site-packages\\sklearn\\svm\\_base.py:977: ConvergenceWarning: Liblinear failed to converge, increase the number of iterations.\n",
      "  \"the number of iterations.\", ConvergenceWarning)\n",
      "C:\\Users\\bahad\\anaconda3\\envs\\r-tutorial\\lib\\site-packages\\sklearn\\svm\\_base.py:977: ConvergenceWarning: Liblinear failed to converge, increase the number of iterations.\n",
      "  \"the number of iterations.\", ConvergenceWarning)\n",
      "C:\\Users\\bahad\\anaconda3\\envs\\r-tutorial\\lib\\site-packages\\sklearn\\svm\\_base.py:977: ConvergenceWarning: Liblinear failed to converge, increase the number of iterations.\n",
      "  \"the number of iterations.\", ConvergenceWarning)\n",
      "C:\\Users\\bahad\\anaconda3\\envs\\r-tutorial\\lib\\site-packages\\sklearn\\svm\\_base.py:977: ConvergenceWarning: Liblinear failed to converge, increase the number of iterations.\n",
      "  \"the number of iterations.\", ConvergenceWarning)\n",
      "C:\\Users\\bahad\\anaconda3\\envs\\r-tutorial\\lib\\site-packages\\sklearn\\svm\\_base.py:977: ConvergenceWarning: Liblinear failed to converge, increase the number of iterations.\n",
      "  \"the number of iterations.\", ConvergenceWarning)\n",
      "C:\\Users\\bahad\\anaconda3\\envs\\r-tutorial\\lib\\site-packages\\sklearn\\svm\\_base.py:977: ConvergenceWarning: Liblinear failed to converge, increase the number of iterations.\n",
      "  \"the number of iterations.\", ConvergenceWarning)\n",
      "C:\\Users\\bahad\\anaconda3\\envs\\r-tutorial\\lib\\site-packages\\sklearn\\svm\\_base.py:977: ConvergenceWarning: Liblinear failed to converge, increase the number of iterations.\n",
      "  \"the number of iterations.\", ConvergenceWarning)\n",
      "C:\\Users\\bahad\\anaconda3\\envs\\r-tutorial\\lib\\site-packages\\sklearn\\svm\\_base.py:977: ConvergenceWarning: Liblinear failed to converge, increase the number of iterations.\n",
      "  \"the number of iterations.\", ConvergenceWarning)\n"
     ]
    },
    {
     "data": {
      "text/plain": [
       "GridSearchCV(cv=10, estimator=LinearSVR(),\n",
       "             param_grid=[{'epsilon': [0.5, 1, 1.5]}], return_train_score=True)"
      ]
     },
     "execution_count": 474,
     "metadata": {},
     "output_type": "execute_result"
    }
   ],
   "source": [
    "sv_regressor_new.fit(X_train_new, y_train_new)"
   ]
  },
  {
   "cell_type": "code",
   "execution_count": 475,
   "metadata": {
    "scrolled": true
   },
   "outputs": [
    {
     "data": {
      "text/html": [
       "<div>\n",
       "<style scoped>\n",
       "    .dataframe tbody tr th:only-of-type {\n",
       "        vertical-align: middle;\n",
       "    }\n",
       "\n",
       "    .dataframe tbody tr th {\n",
       "        vertical-align: top;\n",
       "    }\n",
       "\n",
       "    .dataframe thead th {\n",
       "        text-align: right;\n",
       "    }\n",
       "</style>\n",
       "<table border=\"1\" class=\"dataframe\">\n",
       "  <thead>\n",
       "    <tr style=\"text-align: right;\">\n",
       "      <th></th>\n",
       "      <th>Name</th>\n",
       "      <th># of inst</th>\n",
       "      <th>Mean</th>\n",
       "      <th>Standard Dev.</th>\n",
       "      <th>FBias</th>\n",
       "      <th>MPE</th>\n",
       "      <th>MAPE</th>\n",
       "      <th>RMSE</th>\n",
       "      <th>MAD</th>\n",
       "      <th>WMAPE</th>\n",
       "    </tr>\n",
       "  </thead>\n",
       "  <tbody>\n",
       "    <tr>\n",
       "      <th>0</th>\n",
       "      <td>SVR Linear Performance with Feature Extraction</td>\n",
       "      <td>84</td>\n",
       "      <td>78.79761905</td>\n",
       "      <td>18.72230791</td>\n",
       "      <td>0.16578436</td>\n",
       "      <td>0.13332065</td>\n",
       "      <td>0.18161492</td>\n",
       "      <td>2.19400444</td>\n",
       "      <td>15.64074121</td>\n",
       "      <td>0.19849256</td>\n",
       "    </tr>\n",
       "  </tbody>\n",
       "</table>\n",
       "</div>"
      ],
      "text/plain": [
       "                                             Name  # of inst        Mean  \\\n",
       "0  SVR Linear Performance with Feature Extraction         84 78.79761905   \n",
       "\n",
       "   Standard Dev.      FBias        MPE       MAPE       RMSE         MAD  \\\n",
       "0    18.72230791 0.16578436 0.13332065 0.18161492 2.19400444 15.64074121   \n",
       "\n",
       "       WMAPE  \n",
       "0 0.19849256  "
      ]
     },
     "execution_count": 475,
     "metadata": {},
     "output_type": "execute_result"
    }
   ],
   "source": [
    "svm_predictions_new=sv_regressor_new.predict(X_test_new)\n",
    "\n",
    "res_svr_new=performance_list(\"SVR Linear Performance with Feature Extraction\", \n",
    "                                svm_predictions_new, y_test_new)\n",
    "\n",
    "res_svr_new"
   ]
  },
  {
   "cell_type": "markdown",
   "metadata": {},
   "source": [
    "## Poly"
   ]
  },
  {
   "cell_type": "markdown",
   "metadata": {},
   "source": [
    "### Grid"
   ]
  },
  {
   "cell_type": "code",
   "execution_count": 476,
   "metadata": {},
   "outputs": [],
   "source": [
    "param_grid_svm_poly=[\n",
    "    {\"degree\":[2,3,4], \"epsilon\":[0.02,0.05, 0.1, 0.15, 0.2]}\n",
    "]"
   ]
  },
  {
   "cell_type": "code",
   "execution_count": 477,
   "metadata": {},
   "outputs": [],
   "source": [
    "sv_regressor_poly_new=SVR(kernel=\"poly\")"
   ]
  },
  {
   "cell_type": "code",
   "execution_count": 478,
   "metadata": {},
   "outputs": [],
   "source": [
    "sv_regressor_poly_new = GridSearchCV(estimator=sv_regressor_poly_new, param_grid=param_grid_svm_poly,\n",
    "                 cv=10,return_train_score=True)"
   ]
  },
  {
   "cell_type": "code",
   "execution_count": 479,
   "metadata": {},
   "outputs": [
    {
     "data": {
      "text/plain": [
       "GridSearchCV(cv=10, estimator=SVR(kernel='poly'),\n",
       "             param_grid=[{'degree': [2, 3, 4],\n",
       "                          'epsilon': [0.02, 0.05, 0.1, 0.15, 0.2]}],\n",
       "             return_train_score=True)"
      ]
     },
     "execution_count": 479,
     "metadata": {},
     "output_type": "execute_result"
    }
   ],
   "source": [
    "sv_regressor_poly_new.fit(X_train_new, y_train_new)"
   ]
  },
  {
   "cell_type": "code",
   "execution_count": 480,
   "metadata": {},
   "outputs": [
    {
     "data": {
      "text/plain": [
       "SVR(epsilon=0.2, kernel='poly')"
      ]
     },
     "execution_count": 480,
     "metadata": {},
     "output_type": "execute_result"
    }
   ],
   "source": [
    "sv_regressor_poly_new.best_estimator_"
   ]
  },
  {
   "cell_type": "code",
   "execution_count": 481,
   "metadata": {
    "scrolled": true
   },
   "outputs": [
    {
     "data": {
      "text/html": [
       "<div>\n",
       "<style scoped>\n",
       "    .dataframe tbody tr th:only-of-type {\n",
       "        vertical-align: middle;\n",
       "    }\n",
       "\n",
       "    .dataframe tbody tr th {\n",
       "        vertical-align: top;\n",
       "    }\n",
       "\n",
       "    .dataframe thead th {\n",
       "        text-align: right;\n",
       "    }\n",
       "</style>\n",
       "<table border=\"1\" class=\"dataframe\">\n",
       "  <thead>\n",
       "    <tr style=\"text-align: right;\">\n",
       "      <th></th>\n",
       "      <th>Name</th>\n",
       "      <th># of inst</th>\n",
       "      <th>Mean</th>\n",
       "      <th>Standard Dev.</th>\n",
       "      <th>FBias</th>\n",
       "      <th>MPE</th>\n",
       "      <th>MAPE</th>\n",
       "      <th>RMSE</th>\n",
       "      <th>MAD</th>\n",
       "      <th>WMAPE</th>\n",
       "    </tr>\n",
       "  </thead>\n",
       "  <tbody>\n",
       "    <tr>\n",
       "      <th>0</th>\n",
       "      <td>SVR Polynomail Performance with Feature Extrac...</td>\n",
       "      <td>84</td>\n",
       "      <td>78.79761905</td>\n",
       "      <td>18.72230791</td>\n",
       "      <td>0.03364722</td>\n",
       "      <td>-0.01571164</td>\n",
       "      <td>0.18271616</td>\n",
       "      <td>1.93792692</td>\n",
       "      <td>14.21170265</td>\n",
       "      <td>0.18035701</td>\n",
       "    </tr>\n",
       "  </tbody>\n",
       "</table>\n",
       "</div>"
      ],
      "text/plain": [
       "                                                Name  # of inst        Mean  \\\n",
       "0  SVR Polynomail Performance with Feature Extrac...         84 78.79761905   \n",
       "\n",
       "   Standard Dev.      FBias         MPE       MAPE       RMSE         MAD  \\\n",
       "0    18.72230791 0.03364722 -0.01571164 0.18271616 1.93792692 14.21170265   \n",
       "\n",
       "       WMAPE  \n",
       "0 0.18035701  "
      ]
     },
     "execution_count": 481,
     "metadata": {},
     "output_type": "execute_result"
    }
   ],
   "source": [
    "svm_predictions_poly_new=sv_regressor_poly_new.predict(X_test_new)\n",
    "\n",
    "res_svr_poly_new=performance_list(\"SVR Polynomail Performance with Feature Extraction\", \n",
    "                                svm_predictions_poly_new, y_test_new)\n",
    "\n",
    "res_svr_poly_new"
   ]
  },
  {
   "cell_type": "code",
   "execution_count": null,
   "metadata": {},
   "outputs": [],
   "source": []
  },
  {
   "cell_type": "markdown",
   "metadata": {},
   "source": [
    "### Random Forest"
   ]
  },
  {
   "cell_type": "code",
   "execution_count": 482,
   "metadata": {},
   "outputs": [],
   "source": [
    "param_grid=[\n",
    "    {\"n_estimators\":[200,300,500], \"max_features\":[8,12,16],\n",
    "     \"bootstrap\":[False,True]}\n",
    "]"
   ]
  },
  {
   "cell_type": "code",
   "execution_count": 483,
   "metadata": {},
   "outputs": [],
   "source": [
    "random_reg_new=RandomForestRegressor()\n",
    "grid_search_new = GridSearchCV(estimator=random_reg_new, param_grid=param_grid,\n",
    "                 cv=10,return_train_score=True)"
   ]
  },
  {
   "cell_type": "code",
   "execution_count": 484,
   "metadata": {},
   "outputs": [
    {
     "data": {
      "text/plain": [
       "{'bootstrap': True, 'max_features': 8, 'n_estimators': 200}"
      ]
     },
     "execution_count": 484,
     "metadata": {},
     "output_type": "execute_result"
    }
   ],
   "source": [
    "grid_search_new.fit(X_train_new, y_train_new)\n",
    "\n",
    "grid_search_new.best_params_"
   ]
  },
  {
   "cell_type": "code",
   "execution_count": 485,
   "metadata": {},
   "outputs": [
    {
     "data": {
      "text/html": [
       "<div>\n",
       "<style scoped>\n",
       "    .dataframe tbody tr th:only-of-type {\n",
       "        vertical-align: middle;\n",
       "    }\n",
       "\n",
       "    .dataframe tbody tr th {\n",
       "        vertical-align: top;\n",
       "    }\n",
       "\n",
       "    .dataframe thead th {\n",
       "        text-align: right;\n",
       "    }\n",
       "</style>\n",
       "<table border=\"1\" class=\"dataframe\">\n",
       "  <thead>\n",
       "    <tr style=\"text-align: right;\">\n",
       "      <th></th>\n",
       "      <th>Name</th>\n",
       "      <th># of inst</th>\n",
       "      <th>Mean</th>\n",
       "      <th>Standard Dev.</th>\n",
       "      <th>FBias</th>\n",
       "      <th>MPE</th>\n",
       "      <th>MAPE</th>\n",
       "      <th>RMSE</th>\n",
       "      <th>MAD</th>\n",
       "      <th>WMAPE</th>\n",
       "    </tr>\n",
       "  </thead>\n",
       "  <tbody>\n",
       "    <tr>\n",
       "      <th>0</th>\n",
       "      <td>Random Forest Performance with Feature Extraction</td>\n",
       "      <td>84</td>\n",
       "      <td>78.79761905</td>\n",
       "      <td>18.72230791</td>\n",
       "      <td>0.07963627</td>\n",
       "      <td>0.04298293</td>\n",
       "      <td>0.16269559</td>\n",
       "      <td>1.86167446</td>\n",
       "      <td>13.10252976</td>\n",
       "      <td>0.16628078</td>\n",
       "    </tr>\n",
       "  </tbody>\n",
       "</table>\n",
       "</div>"
      ],
      "text/plain": [
       "                                                Name  # of inst        Mean  \\\n",
       "0  Random Forest Performance with Feature Extraction         84 78.79761905   \n",
       "\n",
       "   Standard Dev.      FBias        MPE       MAPE       RMSE         MAD  \\\n",
       "0    18.72230791 0.07963627 0.04298293 0.16269559 1.86167446 13.10252976   \n",
       "\n",
       "       WMAPE  \n",
       "0 0.16628078  "
      ]
     },
     "execution_count": 485,
     "metadata": {},
     "output_type": "execute_result"
    }
   ],
   "source": [
    "rf_predictions_new=grid_search_new.predict(X_test_new)\n",
    "\n",
    "res_rf_new=performance_list(\"Random Forest Performance with Feature Extraction\", rf_predictions_new, y_test_new)\n",
    "\n",
    "res_rf_new"
   ]
  },
  {
   "cell_type": "code",
   "execution_count": null,
   "metadata": {},
   "outputs": [],
   "source": []
  },
  {
   "cell_type": "code",
   "execution_count": null,
   "metadata": {},
   "outputs": [],
   "source": []
  },
  {
   "cell_type": "code",
   "execution_count": null,
   "metadata": {},
   "outputs": [],
   "source": []
  },
  {
   "cell_type": "code",
   "execution_count": null,
   "metadata": {},
   "outputs": [],
   "source": []
  },
  {
   "cell_type": "code",
   "execution_count": null,
   "metadata": {},
   "outputs": [],
   "source": []
  },
  {
   "cell_type": "markdown",
   "metadata": {},
   "source": [
    "# General Result Table"
   ]
  },
  {
   "cell_type": "code",
   "execution_count": 486,
   "metadata": {},
   "outputs": [],
   "source": [
    "pd.options.display.float_format = '{:,.8f}'.format"
   ]
  },
  {
   "cell_type": "code",
   "execution_count": 487,
   "metadata": {},
   "outputs": [],
   "source": [
    "result_frames=[res_elastic,res_svr_linear,res_svr_poly,res_rf, res_elastic_new,res_svr_new,res_svr_poly_new,res_rf_new]\n",
    "total_result=pd.concat(result_frames)\n",
    "total_result.reset_index(drop=True, inplace=True)"
   ]
  },
  {
   "cell_type": "code",
   "execution_count": 488,
   "metadata": {
    "scrolled": true
   },
   "outputs": [
    {
     "data": {
      "text/html": [
       "<div>\n",
       "<style scoped>\n",
       "    .dataframe tbody tr th:only-of-type {\n",
       "        vertical-align: middle;\n",
       "    }\n",
       "\n",
       "    .dataframe tbody tr th {\n",
       "        vertical-align: top;\n",
       "    }\n",
       "\n",
       "    .dataframe thead th {\n",
       "        text-align: right;\n",
       "    }\n",
       "</style>\n",
       "<table border=\"1\" class=\"dataframe\">\n",
       "  <thead>\n",
       "    <tr style=\"text-align: right;\">\n",
       "      <th></th>\n",
       "      <th>Name</th>\n",
       "      <th># of inst</th>\n",
       "      <th>Mean</th>\n",
       "      <th>Standard Dev.</th>\n",
       "      <th>FBias</th>\n",
       "      <th>MPE</th>\n",
       "      <th>MAPE</th>\n",
       "      <th>RMSE</th>\n",
       "      <th>MAD</th>\n",
       "      <th>WMAPE</th>\n",
       "    </tr>\n",
       "  </thead>\n",
       "  <tbody>\n",
       "    <tr>\n",
       "      <th>0</th>\n",
       "      <td>Elastic Net Performance</td>\n",
       "      <td>84</td>\n",
       "      <td>78.79761905</td>\n",
       "      <td>18.72230791</td>\n",
       "      <td>0.08416746</td>\n",
       "      <td>0.04703632</td>\n",
       "      <td>0.15450885</td>\n",
       "      <td>1.78080546</td>\n",
       "      <td>12.61592555</td>\n",
       "      <td>0.16010542</td>\n",
       "    </tr>\n",
       "    <tr>\n",
       "      <th>1</th>\n",
       "      <td>Support Vector Regressor Linear Performance</td>\n",
       "      <td>84</td>\n",
       "      <td>78.79761905</td>\n",
       "      <td>18.72230791</td>\n",
       "      <td>0.13021311</td>\n",
       "      <td>0.09664306</td>\n",
       "      <td>0.16807856</td>\n",
       "      <td>1.99929417</td>\n",
       "      <td>14.17434206</td>\n",
       "      <td>0.17988287</td>\n",
       "    </tr>\n",
       "    <tr>\n",
       "      <th>2</th>\n",
       "      <td>Support Vector Regressor Polynomial Performance</td>\n",
       "      <td>84</td>\n",
       "      <td>78.79761905</td>\n",
       "      <td>18.72230791</td>\n",
       "      <td>0.05148837</td>\n",
       "      <td>-0.00132018</td>\n",
       "      <td>0.18556557</td>\n",
       "      <td>2.07649982</td>\n",
       "      <td>14.64030061</td>\n",
       "      <td>0.18579623</td>\n",
       "    </tr>\n",
       "    <tr>\n",
       "      <th>3</th>\n",
       "      <td>Random Forest Performance</td>\n",
       "      <td>84</td>\n",
       "      <td>78.79761905</td>\n",
       "      <td>18.72230791</td>\n",
       "      <td>0.06545903</td>\n",
       "      <td>0.02985421</td>\n",
       "      <td>0.16340055</td>\n",
       "      <td>1.83522218</td>\n",
       "      <td>12.89206349</td>\n",
       "      <td>0.16360981</td>\n",
       "    </tr>\n",
       "    <tr>\n",
       "      <th>4</th>\n",
       "      <td>Elastic Net Performance with Feature Extraction</td>\n",
       "      <td>84</td>\n",
       "      <td>78.79761905</td>\n",
       "      <td>18.72230791</td>\n",
       "      <td>0.07249924</td>\n",
       "      <td>0.03542625</td>\n",
       "      <td>0.15722413</td>\n",
       "      <td>1.76415058</td>\n",
       "      <td>12.78923289</td>\n",
       "      <td>0.16230481</td>\n",
       "    </tr>\n",
       "    <tr>\n",
       "      <th>5</th>\n",
       "      <td>SVR Linear Performance with Feature Extraction</td>\n",
       "      <td>84</td>\n",
       "      <td>78.79761905</td>\n",
       "      <td>18.72230791</td>\n",
       "      <td>0.16578436</td>\n",
       "      <td>0.13332065</td>\n",
       "      <td>0.18161492</td>\n",
       "      <td>2.19400444</td>\n",
       "      <td>15.64074121</td>\n",
       "      <td>0.19849256</td>\n",
       "    </tr>\n",
       "    <tr>\n",
       "      <th>6</th>\n",
       "      <td>SVR Polynomail Performance with Feature Extrac...</td>\n",
       "      <td>84</td>\n",
       "      <td>78.79761905</td>\n",
       "      <td>18.72230791</td>\n",
       "      <td>0.03364722</td>\n",
       "      <td>-0.01571164</td>\n",
       "      <td>0.18271616</td>\n",
       "      <td>1.93792692</td>\n",
       "      <td>14.21170265</td>\n",
       "      <td>0.18035701</td>\n",
       "    </tr>\n",
       "    <tr>\n",
       "      <th>7</th>\n",
       "      <td>Random Forest Performance with Feature Extraction</td>\n",
       "      <td>84</td>\n",
       "      <td>78.79761905</td>\n",
       "      <td>18.72230791</td>\n",
       "      <td>0.07963627</td>\n",
       "      <td>0.04298293</td>\n",
       "      <td>0.16269559</td>\n",
       "      <td>1.86167446</td>\n",
       "      <td>13.10252976</td>\n",
       "      <td>0.16628078</td>\n",
       "    </tr>\n",
       "  </tbody>\n",
       "</table>\n",
       "</div>"
      ],
      "text/plain": [
       "                                                Name  # of inst        Mean  \\\n",
       "0                            Elastic Net Performance         84 78.79761905   \n",
       "1        Support Vector Regressor Linear Performance         84 78.79761905   \n",
       "2    Support Vector Regressor Polynomial Performance         84 78.79761905   \n",
       "3                          Random Forest Performance         84 78.79761905   \n",
       "4    Elastic Net Performance with Feature Extraction         84 78.79761905   \n",
       "5     SVR Linear Performance with Feature Extraction         84 78.79761905   \n",
       "6  SVR Polynomail Performance with Feature Extrac...         84 78.79761905   \n",
       "7  Random Forest Performance with Feature Extraction         84 78.79761905   \n",
       "\n",
       "   Standard Dev.      FBias         MPE       MAPE       RMSE         MAD  \\\n",
       "0    18.72230791 0.08416746  0.04703632 0.15450885 1.78080546 12.61592555   \n",
       "1    18.72230791 0.13021311  0.09664306 0.16807856 1.99929417 14.17434206   \n",
       "2    18.72230791 0.05148837 -0.00132018 0.18556557 2.07649982 14.64030061   \n",
       "3    18.72230791 0.06545903  0.02985421 0.16340055 1.83522218 12.89206349   \n",
       "4    18.72230791 0.07249924  0.03542625 0.15722413 1.76415058 12.78923289   \n",
       "5    18.72230791 0.16578436  0.13332065 0.18161492 2.19400444 15.64074121   \n",
       "6    18.72230791 0.03364722 -0.01571164 0.18271616 1.93792692 14.21170265   \n",
       "7    18.72230791 0.07963627  0.04298293 0.16269559 1.86167446 13.10252976   \n",
       "\n",
       "       WMAPE  \n",
       "0 0.16010542  \n",
       "1 0.17988287  \n",
       "2 0.18579623  \n",
       "3 0.16360981  \n",
       "4 0.16230481  \n",
       "5 0.19849256  \n",
       "6 0.18035701  \n",
       "7 0.16628078  "
      ]
     },
     "execution_count": 488,
     "metadata": {},
     "output_type": "execute_result"
    }
   ],
   "source": [
    "total_result"
   ]
  },
  {
   "cell_type": "code",
   "execution_count": null,
   "metadata": {},
   "outputs": [],
   "source": []
  },
  {
   "cell_type": "code",
   "execution_count": null,
   "metadata": {},
   "outputs": [],
   "source": []
  },
  {
   "cell_type": "markdown",
   "metadata": {},
   "source": [
    "## RFOverfitting"
   ]
  },
  {
   "cell_type": "code",
   "execution_count": 489,
   "metadata": {},
   "outputs": [
    {
     "data": {
      "text/html": [
       "<div>\n",
       "<style scoped>\n",
       "    .dataframe tbody tr th:only-of-type {\n",
       "        vertical-align: middle;\n",
       "    }\n",
       "\n",
       "    .dataframe tbody tr th {\n",
       "        vertical-align: top;\n",
       "    }\n",
       "\n",
       "    .dataframe thead th {\n",
       "        text-align: right;\n",
       "    }\n",
       "</style>\n",
       "<table border=\"1\" class=\"dataframe\">\n",
       "  <thead>\n",
       "    <tr style=\"text-align: right;\">\n",
       "      <th></th>\n",
       "      <th>Name</th>\n",
       "      <th># of inst</th>\n",
       "      <th>Mean</th>\n",
       "      <th>Standard Dev.</th>\n",
       "      <th>FBias</th>\n",
       "      <th>MPE</th>\n",
       "      <th>MAPE</th>\n",
       "      <th>RMSE</th>\n",
       "      <th>MAD</th>\n",
       "      <th>WMAPE</th>\n",
       "    </tr>\n",
       "  </thead>\n",
       "  <tbody>\n",
       "    <tr>\n",
       "      <th>0</th>\n",
       "      <td>RF Performance without Feature Extraction</td>\n",
       "      <td>5655</td>\n",
       "      <td>60.40954907</td>\n",
       "      <td>18.49760013</td>\n",
       "      <td>-0.00018505</td>\n",
       "      <td>-inf</td>\n",
       "      <td>inf</td>\n",
       "      <td>0.06621683</td>\n",
       "      <td>3.81430804</td>\n",
       "      <td>0.06314081</td>\n",
       "    </tr>\n",
       "  </tbody>\n",
       "</table>\n",
       "</div>"
      ],
      "text/plain": [
       "                                        Name  # of inst        Mean  \\\n",
       "0  RF Performance without Feature Extraction       5655 60.40954907   \n",
       "\n",
       "   Standard Dev.       FBias  MPE  MAPE       RMSE        MAD      WMAPE  \n",
       "0    18.49760013 -0.00018505 -inf   inf 0.06621683 3.81430804 0.06314081  "
      ]
     },
     "execution_count": 489,
     "metadata": {},
     "output_type": "execute_result"
    }
   ],
   "source": [
    "rf_control=grid_search.predict(X_train)\n",
    "\n",
    "performance_list(\"RF Performance without Feature Extraction\",rf_control, y_train)"
   ]
  },
  {
   "cell_type": "code",
   "execution_count": 490,
   "metadata": {},
   "outputs": [
    {
     "data": {
      "text/html": [
       "<div>\n",
       "<style scoped>\n",
       "    .dataframe tbody tr th:only-of-type {\n",
       "        vertical-align: middle;\n",
       "    }\n",
       "\n",
       "    .dataframe tbody tr th {\n",
       "        vertical-align: top;\n",
       "    }\n",
       "\n",
       "    .dataframe thead th {\n",
       "        text-align: right;\n",
       "    }\n",
       "</style>\n",
       "<table border=\"1\" class=\"dataframe\">\n",
       "  <thead>\n",
       "    <tr style=\"text-align: right;\">\n",
       "      <th></th>\n",
       "      <th>Name</th>\n",
       "      <th># of inst</th>\n",
       "      <th>Mean</th>\n",
       "      <th>Standard Dev.</th>\n",
       "      <th>FBias</th>\n",
       "      <th>MPE</th>\n",
       "      <th>MAPE</th>\n",
       "      <th>RMSE</th>\n",
       "      <th>MAD</th>\n",
       "      <th>WMAPE</th>\n",
       "    </tr>\n",
       "  </thead>\n",
       "  <tbody>\n",
       "    <tr>\n",
       "      <th>0</th>\n",
       "      <td>RF Performance without Feature Extraction</td>\n",
       "      <td>84</td>\n",
       "      <td>78.79761905</td>\n",
       "      <td>18.72230791</td>\n",
       "      <td>0.06545903</td>\n",
       "      <td>0.02985421</td>\n",
       "      <td>0.16340055</td>\n",
       "      <td>1.83522218</td>\n",
       "      <td>12.89206349</td>\n",
       "      <td>0.16360981</td>\n",
       "    </tr>\n",
       "  </tbody>\n",
       "</table>\n",
       "</div>"
      ],
      "text/plain": [
       "                                        Name  # of inst        Mean  \\\n",
       "0  RF Performance without Feature Extraction         84 78.79761905   \n",
       "\n",
       "   Standard Dev.      FBias        MPE       MAPE       RMSE         MAD  \\\n",
       "0    18.72230791 0.06545903 0.02985421 0.16340055 1.83522218 12.89206349   \n",
       "\n",
       "       WMAPE  \n",
       "0 0.16360981  "
      ]
     },
     "execution_count": 490,
     "metadata": {},
     "output_type": "execute_result"
    }
   ],
   "source": [
    "rf_control=grid_search.predict(X_test)\n",
    "\n",
    "performance_list(\"RF Performance without Feature Extraction\",rf_control, y_test)"
   ]
  },
  {
   "cell_type": "code",
   "execution_count": 491,
   "metadata": {
    "scrolled": true
   },
   "outputs": [
    {
     "data": {
      "text/html": [
       "<div>\n",
       "<style scoped>\n",
       "    .dataframe tbody tr th:only-of-type {\n",
       "        vertical-align: middle;\n",
       "    }\n",
       "\n",
       "    .dataframe tbody tr th {\n",
       "        vertical-align: top;\n",
       "    }\n",
       "\n",
       "    .dataframe thead th {\n",
       "        text-align: right;\n",
       "    }\n",
       "</style>\n",
       "<table border=\"1\" class=\"dataframe\">\n",
       "  <thead>\n",
       "    <tr style=\"text-align: right;\">\n",
       "      <th></th>\n",
       "      <th>Name</th>\n",
       "      <th># of inst</th>\n",
       "      <th>Mean</th>\n",
       "      <th>Standard Dev.</th>\n",
       "      <th>FBias</th>\n",
       "      <th>MPE</th>\n",
       "      <th>MAPE</th>\n",
       "      <th>RMSE</th>\n",
       "      <th>MAD</th>\n",
       "      <th>WMAPE</th>\n",
       "    </tr>\n",
       "  </thead>\n",
       "  <tbody>\n",
       "    <tr>\n",
       "      <th>0</th>\n",
       "      <td>RF Performance with Feature Extraction</td>\n",
       "      <td>5424</td>\n",
       "      <td>60.15929204</td>\n",
       "      <td>18.29945537</td>\n",
       "      <td>-0.00043890</td>\n",
       "      <td>-inf</td>\n",
       "      <td>inf</td>\n",
       "      <td>0.06587532</td>\n",
       "      <td>3.71789128</td>\n",
       "      <td>0.06180078</td>\n",
       "    </tr>\n",
       "  </tbody>\n",
       "</table>\n",
       "</div>"
      ],
      "text/plain": [
       "                                     Name  # of inst        Mean  \\\n",
       "0  RF Performance with Feature Extraction       5424 60.15929204   \n",
       "\n",
       "   Standard Dev.       FBias  MPE  MAPE       RMSE        MAD      WMAPE  \n",
       "0    18.29945537 -0.00043890 -inf   inf 0.06587532 3.71789128 0.06180078  "
      ]
     },
     "execution_count": 491,
     "metadata": {},
     "output_type": "execute_result"
    }
   ],
   "source": [
    "rf_control_feature=grid_search_new.predict(X_train_new)\n",
    "\n",
    "performance_list(\"RF Performance with Feature Extraction\", rf_control_feature, y_train_new)"
   ]
  },
  {
   "cell_type": "code",
   "execution_count": 492,
   "metadata": {},
   "outputs": [
    {
     "data": {
      "text/html": [
       "<div>\n",
       "<style scoped>\n",
       "    .dataframe tbody tr th:only-of-type {\n",
       "        vertical-align: middle;\n",
       "    }\n",
       "\n",
       "    .dataframe tbody tr th {\n",
       "        vertical-align: top;\n",
       "    }\n",
       "\n",
       "    .dataframe thead th {\n",
       "        text-align: right;\n",
       "    }\n",
       "</style>\n",
       "<table border=\"1\" class=\"dataframe\">\n",
       "  <thead>\n",
       "    <tr style=\"text-align: right;\">\n",
       "      <th></th>\n",
       "      <th>Name</th>\n",
       "      <th># of inst</th>\n",
       "      <th>Mean</th>\n",
       "      <th>Standard Dev.</th>\n",
       "      <th>FBias</th>\n",
       "      <th>MPE</th>\n",
       "      <th>MAPE</th>\n",
       "      <th>RMSE</th>\n",
       "      <th>MAD</th>\n",
       "      <th>WMAPE</th>\n",
       "    </tr>\n",
       "  </thead>\n",
       "  <tbody>\n",
       "    <tr>\n",
       "      <th>0</th>\n",
       "      <td>RF Performance with Feature Extraction</td>\n",
       "      <td>84</td>\n",
       "      <td>78.79761905</td>\n",
       "      <td>18.72230791</td>\n",
       "      <td>0.07963627</td>\n",
       "      <td>0.04298293</td>\n",
       "      <td>0.16269559</td>\n",
       "      <td>1.86167446</td>\n",
       "      <td>13.10252976</td>\n",
       "      <td>0.16628078</td>\n",
       "    </tr>\n",
       "  </tbody>\n",
       "</table>\n",
       "</div>"
      ],
      "text/plain": [
       "                                     Name  # of inst        Mean  \\\n",
       "0  RF Performance with Feature Extraction         84 78.79761905   \n",
       "\n",
       "   Standard Dev.      FBias        MPE       MAPE       RMSE         MAD  \\\n",
       "0    18.72230791 0.07963627 0.04298293 0.16269559 1.86167446 13.10252976   \n",
       "\n",
       "       WMAPE  \n",
       "0 0.16628078  "
      ]
     },
     "execution_count": 492,
     "metadata": {},
     "output_type": "execute_result"
    }
   ],
   "source": [
    "rf_control_feature=grid_search_new.predict(X_test_new)\n",
    "\n",
    "performance_list(\"RF Performance with Feature Extraction\", rf_control_feature, y_test_new)"
   ]
  },
  {
   "cell_type": "code",
   "execution_count": null,
   "metadata": {},
   "outputs": [],
   "source": []
  },
  {
   "cell_type": "markdown",
   "metadata": {},
   "source": [
    "# Feature Control"
   ]
  },
  {
   "cell_type": "code",
   "execution_count": 493,
   "metadata": {},
   "outputs": [
    {
     "data": {
      "text/plain": [
       "[<matplotlib.lines.Line2D at 0x2e67c7a19c8>]"
      ]
     },
     "execution_count": 493,
     "metadata": {},
     "output_type": "execute_result"
    },
    {
     "data": {
      "image/png": "[encoded data removed]",
      "text/plain": [
       "<Figure size 432x288 with 1 Axes>"
      ]
     },
     "metadata": {
      "needs_background": "light"
     },
     "output_type": "display_data"
    }
   ],
   "source": [
    "plt.plot(data.Sales[:28])"
   ]
  },
  {
   "cell_type": "code",
   "execution_count": 494,
   "metadata": {},
   "outputs": [],
   "source": [
    "from statsmodels.graphics.tsaplots import plot_acf"
   ]
  },
  {
   "cell_type": "code",
   "execution_count": 495,
   "metadata": {},
   "outputs": [
    {
     "data": {
      "image/png": "[encoded data removed]",
      "text/plain": [
       "<Figure size 432x288 with 1 Axes>"
      ]
     },
     "metadata": {
      "needs_background": "light"
     },
     "output_type": "display_data"
    }
   ],
   "source": [
    "plot_acf(data.Sales, lags=28)\n",
    "plt.show()"
   ]
  },
  {
   "cell_type": "markdown",
   "metadata": {},
   "source": [
    "## Node Control"
   ]
  },
  {
   "cell_type": "code",
   "execution_count": 496,
   "metadata": {},
   "outputs": [
    {
     "data": {
      "text/plain": [
       "207    414\n",
       "261    322\n",
       "31     229\n",
       "192    226\n",
       "217    192\n",
       "      ... \n",
       "342      5\n",
       "232      5\n",
       "414      5\n",
       "418      5\n",
       "459      5\n",
       "Name: Node, Length: 231, dtype: int64"
      ]
     },
     "execution_count": 496,
     "metadata": {},
     "output_type": "execute_result"
    }
   ],
   "source": [
    "concated_df.Node.value_counts()"
   ]
  },
  {
   "cell_type": "code",
   "execution_count": null,
   "metadata": {},
   "outputs": [],
   "source": []
  },
  {
   "cell_type": "code",
   "execution_count": 497,
   "metadata": {},
   "outputs": [
    {
     "data": {
      "text/html": [
       "<div>\n",
       "<style scoped>\n",
       "    .dataframe tbody tr th:only-of-type {\n",
       "        vertical-align: middle;\n",
       "    }\n",
       "\n",
       "    .dataframe tbody tr th {\n",
       "        vertical-align: top;\n",
       "    }\n",
       "\n",
       "    .dataframe thead th {\n",
       "        text-align: right;\n",
       "    }\n",
       "</style>\n",
       "<table border=\"1\" class=\"dataframe\">\n",
       "  <thead>\n",
       "    <tr style=\"text-align: right;\">\n",
       "      <th></th>\n",
       "      <th>Name</th>\n",
       "      <th># of inst</th>\n",
       "      <th>Mean</th>\n",
       "      <th>Standard Dev.</th>\n",
       "      <th>FBias</th>\n",
       "      <th>MPE</th>\n",
       "      <th>MAPE</th>\n",
       "      <th>RMSE</th>\n",
       "      <th>MAD</th>\n",
       "      <th>WMAPE</th>\n",
       "    </tr>\n",
       "  </thead>\n",
       "  <tbody>\n",
       "    <tr>\n",
       "      <th>0</th>\n",
       "      <td>Elastic Net Performance</td>\n",
       "      <td>84</td>\n",
       "      <td>78.79761905</td>\n",
       "      <td>18.72230791</td>\n",
       "      <td>0.08416746</td>\n",
       "      <td>0.04703632</td>\n",
       "      <td>0.15450885</td>\n",
       "      <td>1.78080546</td>\n",
       "      <td>12.61592555</td>\n",
       "      <td>0.16010542</td>\n",
       "    </tr>\n",
       "    <tr>\n",
       "      <th>1</th>\n",
       "      <td>Support Vector Regressor Linear Performance</td>\n",
       "      <td>84</td>\n",
       "      <td>78.79761905</td>\n",
       "      <td>18.72230791</td>\n",
       "      <td>0.13021311</td>\n",
       "      <td>0.09664306</td>\n",
       "      <td>0.16807856</td>\n",
       "      <td>1.99929417</td>\n",
       "      <td>14.17434206</td>\n",
       "      <td>0.17988287</td>\n",
       "    </tr>\n",
       "    <tr>\n",
       "      <th>2</th>\n",
       "      <td>Support Vector Regressor Polynomial Performance</td>\n",
       "      <td>84</td>\n",
       "      <td>78.79761905</td>\n",
       "      <td>18.72230791</td>\n",
       "      <td>0.05148837</td>\n",
       "      <td>-0.00132018</td>\n",
       "      <td>0.18556557</td>\n",
       "      <td>2.07649982</td>\n",
       "      <td>14.64030061</td>\n",
       "      <td>0.18579623</td>\n",
       "    </tr>\n",
       "    <tr>\n",
       "      <th>3</th>\n",
       "      <td>Random Forest Performance</td>\n",
       "      <td>84</td>\n",
       "      <td>78.79761905</td>\n",
       "      <td>18.72230791</td>\n",
       "      <td>0.06545903</td>\n",
       "      <td>0.02985421</td>\n",
       "      <td>0.16340055</td>\n",
       "      <td>1.83522218</td>\n",
       "      <td>12.89206349</td>\n",
       "      <td>0.16360981</td>\n",
       "    </tr>\n",
       "    <tr>\n",
       "      <th>4</th>\n",
       "      <td>Elastic Net Performance with Feature Extraction</td>\n",
       "      <td>84</td>\n",
       "      <td>78.79761905</td>\n",
       "      <td>18.72230791</td>\n",
       "      <td>0.07249924</td>\n",
       "      <td>0.03542625</td>\n",
       "      <td>0.15722413</td>\n",
       "      <td>1.76415058</td>\n",
       "      <td>12.78923289</td>\n",
       "      <td>0.16230481</td>\n",
       "    </tr>\n",
       "    <tr>\n",
       "      <th>5</th>\n",
       "      <td>SVR Linear Performance with Feature Extraction</td>\n",
       "      <td>84</td>\n",
       "      <td>78.79761905</td>\n",
       "      <td>18.72230791</td>\n",
       "      <td>0.16578436</td>\n",
       "      <td>0.13332065</td>\n",
       "      <td>0.18161492</td>\n",
       "      <td>2.19400444</td>\n",
       "      <td>15.64074121</td>\n",
       "      <td>0.19849256</td>\n",
       "    </tr>\n",
       "    <tr>\n",
       "      <th>6</th>\n",
       "      <td>SVR Polynomail Performance with Feature Extrac...</td>\n",
       "      <td>84</td>\n",
       "      <td>78.79761905</td>\n",
       "      <td>18.72230791</td>\n",
       "      <td>0.03364722</td>\n",
       "      <td>-0.01571164</td>\n",
       "      <td>0.18271616</td>\n",
       "      <td>1.93792692</td>\n",
       "      <td>14.21170265</td>\n",
       "      <td>0.18035701</td>\n",
       "    </tr>\n",
       "    <tr>\n",
       "      <th>7</th>\n",
       "      <td>Random Forest Performance with Feature Extraction</td>\n",
       "      <td>84</td>\n",
       "      <td>78.79761905</td>\n",
       "      <td>18.72230791</td>\n",
       "      <td>0.07963627</td>\n",
       "      <td>0.04298293</td>\n",
       "      <td>0.16269559</td>\n",
       "      <td>1.86167446</td>\n",
       "      <td>13.10252976</td>\n",
       "      <td>0.16628078</td>\n",
       "    </tr>\n",
       "  </tbody>\n",
       "</table>\n",
       "</div>"
      ],
      "text/plain": [
       "                                                Name  # of inst        Mean  \\\n",
       "0                            Elastic Net Performance         84 78.79761905   \n",
       "1        Support Vector Regressor Linear Performance         84 78.79761905   \n",
       "2    Support Vector Regressor Polynomial Performance         84 78.79761905   \n",
       "3                          Random Forest Performance         84 78.79761905   \n",
       "4    Elastic Net Performance with Feature Extraction         84 78.79761905   \n",
       "5     SVR Linear Performance with Feature Extraction         84 78.79761905   \n",
       "6  SVR Polynomail Performance with Feature Extrac...         84 78.79761905   \n",
       "7  Random Forest Performance with Feature Extraction         84 78.79761905   \n",
       "\n",
       "   Standard Dev.      FBias         MPE       MAPE       RMSE         MAD  \\\n",
       "0    18.72230791 0.08416746  0.04703632 0.15450885 1.78080546 12.61592555   \n",
       "1    18.72230791 0.13021311  0.09664306 0.16807856 1.99929417 14.17434206   \n",
       "2    18.72230791 0.05148837 -0.00132018 0.18556557 2.07649982 14.64030061   \n",
       "3    18.72230791 0.06545903  0.02985421 0.16340055 1.83522218 12.89206349   \n",
       "4    18.72230791 0.07249924  0.03542625 0.15722413 1.76415058 12.78923289   \n",
       "5    18.72230791 0.16578436  0.13332065 0.18161492 2.19400444 15.64074121   \n",
       "6    18.72230791 0.03364722 -0.01571164 0.18271616 1.93792692 14.21170265   \n",
       "7    18.72230791 0.07963627  0.04298293 0.16269559 1.86167446 13.10252976   \n",
       "\n",
       "       WMAPE  \n",
       "0 0.16010542  \n",
       "1 0.17988287  \n",
       "2 0.18579623  \n",
       "3 0.16360981  \n",
       "4 0.16230481  \n",
       "5 0.19849256  \n",
       "6 0.18035701  \n",
       "7 0.16628078  "
      ]
     },
     "execution_count": 497,
     "metadata": {},
     "output_type": "execute_result"
    }
   ],
   "source": [
    "total_result"
   ]
  },
  {
   "cell_type": "code",
   "execution_count": null,
   "metadata": {},
   "outputs": [],
   "source": []
  },
  {
   "cell_type": "code",
   "execution_count": null,
   "metadata": {},
   "outputs": [],
   "source": []
  },
  {
   "cell_type": "markdown",
   "metadata": {},
   "source": [
    "# General Function"
   ]
  },
  {
   "cell_type": "code",
   "execution_count": 498,
   "metadata": {},
   "outputs": [],
   "source": [
    "# def result_obtain(df, feature_set, name, lag):\n",
    "\n",
    "#     df[name]=feature_set\n",
    "    \n",
    "# #     train=df[df[\"date\"]<((df[\"date\"].max()-df[\"date\"].min())*0.8)+df[\"date\"].min()]\n",
    "# #     test=df[df[\"date\"]>=((df[\"date\"].max()-df[\"date\"].min())*0.8)+df[\"date\"].min()]\n",
    "# #     test.reset_index(drop=True, inplace=True)\n",
    "\n",
    "#     train=data[data[\"date\"]<=specific_date]\n",
    "\n",
    "#     test=data[data[\"date\"]>specific_date]\n",
    "#     test.reset_index(drop=True, inplace=True)\n",
    "\n",
    "\n",
    "#     ### Date and Customer Drop\n",
    "\n",
    "#     train=train.drop([\"date\"], axis=1)\n",
    "#     test=test.drop([\"date\"], axis=1)\n",
    "\n",
    "#     X_train, y_train=train.drop([\"Sales\"], axis=1), train[\"Sales\"]\n",
    "#     X_test, y_test=test.drop([\"Sales\"], axis=1), test[\"Sales\"]\n",
    "    \n",
    "#     train.dropna(inplace=True);\n",
    "#     train.reset_index(drop=True, inplace=True)\n",
    "#     train.index += lag\n",
    "\n",
    "#     X_train, y_train=train.drop([\"Sales\"], axis=1), train[\"Sales\"]\n",
    "#     X_test, y_test=test.drop([\"Sales\"], axis=1), test[\"Sales\"]\n",
    "    \n",
    "    \n",
    "    \n",
    "#     # Linear Regression-Elastic Net\n",
    "\n",
    "#     elastic_net_function = ElasticNet()\n",
    "\n",
    "#     param_grid_elastic=[\n",
    "#         {\"alpha\":[0.1,0.2,0.3,0.4], \"l1_ratio\":[0.2,0.4,0.6]}\n",
    "#     ]\n",
    "\n",
    "#     elastic_net_function = GridSearchCV(estimator=elastic_net_function, param_grid=param_grid_elastic,\n",
    "#                      cv=10,return_train_score=True)\n",
    "    \n",
    "#     elastic_net_function.fit(X_train, y_train)\n",
    "    \n",
    "\n",
    "#     elastic_predictions=elastic_net_function.predict(X_test)\n",
    "\n",
    "#     res_elastic=performance_list([\"Elastic Net Performance Lag \" + str(lag)], elastic_predictions, y_test)\n",
    "\n",
    "    \n",
    "    \n",
    "#     # Support Vector Machines\n",
    "\n",
    "#     ### Linear\n",
    "\n",
    "#     sv_regressor=LinearSVR()\n",
    "    \n",
    "\n",
    "#     ### Grid\n",
    "\n",
    "#     param_grid_svm_linear=[\n",
    "#         {\"epsilon\":[0.5,1,1.5]}\n",
    "#     ]\n",
    "\n",
    "#     sv_regressor_function = GridSearchCV(estimator=sv_regressor, param_grid=param_grid_svm_linear,\n",
    "#                      cv=10,return_train_score=True)\n",
    "\n",
    "#     sv_regressor_function.fit(X_train, y_train)\n",
    "\n",
    "\n",
    "    \n",
    "#     sv_regressor_poly=SVR(kernel=\"poly\")\n",
    "        \n",
    "#     ### Grid\n",
    "\n",
    "#     param_grid_svm_poly=[\n",
    "#         {\"degree\":[2,3], \"epsilon\":[0.02,0.05, 0.1, 0.15, 0.2]}\n",
    "#     ]\n",
    "\n",
    "\n",
    "#     sv_regressor_poly_function = GridSearchCV(estimator=sv_regressor_poly, param_grid=param_grid_svm_poly,\n",
    "#                      cv=10,return_train_score=True)\n",
    "\n",
    "#     sv_regressor_poly_function.fit(X_train, y_train)\n",
    "\n",
    "\n",
    "#     ### Predictions\n",
    "\n",
    "#     svm_predictions_linear=sv_regressor_function.predict(X_test)\n",
    "    \n",
    "#     svm_predictions_poly=sv_regressor_poly_function.predict(X_test)\n",
    "\n",
    "\n",
    "#     ### Results    \n",
    "\n",
    "#     res_svr_poly=performance_list([\"SVR Polynomial Performance Lag \" + str(lag)], svm_predictions_poly, y_test)\n",
    "\n",
    "#     res_svr_linear=performance_list([\"SVR Linear Performance Lag \" + str(lag)], svm_predictions_linear, y_test)\n",
    "\n",
    "    \n",
    "    \n",
    "    \n",
    "#     # Random Forest\n",
    "    \n",
    "#     ### Grid\n",
    "\n",
    "#     param_grid=[\n",
    "#         {\"n_estimators\":[200,300,500], \"max_features\":[8,12,16],\n",
    "#          \"bootstrap\":[False,True]}\n",
    "#     ]\n",
    "\n",
    "#     random_reg_function=RandomForestRegressor()\n",
    "#     grid_search = GridSearchCV(estimator=random_reg_function, param_grid=param_grid,\n",
    "#                      cv=10,return_train_score=True)\n",
    "\n",
    "#     ### Predictions\n",
    "\n",
    "#     grid_search.fit(X_train, y_train)\n",
    "\n",
    "#     ### Results\n",
    "\n",
    "#     rf_predictions=grid_search.predict(X_test)\n",
    "\n",
    "#     res_rf=performance_list([\"Random Forest Performance Lag \" + str(lag)], rf_predictions, y_test)\n",
    "    \n",
    "#     res_df=[res_elastic, res_svr_linear, res_svr_poly, res_rf]\n",
    "\n",
    "#     total_res=pd.concat(res_df)\n",
    "    \n",
    "#     return total_res"
   ]
  },
  {
   "cell_type": "code",
   "execution_count": 499,
   "metadata": {},
   "outputs": [],
   "source": [
    "# res1=result_obtain(data.copy(), data[\"Sales\"].shift(+1), \"lag1\", 1)"
   ]
  },
  {
   "cell_type": "code",
   "execution_count": 500,
   "metadata": {
    "scrolled": true
   },
   "outputs": [],
   "source": [
    "# res1"
   ]
  },
  {
   "cell_type": "code",
   "execution_count": 501,
   "metadata": {},
   "outputs": [],
   "source": [
    "# total_result"
   ]
  },
  {
   "cell_type": "code",
   "execution_count": null,
   "metadata": {},
   "outputs": [],
   "source": []
  }
 ],
 "metadata": {
  "kernelspec": {
   "display_name": "Python 3",
   "language": "python",
   "name": "python3"
  },
  "language_info": {
   "codemirror_mode": {
    "name": "ipython",
    "version": 3
   },
   "file_extension": ".py",
   "mimetype": "text/x-python",
   "name": "python",
   "nbconvert_exporter": "python",
   "pygments_lexer": "ipython3",
   "version": "3.7.9"
  }
 },
 "nbformat": 4,
 "nbformat_minor": 4
}
