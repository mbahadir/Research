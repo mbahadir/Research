{
 "cells": [
  {
   "cell_type": "code",
   "execution_count": 1,
   "metadata": {},
   "outputs": [],
   "source": [
    "import numpy as np\n",
    "import pandas as pd\n",
    "import os\n",
    "import matplotlib.pyplot as plt"
   ]
  },
  {
   "cell_type": "markdown",
   "metadata": {},
   "source": [
    "# Data "
   ]
  },
  {
   "cell_type": "code",
   "execution_count": 2,
   "metadata": {},
   "outputs": [
    {
     "name": "stderr",
     "output_type": "stream",
     "text": [
      "C:\\Users\\bahad\\anaconda3\\envs\\r-tutorial\\lib\\site-packages\\IPython\\core\\interactiveshell.py:3146: DtypeWarning: Columns (7) have mixed types.Specify dtype option on import or set low_memory=False.\n",
      "  interactivity=interactivity, compiler=compiler, result=result)\n"
     ]
    }
   ],
   "source": [
    "rossman=pd.read_csv(\"D:/Datasets/Rossmann_Data/train.csv\")"
   ]
  },
  {
   "cell_type": "code",
   "execution_count": 3,
   "metadata": {},
   "outputs": [],
   "source": [
    "rossman[\"Date\"]=pd.to_datetime(rossman[\"Date\"])"
   ]
  },
  {
   "cell_type": "code",
   "execution_count": 4,
   "metadata": {},
   "outputs": [
    {
     "name": "stdout",
     "output_type": "stream",
     "text": [
      "<class 'pandas.core.frame.DataFrame'>\n",
      "RangeIndex: 1017209 entries, 0 to 1017208\n",
      "Data columns (total 9 columns):\n",
      " #   Column         Non-Null Count    Dtype         \n",
      "---  ------         --------------    -----         \n",
      " 0   Store          1017209 non-null  int64         \n",
      " 1   DayOfWeek      1017209 non-null  int64         \n",
      " 2   Date           1017209 non-null  datetime64[ns]\n",
      " 3   Sales          1017209 non-null  int64         \n",
      " 4   Customers      1017209 non-null  int64         \n",
      " 5   Open           1017209 non-null  int64         \n",
      " 6   Promo          1017209 non-null  int64         \n",
      " 7   StateHoliday   1017209 non-null  object        \n",
      " 8   SchoolHoliday  1017209 non-null  int64         \n",
      "dtypes: datetime64[ns](1), int64(7), object(1)\n",
      "memory usage: 69.8+ MB\n"
     ]
    }
   ],
   "source": [
    "rossman.info()"
   ]
  },
  {
   "cell_type": "code",
   "execution_count": 5,
   "metadata": {},
   "outputs": [
    {
     "data": {
      "text/plain": [
       "1115"
      ]
     },
     "execution_count": 5,
     "metadata": {},
     "output_type": "execute_result"
    }
   ],
   "source": [
    "rossman.Store.max()"
   ]
  },
  {
   "cell_type": "code",
   "execution_count": 6,
   "metadata": {},
   "outputs": [
    {
     "data": {
      "text/html": [
       "<div>\n",
       "<style scoped>\n",
       "    .dataframe tbody tr th:only-of-type {\n",
       "        vertical-align: middle;\n",
       "    }\n",
       "\n",
       "    .dataframe tbody tr th {\n",
       "        vertical-align: top;\n",
       "    }\n",
       "\n",
       "    .dataframe thead th {\n",
       "        text-align: right;\n",
       "    }\n",
       "</style>\n",
       "<table border=\"1\" class=\"dataframe\">\n",
       "  <thead>\n",
       "    <tr style=\"text-align: right;\">\n",
       "      <th></th>\n",
       "      <th>Store</th>\n",
       "      <th>DayOfWeek</th>\n",
       "      <th>Date</th>\n",
       "      <th>Sales</th>\n",
       "      <th>Customers</th>\n",
       "      <th>Open</th>\n",
       "      <th>Promo</th>\n",
       "      <th>StateHoliday</th>\n",
       "      <th>SchoolHoliday</th>\n",
       "    </tr>\n",
       "  </thead>\n",
       "  <tbody>\n",
       "    <tr>\n",
       "      <th>0</th>\n",
       "      <td>1</td>\n",
       "      <td>5</td>\n",
       "      <td>2015-07-31</td>\n",
       "      <td>5263</td>\n",
       "      <td>555</td>\n",
       "      <td>1</td>\n",
       "      <td>1</td>\n",
       "      <td>0</td>\n",
       "      <td>1</td>\n",
       "    </tr>\n",
       "    <tr>\n",
       "      <th>1</th>\n",
       "      <td>2</td>\n",
       "      <td>5</td>\n",
       "      <td>2015-07-31</td>\n",
       "      <td>6064</td>\n",
       "      <td>625</td>\n",
       "      <td>1</td>\n",
       "      <td>1</td>\n",
       "      <td>0</td>\n",
       "      <td>1</td>\n",
       "    </tr>\n",
       "    <tr>\n",
       "      <th>2</th>\n",
       "      <td>3</td>\n",
       "      <td>5</td>\n",
       "      <td>2015-07-31</td>\n",
       "      <td>8314</td>\n",
       "      <td>821</td>\n",
       "      <td>1</td>\n",
       "      <td>1</td>\n",
       "      <td>0</td>\n",
       "      <td>1</td>\n",
       "    </tr>\n",
       "    <tr>\n",
       "      <th>3</th>\n",
       "      <td>4</td>\n",
       "      <td>5</td>\n",
       "      <td>2015-07-31</td>\n",
       "      <td>13995</td>\n",
       "      <td>1498</td>\n",
       "      <td>1</td>\n",
       "      <td>1</td>\n",
       "      <td>0</td>\n",
       "      <td>1</td>\n",
       "    </tr>\n",
       "    <tr>\n",
       "      <th>4</th>\n",
       "      <td>5</td>\n",
       "      <td>5</td>\n",
       "      <td>2015-07-31</td>\n",
       "      <td>4822</td>\n",
       "      <td>559</td>\n",
       "      <td>1</td>\n",
       "      <td>1</td>\n",
       "      <td>0</td>\n",
       "      <td>1</td>\n",
       "    </tr>\n",
       "  </tbody>\n",
       "</table>\n",
       "</div>"
      ],
      "text/plain": [
       "   Store  DayOfWeek       Date  Sales  Customers  Open  Promo StateHoliday  \\\n",
       "0      1          5 2015-07-31   5263        555     1      1            0   \n",
       "1      2          5 2015-07-31   6064        625     1      1            0   \n",
       "2      3          5 2015-07-31   8314        821     1      1            0   \n",
       "3      4          5 2015-07-31  13995       1498     1      1            0   \n",
       "4      5          5 2015-07-31   4822        559     1      1            0   \n",
       "\n",
       "   SchoolHoliday  \n",
       "0              1  \n",
       "1              1  \n",
       "2              1  \n",
       "3              1  \n",
       "4              1  "
      ]
     },
     "execution_count": 6,
     "metadata": {},
     "output_type": "execute_result"
    }
   ],
   "source": [
    "rossman.head()"
   ]
  },
  {
   "cell_type": "markdown",
   "metadata": {},
   "source": [
    "## Dummy Encoding"
   ]
  },
  {
   "cell_type": "code",
   "execution_count": 7,
   "metadata": {},
   "outputs": [],
   "source": [
    "from sklearn.preprocessing import OneHotEncoder"
   ]
  },
  {
   "cell_type": "code",
   "execution_count": 8,
   "metadata": {},
   "outputs": [],
   "source": [
    "hot_encoder=OneHotEncoder()"
   ]
  },
  {
   "cell_type": "markdown",
   "metadata": {},
   "source": [
    "### State Holidays"
   ]
  },
  {
   "cell_type": "code",
   "execution_count": 9,
   "metadata": {},
   "outputs": [
    {
     "data": {
      "text/plain": [
       "0    855087\n",
       "0    131072\n",
       "a     20260\n",
       "b      6690\n",
       "c      4100\n",
       "Name: StateHoliday, dtype: int64"
      ]
     },
     "execution_count": 9,
     "metadata": {},
     "output_type": "execute_result"
    }
   ],
   "source": [
    "rossman[\"StateHoliday\"].value_counts()"
   ]
  },
  {
   "cell_type": "code",
   "execution_count": 10,
   "metadata": {},
   "outputs": [],
   "source": [
    "rossman[\"StateHoliday\"]=rossman[\"StateHoliday\"].astype(str)\n",
    "encoded_stateholidays=hot_encoder.fit_transform(rossman[[\"StateHoliday\"]])\n",
    "array_stateholidays=encoded_stateholidays.toarray()\n",
    "state_df=pd.DataFrame(array_stateholidays,columns=[\"0\", \"A\", \"B\", \"C\"])"
   ]
  },
  {
   "cell_type": "code",
   "execution_count": 11,
   "metadata": {},
   "outputs": [
    {
     "data": {
      "text/plain": [
       "0    A    B    C  \n",
       "1.0  0.0  0.0  0.0    986159\n",
       "0.0  1.0  0.0  0.0     20260\n",
       "     0.0  1.0  0.0      6690\n",
       "          0.0  1.0      4100\n",
       "dtype: int64"
      ]
     },
     "execution_count": 11,
     "metadata": {},
     "output_type": "execute_result"
    }
   ],
   "source": [
    "state_df.value_counts()"
   ]
  },
  {
   "cell_type": "markdown",
   "metadata": {},
   "source": [
    "### Weekdays"
   ]
  },
  {
   "cell_type": "code",
   "execution_count": 12,
   "metadata": {},
   "outputs": [
    {
     "data": {
      "text/plain": [
       "5    145845\n",
       "4    145845\n",
       "3    145665\n",
       "2    145664\n",
       "7    144730\n",
       "6    144730\n",
       "1    144730\n",
       "Name: DayOfWeek, dtype: int64"
      ]
     },
     "execution_count": 12,
     "metadata": {},
     "output_type": "execute_result"
    }
   ],
   "source": [
    "rossman[\"DayOfWeek\"].value_counts()"
   ]
  },
  {
   "cell_type": "code",
   "execution_count": 13,
   "metadata": {},
   "outputs": [],
   "source": [
    "encoded_weekdays=hot_encoder.fit_transform(rossman[[\"DayOfWeek\"]])\n",
    "array_weekdays=encoded_weekdays.toarray()\n",
    "weekday_df=pd.DataFrame(array_weekdays,columns=[\"Monday\", \"Tuesday\", \"Wednesday\", \"Thursday\",\"Friday\",\"Saturday\",\"Sunday\"])"
   ]
  },
  {
   "cell_type": "code",
   "execution_count": 14,
   "metadata": {},
   "outputs": [
    {
     "data": {
      "text/plain": [
       "Monday  Tuesday  Wednesday  Thursday  Friday  Saturday  Sunday\n",
       "0.0     0.0      0.0        1.0       0.0     0.0       0.0       145845\n",
       "                            0.0       1.0     0.0       0.0       145845\n",
       "                 1.0        0.0       0.0     0.0       0.0       145665\n",
       "        1.0      0.0        0.0       0.0     0.0       0.0       145664\n",
       "1.0     0.0      0.0        0.0       0.0     0.0       0.0       144730\n",
       "0.0     0.0      0.0        0.0       0.0     1.0       0.0       144730\n",
       "                                              0.0       1.0       144730\n",
       "dtype: int64"
      ]
     },
     "execution_count": 14,
     "metadata": {},
     "output_type": "execute_result"
    }
   ],
   "source": [
    "weekday_df.value_counts()"
   ]
  },
  {
   "cell_type": "markdown",
   "metadata": {},
   "source": [
    "## Concatenated dataframe"
   ]
  },
  {
   "cell_type": "code",
   "execution_count": 15,
   "metadata": {},
   "outputs": [],
   "source": [
    "frames = [rossman, state_df, weekday_df]\n",
    "rossman_concat=pd.concat(frames, axis=1)"
   ]
  },
  {
   "cell_type": "code",
   "execution_count": 16,
   "metadata": {},
   "outputs": [
    {
     "data": {
      "text/html": [
       "<div>\n",
       "<style scoped>\n",
       "    .dataframe tbody tr th:only-of-type {\n",
       "        vertical-align: middle;\n",
       "    }\n",
       "\n",
       "    .dataframe tbody tr th {\n",
       "        vertical-align: top;\n",
       "    }\n",
       "\n",
       "    .dataframe thead th {\n",
       "        text-align: right;\n",
       "    }\n",
       "</style>\n",
       "<table border=\"1\" class=\"dataframe\">\n",
       "  <thead>\n",
       "    <tr style=\"text-align: right;\">\n",
       "      <th></th>\n",
       "      <th>Store</th>\n",
       "      <th>DayOfWeek</th>\n",
       "      <th>Sales</th>\n",
       "      <th>Customers</th>\n",
       "      <th>Open</th>\n",
       "      <th>Promo</th>\n",
       "      <th>SchoolHoliday</th>\n",
       "      <th>0</th>\n",
       "      <th>A</th>\n",
       "      <th>B</th>\n",
       "      <th>C</th>\n",
       "      <th>Monday</th>\n",
       "      <th>Tuesday</th>\n",
       "      <th>Wednesday</th>\n",
       "      <th>Thursday</th>\n",
       "      <th>Friday</th>\n",
       "      <th>Saturday</th>\n",
       "      <th>Sunday</th>\n",
       "    </tr>\n",
       "  </thead>\n",
       "  <tbody>\n",
       "    <tr>\n",
       "      <th>count</th>\n",
       "      <td>1.017209e+06</td>\n",
       "      <td>1.017209e+06</td>\n",
       "      <td>1.017209e+06</td>\n",
       "      <td>1.017209e+06</td>\n",
       "      <td>1.017209e+06</td>\n",
       "      <td>1.017209e+06</td>\n",
       "      <td>1.017209e+06</td>\n",
       "      <td>1.017209e+06</td>\n",
       "      <td>1.017209e+06</td>\n",
       "      <td>1.017209e+06</td>\n",
       "      <td>1.017209e+06</td>\n",
       "      <td>1.017209e+06</td>\n",
       "      <td>1.017209e+06</td>\n",
       "      <td>1.017209e+06</td>\n",
       "      <td>1.017209e+06</td>\n",
       "      <td>1.017209e+06</td>\n",
       "      <td>1.017209e+06</td>\n",
       "      <td>1.017209e+06</td>\n",
       "    </tr>\n",
       "    <tr>\n",
       "      <th>mean</th>\n",
       "      <td>5.584297e+02</td>\n",
       "      <td>3.998341e+00</td>\n",
       "      <td>5.773819e+03</td>\n",
       "      <td>6.331459e+02</td>\n",
       "      <td>8.301067e-01</td>\n",
       "      <td>3.815145e-01</td>\n",
       "      <td>1.786467e-01</td>\n",
       "      <td>9.694753e-01</td>\n",
       "      <td>1.991724e-02</td>\n",
       "      <td>6.576820e-03</td>\n",
       "      <td>4.030637e-03</td>\n",
       "      <td>1.422815e-01</td>\n",
       "      <td>1.431997e-01</td>\n",
       "      <td>1.432007e-01</td>\n",
       "      <td>1.433776e-01</td>\n",
       "      <td>1.433776e-01</td>\n",
       "      <td>1.422815e-01</td>\n",
       "      <td>1.422815e-01</td>\n",
       "    </tr>\n",
       "    <tr>\n",
       "      <th>std</th>\n",
       "      <td>3.219087e+02</td>\n",
       "      <td>1.997391e+00</td>\n",
       "      <td>3.849926e+03</td>\n",
       "      <td>4.644117e+02</td>\n",
       "      <td>3.755392e-01</td>\n",
       "      <td>4.857586e-01</td>\n",
       "      <td>3.830564e-01</td>\n",
       "      <td>1.720261e-01</td>\n",
       "      <td>1.397160e-01</td>\n",
       "      <td>8.083051e-02</td>\n",
       "      <td>6.335925e-02</td>\n",
       "      <td>3.493388e-01</td>\n",
       "      <td>3.502765e-01</td>\n",
       "      <td>3.502775e-01</td>\n",
       "      <td>3.504577e-01</td>\n",
       "      <td>3.504577e-01</td>\n",
       "      <td>3.493388e-01</td>\n",
       "      <td>3.493388e-01</td>\n",
       "    </tr>\n",
       "    <tr>\n",
       "      <th>min</th>\n",
       "      <td>1.000000e+00</td>\n",
       "      <td>1.000000e+00</td>\n",
       "      <td>0.000000e+00</td>\n",
       "      <td>0.000000e+00</td>\n",
       "      <td>0.000000e+00</td>\n",
       "      <td>0.000000e+00</td>\n",
       "      <td>0.000000e+00</td>\n",
       "      <td>0.000000e+00</td>\n",
       "      <td>0.000000e+00</td>\n",
       "      <td>0.000000e+00</td>\n",
       "      <td>0.000000e+00</td>\n",
       "      <td>0.000000e+00</td>\n",
       "      <td>0.000000e+00</td>\n",
       "      <td>0.000000e+00</td>\n",
       "      <td>0.000000e+00</td>\n",
       "      <td>0.000000e+00</td>\n",
       "      <td>0.000000e+00</td>\n",
       "      <td>0.000000e+00</td>\n",
       "    </tr>\n",
       "    <tr>\n",
       "      <th>25%</th>\n",
       "      <td>2.800000e+02</td>\n",
       "      <td>2.000000e+00</td>\n",
       "      <td>3.727000e+03</td>\n",
       "      <td>4.050000e+02</td>\n",
       "      <td>1.000000e+00</td>\n",
       "      <td>0.000000e+00</td>\n",
       "      <td>0.000000e+00</td>\n",
       "      <td>1.000000e+00</td>\n",
       "      <td>0.000000e+00</td>\n",
       "      <td>0.000000e+00</td>\n",
       "      <td>0.000000e+00</td>\n",
       "      <td>0.000000e+00</td>\n",
       "      <td>0.000000e+00</td>\n",
       "      <td>0.000000e+00</td>\n",
       "      <td>0.000000e+00</td>\n",
       "      <td>0.000000e+00</td>\n",
       "      <td>0.000000e+00</td>\n",
       "      <td>0.000000e+00</td>\n",
       "    </tr>\n",
       "    <tr>\n",
       "      <th>50%</th>\n",
       "      <td>5.580000e+02</td>\n",
       "      <td>4.000000e+00</td>\n",
       "      <td>5.744000e+03</td>\n",
       "      <td>6.090000e+02</td>\n",
       "      <td>1.000000e+00</td>\n",
       "      <td>0.000000e+00</td>\n",
       "      <td>0.000000e+00</td>\n",
       "      <td>1.000000e+00</td>\n",
       "      <td>0.000000e+00</td>\n",
       "      <td>0.000000e+00</td>\n",
       "      <td>0.000000e+00</td>\n",
       "      <td>0.000000e+00</td>\n",
       "      <td>0.000000e+00</td>\n",
       "      <td>0.000000e+00</td>\n",
       "      <td>0.000000e+00</td>\n",
       "      <td>0.000000e+00</td>\n",
       "      <td>0.000000e+00</td>\n",
       "      <td>0.000000e+00</td>\n",
       "    </tr>\n",
       "    <tr>\n",
       "      <th>75%</th>\n",
       "      <td>8.380000e+02</td>\n",
       "      <td>6.000000e+00</td>\n",
       "      <td>7.856000e+03</td>\n",
       "      <td>8.370000e+02</td>\n",
       "      <td>1.000000e+00</td>\n",
       "      <td>1.000000e+00</td>\n",
       "      <td>0.000000e+00</td>\n",
       "      <td>1.000000e+00</td>\n",
       "      <td>0.000000e+00</td>\n",
       "      <td>0.000000e+00</td>\n",
       "      <td>0.000000e+00</td>\n",
       "      <td>0.000000e+00</td>\n",
       "      <td>0.000000e+00</td>\n",
       "      <td>0.000000e+00</td>\n",
       "      <td>0.000000e+00</td>\n",
       "      <td>0.000000e+00</td>\n",
       "      <td>0.000000e+00</td>\n",
       "      <td>0.000000e+00</td>\n",
       "    </tr>\n",
       "    <tr>\n",
       "      <th>max</th>\n",
       "      <td>1.115000e+03</td>\n",
       "      <td>7.000000e+00</td>\n",
       "      <td>4.155100e+04</td>\n",
       "      <td>7.388000e+03</td>\n",
       "      <td>1.000000e+00</td>\n",
       "      <td>1.000000e+00</td>\n",
       "      <td>1.000000e+00</td>\n",
       "      <td>1.000000e+00</td>\n",
       "      <td>1.000000e+00</td>\n",
       "      <td>1.000000e+00</td>\n",
       "      <td>1.000000e+00</td>\n",
       "      <td>1.000000e+00</td>\n",
       "      <td>1.000000e+00</td>\n",
       "      <td>1.000000e+00</td>\n",
       "      <td>1.000000e+00</td>\n",
       "      <td>1.000000e+00</td>\n",
       "      <td>1.000000e+00</td>\n",
       "      <td>1.000000e+00</td>\n",
       "    </tr>\n",
       "  </tbody>\n",
       "</table>\n",
       "</div>"
      ],
      "text/plain": [
       "              Store     DayOfWeek         Sales     Customers          Open  \\\n",
       "count  1.017209e+06  1.017209e+06  1.017209e+06  1.017209e+06  1.017209e+06   \n",
       "mean   5.584297e+02  3.998341e+00  5.773819e+03  6.331459e+02  8.301067e-01   \n",
       "std    3.219087e+02  1.997391e+00  3.849926e+03  4.644117e+02  3.755392e-01   \n",
       "min    1.000000e+00  1.000000e+00  0.000000e+00  0.000000e+00  0.000000e+00   \n",
       "25%    2.800000e+02  2.000000e+00  3.727000e+03  4.050000e+02  1.000000e+00   \n",
       "50%    5.580000e+02  4.000000e+00  5.744000e+03  6.090000e+02  1.000000e+00   \n",
       "75%    8.380000e+02  6.000000e+00  7.856000e+03  8.370000e+02  1.000000e+00   \n",
       "max    1.115000e+03  7.000000e+00  4.155100e+04  7.388000e+03  1.000000e+00   \n",
       "\n",
       "              Promo  SchoolHoliday             0             A             B  \\\n",
       "count  1.017209e+06   1.017209e+06  1.017209e+06  1.017209e+06  1.017209e+06   \n",
       "mean   3.815145e-01   1.786467e-01  9.694753e-01  1.991724e-02  6.576820e-03   \n",
       "std    4.857586e-01   3.830564e-01  1.720261e-01  1.397160e-01  8.083051e-02   \n",
       "min    0.000000e+00   0.000000e+00  0.000000e+00  0.000000e+00  0.000000e+00   \n",
       "25%    0.000000e+00   0.000000e+00  1.000000e+00  0.000000e+00  0.000000e+00   \n",
       "50%    0.000000e+00   0.000000e+00  1.000000e+00  0.000000e+00  0.000000e+00   \n",
       "75%    1.000000e+00   0.000000e+00  1.000000e+00  0.000000e+00  0.000000e+00   \n",
       "max    1.000000e+00   1.000000e+00  1.000000e+00  1.000000e+00  1.000000e+00   \n",
       "\n",
       "                  C        Monday       Tuesday     Wednesday      Thursday  \\\n",
       "count  1.017209e+06  1.017209e+06  1.017209e+06  1.017209e+06  1.017209e+06   \n",
       "mean   4.030637e-03  1.422815e-01  1.431997e-01  1.432007e-01  1.433776e-01   \n",
       "std    6.335925e-02  3.493388e-01  3.502765e-01  3.502775e-01  3.504577e-01   \n",
       "min    0.000000e+00  0.000000e+00  0.000000e+00  0.000000e+00  0.000000e+00   \n",
       "25%    0.000000e+00  0.000000e+00  0.000000e+00  0.000000e+00  0.000000e+00   \n",
       "50%    0.000000e+00  0.000000e+00  0.000000e+00  0.000000e+00  0.000000e+00   \n",
       "75%    0.000000e+00  0.000000e+00  0.000000e+00  0.000000e+00  0.000000e+00   \n",
       "max    1.000000e+00  1.000000e+00  1.000000e+00  1.000000e+00  1.000000e+00   \n",
       "\n",
       "             Friday      Saturday        Sunday  \n",
       "count  1.017209e+06  1.017209e+06  1.017209e+06  \n",
       "mean   1.433776e-01  1.422815e-01  1.422815e-01  \n",
       "std    3.504577e-01  3.493388e-01  3.493388e-01  \n",
       "min    0.000000e+00  0.000000e+00  0.000000e+00  \n",
       "25%    0.000000e+00  0.000000e+00  0.000000e+00  \n",
       "50%    0.000000e+00  0.000000e+00  0.000000e+00  \n",
       "75%    0.000000e+00  0.000000e+00  0.000000e+00  \n",
       "max    1.000000e+00  1.000000e+00  1.000000e+00  "
      ]
     },
     "execution_count": 16,
     "metadata": {},
     "output_type": "execute_result"
    }
   ],
   "source": [
    "rossman_concat.describe()"
   ]
  },
  {
   "cell_type": "markdown",
   "metadata": {},
   "source": [
    "# Performance Function"
   ]
  },
  {
   "cell_type": "code",
   "execution_count": 17,
   "metadata": {},
   "outputs": [],
   "source": [
    "def performance_list(ID,actual,forecast):\n",
    "    name=ID\n",
    "    n=len(actual)\n",
    "    error=actual-forecast\n",
    "    mean=np.mean(actual)\n",
    "    sd=actual.std()\n",
    "    FBias=sum(error)/sum(actual)\n",
    "    MPE=sum(error/actual)/n\n",
    "    MAPE=sum(abs(error/actual))/n\n",
    "    RMSE=np.sqrt(sum(error**2))/n\n",
    "    MAD=sum(abs(error))/n\n",
    "    WMAPE=MAD/mean\n",
    "    result_df=pd.DataFrame({\"Name\" :       name ,\n",
    "                            \"# of inst\":       n,\n",
    "                            \"Mean\":         mean,\n",
    "                            \"Standard Dev.\":  sd, \n",
    "                            \"FBias\":       FBias, \n",
    "                            \"MPE\":           MPE, \n",
    "                            \"MAPE\":         MAPE,                                      \n",
    "                            \"RMSE\":         RMSE, \n",
    "                            \"MAD\":           MAD, \n",
    "                            \"WMAPE\":      WMAPE}, index=[0])\n",
    "    return(result_df)"
   ]
  },
  {
   "cell_type": "code",
   "execution_count": null,
   "metadata": {},
   "outputs": [],
   "source": []
  },
  {
   "cell_type": "code",
   "execution_count": null,
   "metadata": {},
   "outputs": [],
   "source": []
  },
  {
   "cell_type": "markdown",
   "metadata": {},
   "source": [
    "# Store and Dataset Selection "
   ]
  },
  {
   "cell_type": "code",
   "execution_count": 18,
   "metadata": {},
   "outputs": [],
   "source": [
    "def store_selection(dataset, store_num):\n",
    "    selected_store=dataset[dataset[\"Store\"]==store_num].copy()\n",
    "    selected_store.sort_values(by=[\"Date\"], inplace=True)\n",
    "    selected_store.reset_index(drop=True, inplace=True)\n",
    "    selected_store.head(20)\n",
    "    return selected_store"
   ]
  },
  {
   "cell_type": "code",
   "execution_count": 19,
   "metadata": {},
   "outputs": [],
   "source": [
    "def Splitting_data(dataset, ratio):\n",
    "    interval=dataset.Date.max()-dataset.Date.min()\n",
    "    day_int=interval*ratio\n",
    "    Train=dataset[dataset[\"Date\"]<(dataset.Date.max()-day_int)]\n",
    "    Test=dataset[dataset[\"Date\"]>=(dataset.Date.max()-day_int)]\n",
    "    return Train, Test"
   ]
  },
  {
   "cell_type": "markdown",
   "metadata": {},
   "source": [
    "### Train & Test"
   ]
  },
  {
   "cell_type": "code",
   "execution_count": 20,
   "metadata": {},
   "outputs": [],
   "source": [
    "store1=store_selection(rossman_concat, 2)\n",
    "train1_initial, test1_initial=Splitting_data(store1, 0.2)"
   ]
  },
  {
   "cell_type": "markdown",
   "metadata": {},
   "source": [
    "### Date and Customer Drop"
   ]
  },
  {
   "cell_type": "code",
   "execution_count": 21,
   "metadata": {},
   "outputs": [],
   "source": [
    "train=train1_initial.drop([\"Date\", \"Customers\",\"Store\",\"DayOfWeek\",\"StateHoliday\"], axis=1)\n",
    "test=test1_initial.drop([\"Date\", \"Customers\",\"Store\",\"DayOfWeek\",\"StateHoliday\"], axis=1)"
   ]
  },
  {
   "cell_type": "code",
   "execution_count": 22,
   "metadata": {},
   "outputs": [],
   "source": [
    "X_train, y_train=train.drop([\"Sales\"], axis=1), train[\"Sales\"]\n",
    "X_test, y_test=test.drop([\"Sales\"], axis=1), test[\"Sales\"]"
   ]
  },
  {
   "cell_type": "code",
   "execution_count": null,
   "metadata": {},
   "outputs": [],
   "source": []
  },
  {
   "cell_type": "code",
   "execution_count": null,
   "metadata": {},
   "outputs": [],
   "source": []
  },
  {
   "cell_type": "markdown",
   "metadata": {},
   "source": [
    "# Linear Regression-Elastic Net"
   ]
  },
  {
   "cell_type": "code",
   "execution_count": 23,
   "metadata": {},
   "outputs": [],
   "source": [
    "from sklearn.linear_model import ElasticNet"
   ]
  },
  {
   "cell_type": "code",
   "execution_count": 24,
   "metadata": {},
   "outputs": [
    {
     "data": {
      "text/plain": [
       "ElasticNet(alpha=0.1)"
      ]
     },
     "execution_count": 24,
     "metadata": {},
     "output_type": "execute_result"
    }
   ],
   "source": [
    "elastic_net = ElasticNet(alpha=0.1, l1_ratio=0.5)\n",
    "elastic_net.fit(X_train, y_train)"
   ]
  },
  {
   "cell_type": "code",
   "execution_count": 25,
   "metadata": {},
   "outputs": [],
   "source": [
    "elastic_predictions=elastic_net.predict(X_test)"
   ]
  },
  {
   "cell_type": "code",
   "execution_count": 26,
   "metadata": {},
   "outputs": [],
   "source": [
    "res_elastic=performance_list(\"Elastic Net Performance\", elastic_predictions, y_test)"
   ]
  },
  {
   "cell_type": "code",
   "execution_count": 27,
   "metadata": {},
   "outputs": [
    {
     "data": {
      "text/html": [
       "<div>\n",
       "<style scoped>\n",
       "    .dataframe tbody tr th:only-of-type {\n",
       "        vertical-align: middle;\n",
       "    }\n",
       "\n",
       "    .dataframe tbody tr th {\n",
       "        vertical-align: top;\n",
       "    }\n",
       "\n",
       "    .dataframe thead th {\n",
       "        text-align: right;\n",
       "    }\n",
       "</style>\n",
       "<table border=\"1\" class=\"dataframe\">\n",
       "  <thead>\n",
       "    <tr style=\"text-align: right;\">\n",
       "      <th></th>\n",
       "      <th>Name</th>\n",
       "      <th># of inst</th>\n",
       "      <th>Mean</th>\n",
       "      <th>Standard Dev.</th>\n",
       "      <th>FBias</th>\n",
       "      <th>MPE</th>\n",
       "      <th>MAPE</th>\n",
       "      <th>RMSE</th>\n",
       "      <th>MAD</th>\n",
       "      <th>WMAPE</th>\n",
       "    </tr>\n",
       "  </thead>\n",
       "  <tbody>\n",
       "    <tr>\n",
       "      <th>0</th>\n",
       "      <td>Elastic Net Performance</td>\n",
       "      <td>189</td>\n",
       "      <td>4141.000331</td>\n",
       "      <td>1923.423082</td>\n",
       "      <td>-0.003414</td>\n",
       "      <td>0.149593</td>\n",
       "      <td>0.257169</td>\n",
       "      <td>56.013717</td>\n",
       "      <td>537.147472</td>\n",
       "      <td>0.129714</td>\n",
       "    </tr>\n",
       "  </tbody>\n",
       "</table>\n",
       "</div>"
      ],
      "text/plain": [
       "                      Name  # of inst         Mean  Standard Dev.     FBias  \\\n",
       "0  Elastic Net Performance        189  4141.000331    1923.423082 -0.003414   \n",
       "\n",
       "        MPE      MAPE       RMSE         MAD     WMAPE  \n",
       "0  0.149593  0.257169  56.013717  537.147472  0.129714  "
      ]
     },
     "execution_count": 27,
     "metadata": {},
     "output_type": "execute_result"
    }
   ],
   "source": [
    "res_elastic"
   ]
  },
  {
   "cell_type": "markdown",
   "metadata": {},
   "source": [
    "# Support Vector Machines"
   ]
  },
  {
   "cell_type": "markdown",
   "metadata": {},
   "source": [
    "### Linear"
   ]
  },
  {
   "cell_type": "code",
   "execution_count": 28,
   "metadata": {},
   "outputs": [],
   "source": [
    "from sklearn.svm import LinearSVR"
   ]
  },
  {
   "cell_type": "code",
   "execution_count": 29,
   "metadata": {},
   "outputs": [
    {
     "data": {
      "text/plain": [
       "LinearSVR(epsilon=1)"
      ]
     },
     "execution_count": 29,
     "metadata": {},
     "output_type": "execute_result"
    }
   ],
   "source": [
    "sv_regressor=LinearSVR(epsilon=1)\n",
    "sv_regressor.fit(X_train, y_train)"
   ]
  },
  {
   "cell_type": "markdown",
   "metadata": {},
   "source": [
    "### Poly with Kernel"
   ]
  },
  {
   "cell_type": "code",
   "execution_count": 30,
   "metadata": {},
   "outputs": [],
   "source": [
    "from sklearn.svm import SVR"
   ]
  },
  {
   "cell_type": "code",
   "execution_count": 31,
   "metadata": {},
   "outputs": [
    {
     "data": {
      "text/plain": [
       "SVR(C=50, degree=2, epsilon=0.05, kernel='poly')"
      ]
     },
     "execution_count": 31,
     "metadata": {},
     "output_type": "execute_result"
    }
   ],
   "source": [
    "sv_regressor_poly=SVR(kernel=\"poly\", degree=2, C=50, epsilon=0.05)\n",
    "sv_regressor_poly.fit(X_train, y_train)"
   ]
  },
  {
   "cell_type": "markdown",
   "metadata": {},
   "source": [
    "### Predictions"
   ]
  },
  {
   "cell_type": "code",
   "execution_count": 32,
   "metadata": {},
   "outputs": [],
   "source": [
    "svm_predictions_linear=sv_regressor.predict(X_test)"
   ]
  },
  {
   "cell_type": "code",
   "execution_count": 33,
   "metadata": {},
   "outputs": [],
   "source": [
    "res_svr_linear=performance_list(\"Support Vector Regressor Linear Performance\", svm_predictions_linear, y_test)"
   ]
  },
  {
   "cell_type": "code",
   "execution_count": null,
   "metadata": {},
   "outputs": [],
   "source": []
  },
  {
   "cell_type": "code",
   "execution_count": 34,
   "metadata": {},
   "outputs": [],
   "source": [
    "svm_predictions_poly=sv_regressor_poly.predict(X_test)"
   ]
  },
  {
   "cell_type": "code",
   "execution_count": 35,
   "metadata": {},
   "outputs": [],
   "source": [
    "res_svr_poly=performance_list(\"Support Vector Regressor Polynomial Performance\", svm_predictions_poly, y_test)"
   ]
  },
  {
   "cell_type": "markdown",
   "metadata": {},
   "source": [
    "### Results"
   ]
  },
  {
   "cell_type": "code",
   "execution_count": 36,
   "metadata": {},
   "outputs": [
    {
     "data": {
      "text/html": [
       "<div>\n",
       "<style scoped>\n",
       "    .dataframe tbody tr th:only-of-type {\n",
       "        vertical-align: middle;\n",
       "    }\n",
       "\n",
       "    .dataframe tbody tr th {\n",
       "        vertical-align: top;\n",
       "    }\n",
       "\n",
       "    .dataframe thead th {\n",
       "        text-align: right;\n",
       "    }\n",
       "</style>\n",
       "<table border=\"1\" class=\"dataframe\">\n",
       "  <thead>\n",
       "    <tr style=\"text-align: right;\">\n",
       "      <th></th>\n",
       "      <th>Name</th>\n",
       "      <th># of inst</th>\n",
       "      <th>Mean</th>\n",
       "      <th>Standard Dev.</th>\n",
       "      <th>FBias</th>\n",
       "      <th>MPE</th>\n",
       "      <th>MAPE</th>\n",
       "      <th>RMSE</th>\n",
       "      <th>MAD</th>\n",
       "      <th>WMAPE</th>\n",
       "    </tr>\n",
       "  </thead>\n",
       "  <tbody>\n",
       "    <tr>\n",
       "      <th>0</th>\n",
       "      <td>Support Vector Regressor Linear Performance</td>\n",
       "      <td>189</td>\n",
       "      <td>1724.857143</td>\n",
       "      <td>404.654946</td>\n",
       "      <td>-1.408975</td>\n",
       "      <td>-1.163496</td>\n",
       "      <td>1.50212</td>\n",
       "      <td>228.407312</td>\n",
       "      <td>2730.174603</td>\n",
       "      <td>1.582841</td>\n",
       "    </tr>\n",
       "  </tbody>\n",
       "</table>\n",
       "</div>"
      ],
      "text/plain": [
       "                                          Name  # of inst         Mean  \\\n",
       "0  Support Vector Regressor Linear Performance        189  1724.857143   \n",
       "\n",
       "   Standard Dev.     FBias       MPE     MAPE        RMSE          MAD  \\\n",
       "0     404.654946 -1.408975 -1.163496  1.50212  228.407312  2730.174603   \n",
       "\n",
       "      WMAPE  \n",
       "0  1.582841  "
      ]
     },
     "execution_count": 36,
     "metadata": {},
     "output_type": "execute_result"
    }
   ],
   "source": [
    "res_svr_linear"
   ]
  },
  {
   "cell_type": "code",
   "execution_count": 37,
   "metadata": {},
   "outputs": [
    {
     "data": {
      "text/html": [
       "<div>\n",
       "<style scoped>\n",
       "    .dataframe tbody tr th:only-of-type {\n",
       "        vertical-align: middle;\n",
       "    }\n",
       "\n",
       "    .dataframe tbody tr th {\n",
       "        vertical-align: top;\n",
       "    }\n",
       "\n",
       "    .dataframe thead th {\n",
       "        text-align: right;\n",
       "    }\n",
       "</style>\n",
       "<table border=\"1\" class=\"dataframe\">\n",
       "  <thead>\n",
       "    <tr style=\"text-align: right;\">\n",
       "      <th></th>\n",
       "      <th>Name</th>\n",
       "      <th># of inst</th>\n",
       "      <th>Mean</th>\n",
       "      <th>Standard Dev.</th>\n",
       "      <th>FBias</th>\n",
       "      <th>MPE</th>\n",
       "      <th>MAPE</th>\n",
       "      <th>RMSE</th>\n",
       "      <th>MAD</th>\n",
       "      <th>WMAPE</th>\n",
       "    </tr>\n",
       "  </thead>\n",
       "  <tbody>\n",
       "    <tr>\n",
       "      <th>0</th>\n",
       "      <td>Support Vector Regressor Polynomial Performance</td>\n",
       "      <td>189</td>\n",
       "      <td>3974.705062</td>\n",
       "      <td>2073.627025</td>\n",
       "      <td>-0.045395</td>\n",
       "      <td>0.126013</td>\n",
       "      <td>0.249505</td>\n",
       "      <td>50.121376</td>\n",
       "      <td>409.958727</td>\n",
       "      <td>0.103142</td>\n",
       "    </tr>\n",
       "  </tbody>\n",
       "</table>\n",
       "</div>"
      ],
      "text/plain": [
       "                                              Name  # of inst         Mean  \\\n",
       "0  Support Vector Regressor Polynomial Performance        189  3974.705062   \n",
       "\n",
       "   Standard Dev.     FBias       MPE      MAPE       RMSE         MAD  \\\n",
       "0    2073.627025 -0.045395  0.126013  0.249505  50.121376  409.958727   \n",
       "\n",
       "      WMAPE  \n",
       "0  0.103142  "
      ]
     },
     "execution_count": 37,
     "metadata": {},
     "output_type": "execute_result"
    }
   ],
   "source": [
    "res_svr_poly"
   ]
  },
  {
   "cell_type": "markdown",
   "metadata": {},
   "source": [
    "# Random Forest"
   ]
  },
  {
   "cell_type": "code",
   "execution_count": 38,
   "metadata": {},
   "outputs": [],
   "source": [
    "from sklearn.ensemble import RandomForestRegressor\n",
    "from sklearn.model_selection import GridSearchCV"
   ]
  },
  {
   "cell_type": "markdown",
   "metadata": {},
   "source": [
    "### Grid"
   ]
  },
  {
   "cell_type": "code",
   "execution_count": 39,
   "metadata": {},
   "outputs": [],
   "source": [
    "param_grid=[\n",
    "    {\"n_estimators\":[100,200,300,400,500], \"max_features\":[2,4,6],\n",
    "     \"bootstrap\":[False,True]}\n",
    "]"
   ]
  },
  {
   "cell_type": "code",
   "execution_count": 40,
   "metadata": {},
   "outputs": [],
   "source": [
    "random_reg=RandomForestRegressor()\n",
    "grid_search = GridSearchCV(estimator=random_reg, param_grid=param_grid,\n",
    "                 cv=5,return_train_score=True)"
   ]
  },
  {
   "cell_type": "markdown",
   "metadata": {},
   "source": [
    "### Predictions"
   ]
  },
  {
   "cell_type": "code",
   "execution_count": 41,
   "metadata": {},
   "outputs": [
    {
     "data": {
      "text/plain": [
       "GridSearchCV(cv=5, estimator=RandomForestRegressor(),\n",
       "             param_grid=[{'bootstrap': [False, True], 'max_features': [2, 4, 6],\n",
       "                          'n_estimators': [100, 200, 300, 400, 500]}],\n",
       "             return_train_score=True)"
      ]
     },
     "execution_count": 41,
     "metadata": {},
     "output_type": "execute_result"
    }
   ],
   "source": [
    "grid_search.fit(X_train, y_train)"
   ]
  },
  {
   "cell_type": "code",
   "execution_count": 42,
   "metadata": {},
   "outputs": [
    {
     "data": {
      "text/plain": [
       "{'bootstrap': False, 'max_features': 6, 'n_estimators': 500}"
      ]
     },
     "execution_count": 42,
     "metadata": {},
     "output_type": "execute_result"
    }
   ],
   "source": [
    "grid_search.best_params_"
   ]
  },
  {
   "cell_type": "markdown",
   "metadata": {},
   "source": [
    "### Results"
   ]
  },
  {
   "cell_type": "code",
   "execution_count": 43,
   "metadata": {},
   "outputs": [],
   "source": [
    "rf_predictions=grid_search.predict(X_test)"
   ]
  },
  {
   "cell_type": "code",
   "execution_count": 44,
   "metadata": {},
   "outputs": [],
   "source": [
    "res_rf=performance_list(\"Random Forest Performance\", rf_predictions, y_test)"
   ]
  },
  {
   "cell_type": "code",
   "execution_count": 45,
   "metadata": {},
   "outputs": [
    {
     "data": {
      "text/html": [
       "<div>\n",
       "<style scoped>\n",
       "    .dataframe tbody tr th:only-of-type {\n",
       "        vertical-align: middle;\n",
       "    }\n",
       "\n",
       "    .dataframe tbody tr th {\n",
       "        vertical-align: top;\n",
       "    }\n",
       "\n",
       "    .dataframe thead th {\n",
       "        text-align: right;\n",
       "    }\n",
       "</style>\n",
       "<table border=\"1\" class=\"dataframe\">\n",
       "  <thead>\n",
       "    <tr style=\"text-align: right;\">\n",
       "      <th></th>\n",
       "      <th>Name</th>\n",
       "      <th># of inst</th>\n",
       "      <th>Mean</th>\n",
       "      <th>Standard Dev.</th>\n",
       "      <th>FBias</th>\n",
       "      <th>MPE</th>\n",
       "      <th>MAPE</th>\n",
       "      <th>RMSE</th>\n",
       "      <th>MAD</th>\n",
       "      <th>WMAPE</th>\n",
       "    </tr>\n",
       "  </thead>\n",
       "  <tbody>\n",
       "    <tr>\n",
       "      <th>0</th>\n",
       "      <td>Random Forest Performance</td>\n",
       "      <td>189</td>\n",
       "      <td>4134.982683</td>\n",
       "      <td>2279.665782</td>\n",
       "      <td>-0.004874</td>\n",
       "      <td>NaN</td>\n",
       "      <td>NaN</td>\n",
       "      <td>43.617145</td>\n",
       "      <td>359.742988</td>\n",
       "      <td>0.087</td>\n",
       "    </tr>\n",
       "  </tbody>\n",
       "</table>\n",
       "</div>"
      ],
      "text/plain": [
       "                        Name  # of inst         Mean  Standard Dev.     FBias  \\\n",
       "0  Random Forest Performance        189  4134.982683    2279.665782 -0.004874   \n",
       "\n",
       "   MPE  MAPE       RMSE         MAD  WMAPE  \n",
       "0  NaN   NaN  43.617145  359.742988  0.087  "
      ]
     },
     "execution_count": 45,
     "metadata": {},
     "output_type": "execute_result"
    }
   ],
   "source": [
    "res_rf"
   ]
  },
  {
   "cell_type": "markdown",
   "metadata": {},
   "source": [
    "# Feature Extraction"
   ]
  },
  {
   "cell_type": "code",
   "execution_count": 46,
   "metadata": {},
   "outputs": [],
   "source": [
    "from sklearn.tree import DecisionTreeRegressor"
   ]
  },
  {
   "cell_type": "markdown",
   "metadata": {},
   "source": [
    "### Train Node Selection"
   ]
  },
  {
   "cell_type": "code",
   "execution_count": 47,
   "metadata": {},
   "outputs": [
    {
     "data": {
      "text/plain": [
       "DecisionTreeRegressor(max_depth=5, min_samples_leaf=10)"
      ]
     },
     "execution_count": 47,
     "metadata": {},
     "output_type": "execute_result"
    }
   ],
   "source": [
    "estimator = DecisionTreeRegressor(min_samples_leaf=10, max_depth=5)\n",
    "estimator.fit(X_train, y_train)"
   ]
  },
  {
   "cell_type": "code",
   "execution_count": 48,
   "metadata": {},
   "outputs": [],
   "source": [
    "on_leaf = estimator.apply(X_train)"
   ]
  },
  {
   "cell_type": "code",
   "execution_count": 49,
   "metadata": {},
   "outputs": [],
   "source": [
    "X_train_ext=X_train[:]"
   ]
  },
  {
   "cell_type": "code",
   "execution_count": 50,
   "metadata": {},
   "outputs": [
    {
     "name": "stderr",
     "output_type": "stream",
     "text": [
      "C:\\Users\\bahad\\anaconda3\\envs\\r-tutorial\\lib\\site-packages\\ipykernel_launcher.py:1: SettingWithCopyWarning: \n",
      "A value is trying to be set on a copy of a slice from a DataFrame.\n",
      "Try using .loc[row_indexer,col_indexer] = value instead\n",
      "\n",
      "See the caveats in the documentation: https://pandas.pydata.org/pandas-docs/stable/user_guide/indexing.html#returning-a-view-versus-a-copy\n",
      "  \"\"\"Entry point for launching an IPython kernel.\n"
     ]
    }
   ],
   "source": [
    "X_train_ext[\"Node\"] = on_leaf.tolist()"
   ]
  },
  {
   "cell_type": "code",
   "execution_count": 51,
   "metadata": {},
   "outputs": [
    {
     "data": {
      "text/html": [
       "<div>\n",
       "<style scoped>\n",
       "    .dataframe tbody tr th:only-of-type {\n",
       "        vertical-align: middle;\n",
       "    }\n",
       "\n",
       "    .dataframe tbody tr th {\n",
       "        vertical-align: top;\n",
       "    }\n",
       "\n",
       "    .dataframe thead th {\n",
       "        text-align: right;\n",
       "    }\n",
       "</style>\n",
       "<table border=\"1\" class=\"dataframe\">\n",
       "  <thead>\n",
       "    <tr style=\"text-align: right;\">\n",
       "      <th></th>\n",
       "      <th>Open</th>\n",
       "      <th>Promo</th>\n",
       "      <th>SchoolHoliday</th>\n",
       "      <th>0</th>\n",
       "      <th>A</th>\n",
       "      <th>B</th>\n",
       "      <th>C</th>\n",
       "      <th>Monday</th>\n",
       "      <th>Tuesday</th>\n",
       "      <th>Wednesday</th>\n",
       "      <th>Thursday</th>\n",
       "      <th>Friday</th>\n",
       "      <th>Saturday</th>\n",
       "      <th>Sunday</th>\n",
       "      <th>Node</th>\n",
       "    </tr>\n",
       "  </thead>\n",
       "  <tbody>\n",
       "    <tr>\n",
       "      <th>0</th>\n",
       "      <td>0</td>\n",
       "      <td>0</td>\n",
       "      <td>1</td>\n",
       "      <td>0.0</td>\n",
       "      <td>1.0</td>\n",
       "      <td>0.0</td>\n",
       "      <td>0.0</td>\n",
       "      <td>0.0</td>\n",
       "      <td>1.0</td>\n",
       "      <td>0.0</td>\n",
       "      <td>0.0</td>\n",
       "      <td>0.0</td>\n",
       "      <td>0.0</td>\n",
       "      <td>0.0</td>\n",
       "      <td>1</td>\n",
       "    </tr>\n",
       "    <tr>\n",
       "      <th>1</th>\n",
       "      <td>1</td>\n",
       "      <td>0</td>\n",
       "      <td>1</td>\n",
       "      <td>1.0</td>\n",
       "      <td>0.0</td>\n",
       "      <td>0.0</td>\n",
       "      <td>0.0</td>\n",
       "      <td>0.0</td>\n",
       "      <td>0.0</td>\n",
       "      <td>1.0</td>\n",
       "      <td>0.0</td>\n",
       "      <td>0.0</td>\n",
       "      <td>0.0</td>\n",
       "      <td>0.0</td>\n",
       "      <td>10</td>\n",
       "    </tr>\n",
       "    <tr>\n",
       "      <th>2</th>\n",
       "      <td>1</td>\n",
       "      <td>0</td>\n",
       "      <td>1</td>\n",
       "      <td>1.0</td>\n",
       "      <td>0.0</td>\n",
       "      <td>0.0</td>\n",
       "      <td>0.0</td>\n",
       "      <td>0.0</td>\n",
       "      <td>0.0</td>\n",
       "      <td>0.0</td>\n",
       "      <td>1.0</td>\n",
       "      <td>0.0</td>\n",
       "      <td>0.0</td>\n",
       "      <td>0.0</td>\n",
       "      <td>7</td>\n",
       "    </tr>\n",
       "    <tr>\n",
       "      <th>3</th>\n",
       "      <td>1</td>\n",
       "      <td>0</td>\n",
       "      <td>1</td>\n",
       "      <td>1.0</td>\n",
       "      <td>0.0</td>\n",
       "      <td>0.0</td>\n",
       "      <td>0.0</td>\n",
       "      <td>0.0</td>\n",
       "      <td>0.0</td>\n",
       "      <td>0.0</td>\n",
       "      <td>0.0</td>\n",
       "      <td>1.0</td>\n",
       "      <td>0.0</td>\n",
       "      <td>0.0</td>\n",
       "      <td>7</td>\n",
       "    </tr>\n",
       "    <tr>\n",
       "      <th>4</th>\n",
       "      <td>1</td>\n",
       "      <td>0</td>\n",
       "      <td>0</td>\n",
       "      <td>1.0</td>\n",
       "      <td>0.0</td>\n",
       "      <td>0.0</td>\n",
       "      <td>0.0</td>\n",
       "      <td>0.0</td>\n",
       "      <td>0.0</td>\n",
       "      <td>0.0</td>\n",
       "      <td>0.0</td>\n",
       "      <td>0.0</td>\n",
       "      <td>1.0</td>\n",
       "      <td>0.0</td>\n",
       "      <td>11</td>\n",
       "    </tr>\n",
       "    <tr>\n",
       "      <th>...</th>\n",
       "      <td>...</td>\n",
       "      <td>...</td>\n",
       "      <td>...</td>\n",
       "      <td>...</td>\n",
       "      <td>...</td>\n",
       "      <td>...</td>\n",
       "      <td>...</td>\n",
       "      <td>...</td>\n",
       "      <td>...</td>\n",
       "      <td>...</td>\n",
       "      <td>...</td>\n",
       "      <td>...</td>\n",
       "      <td>...</td>\n",
       "      <td>...</td>\n",
       "      <td>...</td>\n",
       "    </tr>\n",
       "    <tr>\n",
       "      <th>748</th>\n",
       "      <td>1</td>\n",
       "      <td>0</td>\n",
       "      <td>0</td>\n",
       "      <td>1.0</td>\n",
       "      <td>0.0</td>\n",
       "      <td>0.0</td>\n",
       "      <td>0.0</td>\n",
       "      <td>1.0</td>\n",
       "      <td>0.0</td>\n",
       "      <td>0.0</td>\n",
       "      <td>0.0</td>\n",
       "      <td>0.0</td>\n",
       "      <td>0.0</td>\n",
       "      <td>0.0</td>\n",
       "      <td>6</td>\n",
       "    </tr>\n",
       "    <tr>\n",
       "      <th>749</th>\n",
       "      <td>1</td>\n",
       "      <td>0</td>\n",
       "      <td>0</td>\n",
       "      <td>1.0</td>\n",
       "      <td>0.0</td>\n",
       "      <td>0.0</td>\n",
       "      <td>0.0</td>\n",
       "      <td>0.0</td>\n",
       "      <td>1.0</td>\n",
       "      <td>0.0</td>\n",
       "      <td>0.0</td>\n",
       "      <td>0.0</td>\n",
       "      <td>0.0</td>\n",
       "      <td>0.0</td>\n",
       "      <td>6</td>\n",
       "    </tr>\n",
       "    <tr>\n",
       "      <th>750</th>\n",
       "      <td>1</td>\n",
       "      <td>0</td>\n",
       "      <td>0</td>\n",
       "      <td>1.0</td>\n",
       "      <td>0.0</td>\n",
       "      <td>0.0</td>\n",
       "      <td>0.0</td>\n",
       "      <td>0.0</td>\n",
       "      <td>0.0</td>\n",
       "      <td>1.0</td>\n",
       "      <td>0.0</td>\n",
       "      <td>0.0</td>\n",
       "      <td>0.0</td>\n",
       "      <td>0.0</td>\n",
       "      <td>9</td>\n",
       "    </tr>\n",
       "    <tr>\n",
       "      <th>751</th>\n",
       "      <td>1</td>\n",
       "      <td>0</td>\n",
       "      <td>0</td>\n",
       "      <td>1.0</td>\n",
       "      <td>0.0</td>\n",
       "      <td>0.0</td>\n",
       "      <td>0.0</td>\n",
       "      <td>0.0</td>\n",
       "      <td>0.0</td>\n",
       "      <td>0.0</td>\n",
       "      <td>1.0</td>\n",
       "      <td>0.0</td>\n",
       "      <td>0.0</td>\n",
       "      <td>0.0</td>\n",
       "      <td>6</td>\n",
       "    </tr>\n",
       "    <tr>\n",
       "      <th>752</th>\n",
       "      <td>1</td>\n",
       "      <td>0</td>\n",
       "      <td>0</td>\n",
       "      <td>1.0</td>\n",
       "      <td>0.0</td>\n",
       "      <td>0.0</td>\n",
       "      <td>0.0</td>\n",
       "      <td>0.0</td>\n",
       "      <td>0.0</td>\n",
       "      <td>0.0</td>\n",
       "      <td>0.0</td>\n",
       "      <td>1.0</td>\n",
       "      <td>0.0</td>\n",
       "      <td>0.0</td>\n",
       "      <td>6</td>\n",
       "    </tr>\n",
       "  </tbody>\n",
       "</table>\n",
       "<p>753 rows × 15 columns</p>\n",
       "</div>"
      ],
      "text/plain": [
       "     Open  Promo  SchoolHoliday    0    A    B    C  Monday  Tuesday  \\\n",
       "0       0      0              1  0.0  1.0  0.0  0.0     0.0      1.0   \n",
       "1       1      0              1  1.0  0.0  0.0  0.0     0.0      0.0   \n",
       "2       1      0              1  1.0  0.0  0.0  0.0     0.0      0.0   \n",
       "3       1      0              1  1.0  0.0  0.0  0.0     0.0      0.0   \n",
       "4       1      0              0  1.0  0.0  0.0  0.0     0.0      0.0   \n",
       "..    ...    ...            ...  ...  ...  ...  ...     ...      ...   \n",
       "748     1      0              0  1.0  0.0  0.0  0.0     1.0      0.0   \n",
       "749     1      0              0  1.0  0.0  0.0  0.0     0.0      1.0   \n",
       "750     1      0              0  1.0  0.0  0.0  0.0     0.0      0.0   \n",
       "751     1      0              0  1.0  0.0  0.0  0.0     0.0      0.0   \n",
       "752     1      0              0  1.0  0.0  0.0  0.0     0.0      0.0   \n",
       "\n",
       "     Wednesday  Thursday  Friday  Saturday  Sunday  Node  \n",
       "0          0.0       0.0     0.0       0.0     0.0     1  \n",
       "1          1.0       0.0     0.0       0.0     0.0    10  \n",
       "2          0.0       1.0     0.0       0.0     0.0     7  \n",
       "3          0.0       0.0     1.0       0.0     0.0     7  \n",
       "4          0.0       0.0     0.0       1.0     0.0    11  \n",
       "..         ...       ...     ...       ...     ...   ...  \n",
       "748        0.0       0.0     0.0       0.0     0.0     6  \n",
       "749        0.0       0.0     0.0       0.0     0.0     6  \n",
       "750        1.0       0.0     0.0       0.0     0.0     9  \n",
       "751        0.0       1.0     0.0       0.0     0.0     6  \n",
       "752        0.0       0.0     1.0       0.0     0.0     6  \n",
       "\n",
       "[753 rows x 15 columns]"
      ]
     },
     "execution_count": 51,
     "metadata": {},
     "output_type": "execute_result"
    }
   ],
   "source": [
    "X_train_ext"
   ]
  },
  {
   "cell_type": "markdown",
   "metadata": {},
   "source": [
    "### Test Node Selection"
   ]
  },
  {
   "cell_type": "code",
   "execution_count": 52,
   "metadata": {},
   "outputs": [],
   "source": [
    "on_leaf_test = estimator.apply(X_test)"
   ]
  },
  {
   "cell_type": "code",
   "execution_count": 53,
   "metadata": {},
   "outputs": [],
   "source": [
    "X_test_ext=X_test[:]"
   ]
  },
  {
   "cell_type": "code",
   "execution_count": 54,
   "metadata": {},
   "outputs": [
    {
     "name": "stderr",
     "output_type": "stream",
     "text": [
      "C:\\Users\\bahad\\anaconda3\\envs\\r-tutorial\\lib\\site-packages\\ipykernel_launcher.py:1: SettingWithCopyWarning: \n",
      "A value is trying to be set on a copy of a slice from a DataFrame.\n",
      "Try using .loc[row_indexer,col_indexer] = value instead\n",
      "\n",
      "See the caveats in the documentation: https://pandas.pydata.org/pandas-docs/stable/user_guide/indexing.html#returning-a-view-versus-a-copy\n",
      "  \"\"\"Entry point for launching an IPython kernel.\n"
     ]
    }
   ],
   "source": [
    "X_test_ext[\"Node\"] = on_leaf_test.tolist()"
   ]
  },
  {
   "cell_type": "code",
   "execution_count": 55,
   "metadata": {},
   "outputs": [
    {
     "data": {
      "text/html": [
       "<div>\n",
       "<style scoped>\n",
       "    .dataframe tbody tr th:only-of-type {\n",
       "        vertical-align: middle;\n",
       "    }\n",
       "\n",
       "    .dataframe tbody tr th {\n",
       "        vertical-align: top;\n",
       "    }\n",
       "\n",
       "    .dataframe thead th {\n",
       "        text-align: right;\n",
       "    }\n",
       "</style>\n",
       "<table border=\"1\" class=\"dataframe\">\n",
       "  <thead>\n",
       "    <tr style=\"text-align: right;\">\n",
       "      <th></th>\n",
       "      <th>Open</th>\n",
       "      <th>Promo</th>\n",
       "      <th>SchoolHoliday</th>\n",
       "      <th>0</th>\n",
       "      <th>A</th>\n",
       "      <th>B</th>\n",
       "      <th>C</th>\n",
       "      <th>Monday</th>\n",
       "      <th>Tuesday</th>\n",
       "      <th>Wednesday</th>\n",
       "      <th>Thursday</th>\n",
       "      <th>Friday</th>\n",
       "      <th>Saturday</th>\n",
       "      <th>Sunday</th>\n",
       "      <th>Node</th>\n",
       "    </tr>\n",
       "  </thead>\n",
       "  <tbody>\n",
       "    <tr>\n",
       "      <th>753</th>\n",
       "      <td>1</td>\n",
       "      <td>0</td>\n",
       "      <td>0</td>\n",
       "      <td>1.0</td>\n",
       "      <td>0.0</td>\n",
       "      <td>0.0</td>\n",
       "      <td>0.0</td>\n",
       "      <td>0.0</td>\n",
       "      <td>0.0</td>\n",
       "      <td>0.0</td>\n",
       "      <td>0.0</td>\n",
       "      <td>0.0</td>\n",
       "      <td>1.0</td>\n",
       "      <td>0.0</td>\n",
       "      <td>11</td>\n",
       "    </tr>\n",
       "    <tr>\n",
       "      <th>754</th>\n",
       "      <td>0</td>\n",
       "      <td>0</td>\n",
       "      <td>0</td>\n",
       "      <td>1.0</td>\n",
       "      <td>0.0</td>\n",
       "      <td>0.0</td>\n",
       "      <td>0.0</td>\n",
       "      <td>0.0</td>\n",
       "      <td>0.0</td>\n",
       "      <td>0.0</td>\n",
       "      <td>0.0</td>\n",
       "      <td>0.0</td>\n",
       "      <td>0.0</td>\n",
       "      <td>1.0</td>\n",
       "      <td>1</td>\n",
       "    </tr>\n",
       "    <tr>\n",
       "      <th>755</th>\n",
       "      <td>1</td>\n",
       "      <td>1</td>\n",
       "      <td>0</td>\n",
       "      <td>1.0</td>\n",
       "      <td>0.0</td>\n",
       "      <td>0.0</td>\n",
       "      <td>0.0</td>\n",
       "      <td>1.0</td>\n",
       "      <td>0.0</td>\n",
       "      <td>0.0</td>\n",
       "      <td>0.0</td>\n",
       "      <td>0.0</td>\n",
       "      <td>0.0</td>\n",
       "      <td>0.0</td>\n",
       "      <td>21</td>\n",
       "    </tr>\n",
       "    <tr>\n",
       "      <th>756</th>\n",
       "      <td>1</td>\n",
       "      <td>1</td>\n",
       "      <td>0</td>\n",
       "      <td>1.0</td>\n",
       "      <td>0.0</td>\n",
       "      <td>0.0</td>\n",
       "      <td>0.0</td>\n",
       "      <td>0.0</td>\n",
       "      <td>1.0</td>\n",
       "      <td>0.0</td>\n",
       "      <td>0.0</td>\n",
       "      <td>0.0</td>\n",
       "      <td>0.0</td>\n",
       "      <td>0.0</td>\n",
       "      <td>15</td>\n",
       "    </tr>\n",
       "    <tr>\n",
       "      <th>757</th>\n",
       "      <td>1</td>\n",
       "      <td>1</td>\n",
       "      <td>0</td>\n",
       "      <td>1.0</td>\n",
       "      <td>0.0</td>\n",
       "      <td>0.0</td>\n",
       "      <td>0.0</td>\n",
       "      <td>0.0</td>\n",
       "      <td>0.0</td>\n",
       "      <td>1.0</td>\n",
       "      <td>0.0</td>\n",
       "      <td>0.0</td>\n",
       "      <td>0.0</td>\n",
       "      <td>0.0</td>\n",
       "      <td>15</td>\n",
       "    </tr>\n",
       "    <tr>\n",
       "      <th>...</th>\n",
       "      <td>...</td>\n",
       "      <td>...</td>\n",
       "      <td>...</td>\n",
       "      <td>...</td>\n",
       "      <td>...</td>\n",
       "      <td>...</td>\n",
       "      <td>...</td>\n",
       "      <td>...</td>\n",
       "      <td>...</td>\n",
       "      <td>...</td>\n",
       "      <td>...</td>\n",
       "      <td>...</td>\n",
       "      <td>...</td>\n",
       "      <td>...</td>\n",
       "      <td>...</td>\n",
       "    </tr>\n",
       "    <tr>\n",
       "      <th>937</th>\n",
       "      <td>1</td>\n",
       "      <td>1</td>\n",
       "      <td>1</td>\n",
       "      <td>1.0</td>\n",
       "      <td>0.0</td>\n",
       "      <td>0.0</td>\n",
       "      <td>0.0</td>\n",
       "      <td>1.0</td>\n",
       "      <td>0.0</td>\n",
       "      <td>0.0</td>\n",
       "      <td>0.0</td>\n",
       "      <td>0.0</td>\n",
       "      <td>0.0</td>\n",
       "      <td>0.0</td>\n",
       "      <td>22</td>\n",
       "    </tr>\n",
       "    <tr>\n",
       "      <th>938</th>\n",
       "      <td>1</td>\n",
       "      <td>1</td>\n",
       "      <td>1</td>\n",
       "      <td>1.0</td>\n",
       "      <td>0.0</td>\n",
       "      <td>0.0</td>\n",
       "      <td>0.0</td>\n",
       "      <td>0.0</td>\n",
       "      <td>1.0</td>\n",
       "      <td>0.0</td>\n",
       "      <td>0.0</td>\n",
       "      <td>0.0</td>\n",
       "      <td>0.0</td>\n",
       "      <td>0.0</td>\n",
       "      <td>15</td>\n",
       "    </tr>\n",
       "    <tr>\n",
       "      <th>939</th>\n",
       "      <td>1</td>\n",
       "      <td>1</td>\n",
       "      <td>1</td>\n",
       "      <td>1.0</td>\n",
       "      <td>0.0</td>\n",
       "      <td>0.0</td>\n",
       "      <td>0.0</td>\n",
       "      <td>0.0</td>\n",
       "      <td>0.0</td>\n",
       "      <td>1.0</td>\n",
       "      <td>0.0</td>\n",
       "      <td>0.0</td>\n",
       "      <td>0.0</td>\n",
       "      <td>0.0</td>\n",
       "      <td>15</td>\n",
       "    </tr>\n",
       "    <tr>\n",
       "      <th>940</th>\n",
       "      <td>1</td>\n",
       "      <td>1</td>\n",
       "      <td>1</td>\n",
       "      <td>1.0</td>\n",
       "      <td>0.0</td>\n",
       "      <td>0.0</td>\n",
       "      <td>0.0</td>\n",
       "      <td>0.0</td>\n",
       "      <td>0.0</td>\n",
       "      <td>0.0</td>\n",
       "      <td>1.0</td>\n",
       "      <td>0.0</td>\n",
       "      <td>0.0</td>\n",
       "      <td>0.0</td>\n",
       "      <td>16</td>\n",
       "    </tr>\n",
       "    <tr>\n",
       "      <th>941</th>\n",
       "      <td>1</td>\n",
       "      <td>1</td>\n",
       "      <td>1</td>\n",
       "      <td>1.0</td>\n",
       "      <td>0.0</td>\n",
       "      <td>0.0</td>\n",
       "      <td>0.0</td>\n",
       "      <td>0.0</td>\n",
       "      <td>0.0</td>\n",
       "      <td>0.0</td>\n",
       "      <td>0.0</td>\n",
       "      <td>1.0</td>\n",
       "      <td>0.0</td>\n",
       "      <td>0.0</td>\n",
       "      <td>19</td>\n",
       "    </tr>\n",
       "  </tbody>\n",
       "</table>\n",
       "<p>189 rows × 15 columns</p>\n",
       "</div>"
      ],
      "text/plain": [
       "     Open  Promo  SchoolHoliday    0    A    B    C  Monday  Tuesday  \\\n",
       "753     1      0              0  1.0  0.0  0.0  0.0     0.0      0.0   \n",
       "754     0      0              0  1.0  0.0  0.0  0.0     0.0      0.0   \n",
       "755     1      1              0  1.0  0.0  0.0  0.0     1.0      0.0   \n",
       "756     1      1              0  1.0  0.0  0.0  0.0     0.0      1.0   \n",
       "757     1      1              0  1.0  0.0  0.0  0.0     0.0      0.0   \n",
       "..    ...    ...            ...  ...  ...  ...  ...     ...      ...   \n",
       "937     1      1              1  1.0  0.0  0.0  0.0     1.0      0.0   \n",
       "938     1      1              1  1.0  0.0  0.0  0.0     0.0      1.0   \n",
       "939     1      1              1  1.0  0.0  0.0  0.0     0.0      0.0   \n",
       "940     1      1              1  1.0  0.0  0.0  0.0     0.0      0.0   \n",
       "941     1      1              1  1.0  0.0  0.0  0.0     0.0      0.0   \n",
       "\n",
       "     Wednesday  Thursday  Friday  Saturday  Sunday  Node  \n",
       "753        0.0       0.0     0.0       1.0     0.0    11  \n",
       "754        0.0       0.0     0.0       0.0     1.0     1  \n",
       "755        0.0       0.0     0.0       0.0     0.0    21  \n",
       "756        0.0       0.0     0.0       0.0     0.0    15  \n",
       "757        1.0       0.0     0.0       0.0     0.0    15  \n",
       "..         ...       ...     ...       ...     ...   ...  \n",
       "937        0.0       0.0     0.0       0.0     0.0    22  \n",
       "938        0.0       0.0     0.0       0.0     0.0    15  \n",
       "939        1.0       0.0     0.0       0.0     0.0    15  \n",
       "940        0.0       1.0     0.0       0.0     0.0    16  \n",
       "941        0.0       0.0     1.0       0.0     0.0    19  \n",
       "\n",
       "[189 rows x 15 columns]"
      ]
     },
     "execution_count": 55,
     "metadata": {},
     "output_type": "execute_result"
    }
   ],
   "source": [
    "X_test_ext"
   ]
  },
  {
   "cell_type": "markdown",
   "metadata": {},
   "source": [
    "### Feature Adding"
   ]
  },
  {
   "cell_type": "markdown",
   "metadata": {},
   "source": [
    "Ma=1 kullanıldı daha hızlı bir şekilde anlaşılması için"
   ]
  },
  {
   "cell_type": "code",
   "execution_count": 56,
   "metadata": {},
   "outputs": [],
   "source": [
    "Xframes_feature=[X_train_ext, X_test_ext]\n",
    "yframes_feature=[y_train, y_test]\n",
    "X_concat=pd.concat(Xframes_feature)\n",
    "Y_concat=pd.concat(yframes_feature)\n",
    "final_frame=[X_concat, Y_concat]\n",
    "concated_df=pd.concat(final_frame, axis=1)"
   ]
  },
  {
   "cell_type": "code",
   "execution_count": 57,
   "metadata": {},
   "outputs": [],
   "source": [
    "concated_df[\"new_feature\"] = concated_df.groupby([\"Node\"])[\"Sales\"].shift(+1)"
   ]
  },
  {
   "cell_type": "code",
   "execution_count": 58,
   "metadata": {},
   "outputs": [],
   "source": [
    "X_test_new=concated_df.iloc[len(X_train):].drop([\"Sales\",\"Node\"], axis=1)\n",
    "\n",
    "y_test_new=concated_df.iloc[len(X_train):][\"new_feature\"]"
   ]
  },
  {
   "cell_type": "code",
   "execution_count": 59,
   "metadata": {},
   "outputs": [],
   "source": [
    "train_new=concated_df.iloc[:len(X_train)]"
   ]
  },
  {
   "cell_type": "code",
   "execution_count": 60,
   "metadata": {},
   "outputs": [
    {
     "name": "stderr",
     "output_type": "stream",
     "text": [
      "C:\\Users\\bahad\\anaconda3\\envs\\r-tutorial\\lib\\site-packages\\ipykernel_launcher.py:1: SettingWithCopyWarning: \n",
      "A value is trying to be set on a copy of a slice from a DataFrame\n",
      "\n",
      "See the caveats in the documentation: https://pandas.pydata.org/pandas-docs/stable/user_guide/indexing.html#returning-a-view-versus-a-copy\n",
      "  \"\"\"Entry point for launching an IPython kernel.\n"
     ]
    }
   ],
   "source": [
    "train_new.dropna(inplace=True);\n",
    "train_new.reset_index(drop=True, inplace=True)"
   ]
  },
  {
   "cell_type": "code",
   "execution_count": 61,
   "metadata": {},
   "outputs": [],
   "source": [
    "X_train_new=train_new.drop([\"Sales\",\"Node\"], axis=1)\n",
    "\n",
    "y_train_new=train_new[\"new_feature\"]"
   ]
  },
  {
   "cell_type": "markdown",
   "metadata": {},
   "source": [
    "## Short Prediction Quality"
   ]
  },
  {
   "cell_type": "markdown",
   "metadata": {},
   "source": [
    "### Elastic Net"
   ]
  },
  {
   "cell_type": "code",
   "execution_count": 62,
   "metadata": {},
   "outputs": [
    {
     "data": {
      "text/plain": [
       "ElasticNet(alpha=0.1)"
      ]
     },
     "execution_count": 62,
     "metadata": {},
     "output_type": "execute_result"
    }
   ],
   "source": [
    "elastic_net_new = ElasticNet(alpha=0.1, l1_ratio=0.5)\n",
    "elastic_net_new.fit(X_train_new, y_train_new)"
   ]
  },
  {
   "cell_type": "code",
   "execution_count": 63,
   "metadata": {},
   "outputs": [
    {
     "data": {
      "text/html": [
       "<div>\n",
       "<style scoped>\n",
       "    .dataframe tbody tr th:only-of-type {\n",
       "        vertical-align: middle;\n",
       "    }\n",
       "\n",
       "    .dataframe tbody tr th {\n",
       "        vertical-align: top;\n",
       "    }\n",
       "\n",
       "    .dataframe thead th {\n",
       "        text-align: right;\n",
       "    }\n",
       "</style>\n",
       "<table border=\"1\" class=\"dataframe\">\n",
       "  <thead>\n",
       "    <tr style=\"text-align: right;\">\n",
       "      <th></th>\n",
       "      <th>Name</th>\n",
       "      <th># of inst</th>\n",
       "      <th>Mean</th>\n",
       "      <th>Standard Dev.</th>\n",
       "      <th>FBias</th>\n",
       "      <th>MPE</th>\n",
       "      <th>MAPE</th>\n",
       "      <th>RMSE</th>\n",
       "      <th>MAD</th>\n",
       "      <th>WMAPE</th>\n",
       "    </tr>\n",
       "  </thead>\n",
       "  <tbody>\n",
       "    <tr>\n",
       "      <th>0</th>\n",
       "      <td>Elastic Net Performance with Feature Extraction</td>\n",
       "      <td>189</td>\n",
       "      <td>4130.68783</td>\n",
       "      <td>2347.563958</td>\n",
       "      <td>-9.695749e-11</td>\n",
       "      <td>0.169312</td>\n",
       "      <td>0.169312</td>\n",
       "      <td>0.000003</td>\n",
       "      <td>0.000033</td>\n",
       "      <td>7.942154e-09</td>\n",
       "    </tr>\n",
       "  </tbody>\n",
       "</table>\n",
       "</div>"
      ],
      "text/plain": [
       "                                              Name  # of inst        Mean  \\\n",
       "0  Elastic Net Performance with Feature Extraction        189  4130.68783   \n",
       "\n",
       "   Standard Dev.         FBias       MPE      MAPE      RMSE       MAD  \\\n",
       "0    2347.563958 -9.695749e-11  0.169312  0.169312  0.000003  0.000033   \n",
       "\n",
       "          WMAPE  \n",
       "0  7.942154e-09  "
      ]
     },
     "execution_count": 63,
     "metadata": {},
     "output_type": "execute_result"
    }
   ],
   "source": [
    "elastic_predictions_new=elastic_net_new.predict(X_test_new)\n",
    "\n",
    "res_elastic_new=performance_list(\"Elastic Net Performance with Feature Extraction\", elastic_predictions_new, y_test_new)\n",
    "\n",
    "res_elastic_new"
   ]
  },
  {
   "cell_type": "markdown",
   "metadata": {},
   "source": [
    "### SVM"
   ]
  },
  {
   "cell_type": "markdown",
   "metadata": {},
   "source": [
    "#### Linear"
   ]
  },
  {
   "cell_type": "code",
   "execution_count": 64,
   "metadata": {
    "scrolled": true
   },
   "outputs": [
    {
     "name": "stderr",
     "output_type": "stream",
     "text": [
      "C:\\Users\\bahad\\anaconda3\\envs\\r-tutorial\\lib\\site-packages\\sklearn\\svm\\_base.py:977: ConvergenceWarning: Liblinear failed to converge, increase the number of iterations.\n",
      "  \"the number of iterations.\", ConvergenceWarning)\n"
     ]
    },
    {
     "data": {
      "text/plain": [
       "LinearSVR(epsilon=1)"
      ]
     },
     "execution_count": 64,
     "metadata": {},
     "output_type": "execute_result"
    }
   ],
   "source": [
    "sv_regressor_new=LinearSVR(epsilon=1)\n",
    "sv_regressor_new.fit(X_train_new, y_train_new)"
   ]
  },
  {
   "cell_type": "code",
   "execution_count": 65,
   "metadata": {
    "scrolled": true
   },
   "outputs": [
    {
     "data": {
      "text/html": [
       "<div>\n",
       "<style scoped>\n",
       "    .dataframe tbody tr th:only-of-type {\n",
       "        vertical-align: middle;\n",
       "    }\n",
       "\n",
       "    .dataframe tbody tr th {\n",
       "        vertical-align: top;\n",
       "    }\n",
       "\n",
       "    .dataframe thead th {\n",
       "        text-align: right;\n",
       "    }\n",
       "</style>\n",
       "<table border=\"1\" class=\"dataframe\">\n",
       "  <thead>\n",
       "    <tr style=\"text-align: right;\">\n",
       "      <th></th>\n",
       "      <th>Name</th>\n",
       "      <th># of inst</th>\n",
       "      <th>Mean</th>\n",
       "      <th>Standard Dev.</th>\n",
       "      <th>FBias</th>\n",
       "      <th>MPE</th>\n",
       "      <th>MAPE</th>\n",
       "      <th>RMSE</th>\n",
       "      <th>MAD</th>\n",
       "      <th>WMAPE</th>\n",
       "    </tr>\n",
       "  </thead>\n",
       "  <tbody>\n",
       "    <tr>\n",
       "      <th>0</th>\n",
       "      <td>SVR Linear Performance with Feature Extraction</td>\n",
       "      <td>189</td>\n",
       "      <td>4130.199975</td>\n",
       "      <td>2347.286447</td>\n",
       "      <td>-0.000118</td>\n",
       "      <td>0.169214</td>\n",
       "      <td>0.16941</td>\n",
       "      <td>0.040827</td>\n",
       "      <td>0.488004</td>\n",
       "      <td>0.000118</td>\n",
       "    </tr>\n",
       "  </tbody>\n",
       "</table>\n",
       "</div>"
      ],
      "text/plain": [
       "                                             Name  # of inst         Mean  \\\n",
       "0  SVR Linear Performance with Feature Extraction        189  4130.199975   \n",
       "\n",
       "   Standard Dev.     FBias       MPE     MAPE      RMSE       MAD     WMAPE  \n",
       "0    2347.286447 -0.000118  0.169214  0.16941  0.040827  0.488004  0.000118  "
      ]
     },
     "execution_count": 65,
     "metadata": {},
     "output_type": "execute_result"
    }
   ],
   "source": [
    "svm_predictions_new=sv_regressor_new.predict(X_test_new)\n",
    "\n",
    "res_svr_new=performance_list(\"SVR Linear Performance with Feature Extraction\", \n",
    "                                svm_predictions_new, y_test_new)\n",
    "\n",
    "res_svr_new"
   ]
  },
  {
   "cell_type": "markdown",
   "metadata": {},
   "source": [
    "#### Poly"
   ]
  },
  {
   "cell_type": "code",
   "execution_count": 66,
   "metadata": {},
   "outputs": [
    {
     "data": {
      "text/plain": [
       "SVR(C=50, degree=2, epsilon=0.05, kernel='poly')"
      ]
     },
     "execution_count": 66,
     "metadata": {},
     "output_type": "execute_result"
    }
   ],
   "source": [
    "sv_regressor_poly_new=SVR(kernel=\"poly\", degree=2, C=50, epsilon=0.05)\n",
    "sv_regressor_poly_new.fit(X_train_new, y_train_new)"
   ]
  },
  {
   "cell_type": "code",
   "execution_count": 67,
   "metadata": {
    "scrolled": true
   },
   "outputs": [
    {
     "data": {
      "text/html": [
       "<div>\n",
       "<style scoped>\n",
       "    .dataframe tbody tr th:only-of-type {\n",
       "        vertical-align: middle;\n",
       "    }\n",
       "\n",
       "    .dataframe tbody tr th {\n",
       "        vertical-align: top;\n",
       "    }\n",
       "\n",
       "    .dataframe thead th {\n",
       "        text-align: right;\n",
       "    }\n",
       "</style>\n",
       "<table border=\"1\" class=\"dataframe\">\n",
       "  <thead>\n",
       "    <tr style=\"text-align: right;\">\n",
       "      <th></th>\n",
       "      <th>Name</th>\n",
       "      <th># of inst</th>\n",
       "      <th>Mean</th>\n",
       "      <th>Standard Dev.</th>\n",
       "      <th>FBias</th>\n",
       "      <th>MPE</th>\n",
       "      <th>MAPE</th>\n",
       "      <th>RMSE</th>\n",
       "      <th>MAD</th>\n",
       "      <th>WMAPE</th>\n",
       "    </tr>\n",
       "  </thead>\n",
       "  <tbody>\n",
       "    <tr>\n",
       "      <th>0</th>\n",
       "      <td>SVR Polynomail Performance with Feature Extrac...</td>\n",
       "      <td>189</td>\n",
       "      <td>4556.19991</td>\n",
       "      <td>1881.026758</td>\n",
       "      <td>0.093392</td>\n",
       "      <td>0.174381</td>\n",
       "      <td>0.202862</td>\n",
       "      <td>72.169898</td>\n",
       "      <td>555.81941</td>\n",
       "      <td>0.121992</td>\n",
       "    </tr>\n",
       "  </tbody>\n",
       "</table>\n",
       "</div>"
      ],
      "text/plain": [
       "                                                Name  # of inst        Mean  \\\n",
       "0  SVR Polynomail Performance with Feature Extrac...        189  4556.19991   \n",
       "\n",
       "   Standard Dev.     FBias       MPE      MAPE       RMSE        MAD     WMAPE  \n",
       "0    1881.026758  0.093392  0.174381  0.202862  72.169898  555.81941  0.121992  "
      ]
     },
     "execution_count": 67,
     "metadata": {},
     "output_type": "execute_result"
    }
   ],
   "source": [
    "svm_predictions_poly_new=sv_regressor_poly_new.predict(X_test_new)\n",
    "\n",
    "res_svr_poly_new=performance_list(\"SVR Polynomail Performance with Feature Extraction\", \n",
    "                                svm_predictions_poly_new, y_test_new)\n",
    "\n",
    "res_svr_poly_new"
   ]
  },
  {
   "cell_type": "code",
   "execution_count": null,
   "metadata": {},
   "outputs": [],
   "source": []
  },
  {
   "cell_type": "markdown",
   "metadata": {},
   "source": [
    "### Random Forest"
   ]
  },
  {
   "cell_type": "code",
   "execution_count": 68,
   "metadata": {},
   "outputs": [],
   "source": [
    "random_reg_new=RandomForestRegressor()\n",
    "grid_search_new = GridSearchCV(estimator=random_reg_new, param_grid=param_grid,\n",
    "                 cv=5,return_train_score=True)"
   ]
  },
  {
   "cell_type": "code",
   "execution_count": 69,
   "metadata": {},
   "outputs": [
    {
     "data": {
      "text/plain": [
       "{'bootstrap': False, 'max_features': 6, 'n_estimators': 200}"
      ]
     },
     "execution_count": 69,
     "metadata": {},
     "output_type": "execute_result"
    }
   ],
   "source": [
    "grid_search_new.fit(X_train_new, y_train_new)\n",
    "\n",
    "grid_search_new.best_params_"
   ]
  },
  {
   "cell_type": "code",
   "execution_count": 70,
   "metadata": {},
   "outputs": [
    {
     "data": {
      "text/html": [
       "<div>\n",
       "<style scoped>\n",
       "    .dataframe tbody tr th:only-of-type {\n",
       "        vertical-align: middle;\n",
       "    }\n",
       "\n",
       "    .dataframe tbody tr th {\n",
       "        vertical-align: top;\n",
       "    }\n",
       "\n",
       "    .dataframe thead th {\n",
       "        text-align: right;\n",
       "    }\n",
       "</style>\n",
       "<table border=\"1\" class=\"dataframe\">\n",
       "  <thead>\n",
       "    <tr style=\"text-align: right;\">\n",
       "      <th></th>\n",
       "      <th>Name</th>\n",
       "      <th># of inst</th>\n",
       "      <th>Mean</th>\n",
       "      <th>Standard Dev.</th>\n",
       "      <th>FBias</th>\n",
       "      <th>MPE</th>\n",
       "      <th>MAPE</th>\n",
       "      <th>RMSE</th>\n",
       "      <th>MAD</th>\n",
       "      <th>WMAPE</th>\n",
       "    </tr>\n",
       "  </thead>\n",
       "  <tbody>\n",
       "    <tr>\n",
       "      <th>0</th>\n",
       "      <td>Random Forest Performance with Feature Extraction</td>\n",
       "      <td>189</td>\n",
       "      <td>4126.146296</td>\n",
       "      <td>2332.019778</td>\n",
       "      <td>-0.001101</td>\n",
       "      <td>NaN</td>\n",
       "      <td>NaN</td>\n",
       "      <td>5.208999</td>\n",
       "      <td>25.192593</td>\n",
       "      <td>0.006106</td>\n",
       "    </tr>\n",
       "  </tbody>\n",
       "</table>\n",
       "</div>"
      ],
      "text/plain": [
       "                                                Name  # of inst         Mean  \\\n",
       "0  Random Forest Performance with Feature Extraction        189  4126.146296   \n",
       "\n",
       "   Standard Dev.     FBias  MPE  MAPE      RMSE        MAD     WMAPE  \n",
       "0    2332.019778 -0.001101  NaN   NaN  5.208999  25.192593  0.006106  "
      ]
     },
     "execution_count": 70,
     "metadata": {},
     "output_type": "execute_result"
    }
   ],
   "source": [
    "rf_predictions_new=grid_search_new.predict(X_test_new)\n",
    "\n",
    "res_rf_new=performance_list(\"Random Forest Performance with Feature Extraction\", rf_predictions_new, y_test_new)\n",
    "\n",
    "res_rf_new"
   ]
  },
  {
   "cell_type": "code",
   "execution_count": null,
   "metadata": {},
   "outputs": [],
   "source": []
  },
  {
   "cell_type": "code",
   "execution_count": null,
   "metadata": {},
   "outputs": [],
   "source": []
  },
  {
   "cell_type": "markdown",
   "metadata": {},
   "source": [
    "# General Result Table"
   ]
  },
  {
   "cell_type": "code",
   "execution_count": 71,
   "metadata": {},
   "outputs": [],
   "source": [
    "pd.options.display.float_format = '{:,.8f}'.format"
   ]
  },
  {
   "cell_type": "code",
   "execution_count": 72,
   "metadata": {},
   "outputs": [],
   "source": [
    "result_frames=[res_elastic,res_svr_linear,res_svr_poly,res_rf, res_elastic_new,res_svr_new,res_svr_poly_new,res_rf_new]\n",
    "total_result=pd.concat(result_frames)\n",
    "total_result.reset_index(drop=True, inplace=True)"
   ]
  },
  {
   "cell_type": "code",
   "execution_count": 73,
   "metadata": {
    "scrolled": true
   },
   "outputs": [
    {
     "data": {
      "text/html": [
       "<div>\n",
       "<style scoped>\n",
       "    .dataframe tbody tr th:only-of-type {\n",
       "        vertical-align: middle;\n",
       "    }\n",
       "\n",
       "    .dataframe tbody tr th {\n",
       "        vertical-align: top;\n",
       "    }\n",
       "\n",
       "    .dataframe thead th {\n",
       "        text-align: right;\n",
       "    }\n",
       "</style>\n",
       "<table border=\"1\" class=\"dataframe\">\n",
       "  <thead>\n",
       "    <tr style=\"text-align: right;\">\n",
       "      <th></th>\n",
       "      <th>Name</th>\n",
       "      <th># of inst</th>\n",
       "      <th>Mean</th>\n",
       "      <th>Standard Dev.</th>\n",
       "      <th>FBias</th>\n",
       "      <th>MPE</th>\n",
       "      <th>MAPE</th>\n",
       "      <th>RMSE</th>\n",
       "      <th>MAD</th>\n",
       "      <th>WMAPE</th>\n",
       "    </tr>\n",
       "  </thead>\n",
       "  <tbody>\n",
       "    <tr>\n",
       "      <th>0</th>\n",
       "      <td>Elastic Net Performance</td>\n",
       "      <td>189</td>\n",
       "      <td>4,141.00033091</td>\n",
       "      <td>1,923.42308249</td>\n",
       "      <td>-0.00341397</td>\n",
       "      <td>0.14959251</td>\n",
       "      <td>0.25716853</td>\n",
       "      <td>56.01371713</td>\n",
       "      <td>537.14747215</td>\n",
       "      <td>0.12971442</td>\n",
       "    </tr>\n",
       "    <tr>\n",
       "      <th>1</th>\n",
       "      <td>Support Vector Regressor Linear Performance</td>\n",
       "      <td>189</td>\n",
       "      <td>1,724.85714286</td>\n",
       "      <td>404.65494572</td>\n",
       "      <td>-1.40897490</td>\n",
       "      <td>-1.16349594</td>\n",
       "      <td>1.50212028</td>\n",
       "      <td>228.40731230</td>\n",
       "      <td>2,730.17460317</td>\n",
       "      <td>1.58284100</td>\n",
       "    </tr>\n",
       "    <tr>\n",
       "      <th>2</th>\n",
       "      <td>Support Vector Regressor Polynomial Performance</td>\n",
       "      <td>189</td>\n",
       "      <td>3,974.70506179</td>\n",
       "      <td>2,073.62702474</td>\n",
       "      <td>-0.04539519</td>\n",
       "      <td>0.12601338</td>\n",
       "      <td>0.24950465</td>\n",
       "      <td>50.12137594</td>\n",
       "      <td>409.95872659</td>\n",
       "      <td>0.10314192</td>\n",
       "    </tr>\n",
       "    <tr>\n",
       "      <th>3</th>\n",
       "      <td>Random Forest Performance</td>\n",
       "      <td>189</td>\n",
       "      <td>4,134.98268315</td>\n",
       "      <td>2,279.66578250</td>\n",
       "      <td>-0.00487424</td>\n",
       "      <td>nan</td>\n",
       "      <td>nan</td>\n",
       "      <td>43.61714496</td>\n",
       "      <td>359.74298771</td>\n",
       "      <td>0.08699988</td>\n",
       "    </tr>\n",
       "    <tr>\n",
       "      <th>4</th>\n",
       "      <td>Elastic Net Performance with Feature Extraction</td>\n",
       "      <td>189</td>\n",
       "      <td>4,130.68783029</td>\n",
       "      <td>2,347.56395800</td>\n",
       "      <td>-0.00000000</td>\n",
       "      <td>0.16931217</td>\n",
       "      <td>0.16931217</td>\n",
       "      <td>0.00000304</td>\n",
       "      <td>0.00003281</td>\n",
       "      <td>0.00000001</td>\n",
       "    </tr>\n",
       "    <tr>\n",
       "      <th>5</th>\n",
       "      <td>SVR Linear Performance with Feature Extraction</td>\n",
       "      <td>189</td>\n",
       "      <td>4,130.19997516</td>\n",
       "      <td>2,347.28644694</td>\n",
       "      <td>-0.00011812</td>\n",
       "      <td>0.16921405</td>\n",
       "      <td>0.16941029</td>\n",
       "      <td>0.04082733</td>\n",
       "      <td>0.48800357</td>\n",
       "      <td>0.00011815</td>\n",
       "    </tr>\n",
       "    <tr>\n",
       "      <th>6</th>\n",
       "      <td>SVR Polynomail Performance with Feature Extrac...</td>\n",
       "      <td>189</td>\n",
       "      <td>4,556.19991027</td>\n",
       "      <td>1,881.02675767</td>\n",
       "      <td>0.09339188</td>\n",
       "      <td>0.17438124</td>\n",
       "      <td>0.20286211</td>\n",
       "      <td>72.16989824</td>\n",
       "      <td>555.81940971</td>\n",
       "      <td>0.12199188</td>\n",
       "    </tr>\n",
       "    <tr>\n",
       "      <th>7</th>\n",
       "      <td>Random Forest Performance with Feature Extraction</td>\n",
       "      <td>189</td>\n",
       "      <td>4,126.14629630</td>\n",
       "      <td>2,332.01977796</td>\n",
       "      <td>-0.00110067</td>\n",
       "      <td>nan</td>\n",
       "      <td>nan</td>\n",
       "      <td>5.20899932</td>\n",
       "      <td>25.19259259</td>\n",
       "      <td>0.00610560</td>\n",
       "    </tr>\n",
       "  </tbody>\n",
       "</table>\n",
       "</div>"
      ],
      "text/plain": [
       "                                                Name  # of inst  \\\n",
       "0                            Elastic Net Performance        189   \n",
       "1        Support Vector Regressor Linear Performance        189   \n",
       "2    Support Vector Regressor Polynomial Performance        189   \n",
       "3                          Random Forest Performance        189   \n",
       "4    Elastic Net Performance with Feature Extraction        189   \n",
       "5     SVR Linear Performance with Feature Extraction        189   \n",
       "6  SVR Polynomail Performance with Feature Extrac...        189   \n",
       "7  Random Forest Performance with Feature Extraction        189   \n",
       "\n",
       "            Mean  Standard Dev.       FBias         MPE       MAPE  \\\n",
       "0 4,141.00033091 1,923.42308249 -0.00341397  0.14959251 0.25716853   \n",
       "1 1,724.85714286   404.65494572 -1.40897490 -1.16349594 1.50212028   \n",
       "2 3,974.70506179 2,073.62702474 -0.04539519  0.12601338 0.24950465   \n",
       "3 4,134.98268315 2,279.66578250 -0.00487424         nan        nan   \n",
       "4 4,130.68783029 2,347.56395800 -0.00000000  0.16931217 0.16931217   \n",
       "5 4,130.19997516 2,347.28644694 -0.00011812  0.16921405 0.16941029   \n",
       "6 4,556.19991027 1,881.02675767  0.09339188  0.17438124 0.20286211   \n",
       "7 4,126.14629630 2,332.01977796 -0.00110067         nan        nan   \n",
       "\n",
       "          RMSE            MAD      WMAPE  \n",
       "0  56.01371713   537.14747215 0.12971442  \n",
       "1 228.40731230 2,730.17460317 1.58284100  \n",
       "2  50.12137594   409.95872659 0.10314192  \n",
       "3  43.61714496   359.74298771 0.08699988  \n",
       "4   0.00000304     0.00003281 0.00000001  \n",
       "5   0.04082733     0.48800357 0.00011815  \n",
       "6  72.16989824   555.81940971 0.12199188  \n",
       "7   5.20899932    25.19259259 0.00610560  "
      ]
     },
     "execution_count": 73,
     "metadata": {},
     "output_type": "execute_result"
    }
   ],
   "source": [
    "total_result"
   ]
  },
  {
   "cell_type": "markdown",
   "metadata": {},
   "source": [
    "## SVR polynomial Overfitting"
   ]
  },
  {
   "cell_type": "code",
   "execution_count": 74,
   "metadata": {},
   "outputs": [
    {
     "data": {
      "text/html": [
       "<div>\n",
       "<style scoped>\n",
       "    .dataframe tbody tr th:only-of-type {\n",
       "        vertical-align: middle;\n",
       "    }\n",
       "\n",
       "    .dataframe tbody tr th {\n",
       "        vertical-align: top;\n",
       "    }\n",
       "\n",
       "    .dataframe thead th {\n",
       "        text-align: right;\n",
       "    }\n",
       "</style>\n",
       "<table border=\"1\" class=\"dataframe\">\n",
       "  <thead>\n",
       "    <tr style=\"text-align: right;\">\n",
       "      <th></th>\n",
       "      <th>Name</th>\n",
       "      <th># of inst</th>\n",
       "      <th>Mean</th>\n",
       "      <th>Standard Dev.</th>\n",
       "      <th>FBias</th>\n",
       "      <th>MPE</th>\n",
       "      <th>MAPE</th>\n",
       "      <th>RMSE</th>\n",
       "      <th>MAD</th>\n",
       "      <th>WMAPE</th>\n",
       "    </tr>\n",
       "  </thead>\n",
       "  <tbody>\n",
       "    <tr>\n",
       "      <th>0</th>\n",
       "      <td>SVR Performance without Feature Extraction</td>\n",
       "      <td>753</td>\n",
       "      <td>3,950.66299936</td>\n",
       "      <td>2,051.38884662</td>\n",
       "      <td>-0.04157783</td>\n",
       "      <td>0.12882075</td>\n",
       "      <td>0.26538052</td>\n",
       "      <td>29.39444373</td>\n",
       "      <td>486.31253208</td>\n",
       "      <td>0.12309644</td>\n",
       "    </tr>\n",
       "  </tbody>\n",
       "</table>\n",
       "</div>"
      ],
      "text/plain": [
       "                                         Name  # of inst           Mean  \\\n",
       "0  SVR Performance without Feature Extraction        753 3,950.66299936   \n",
       "\n",
       "   Standard Dev.       FBias        MPE       MAPE        RMSE          MAD  \\\n",
       "0 2,051.38884662 -0.04157783 0.12882075 0.26538052 29.39444373 486.31253208   \n",
       "\n",
       "       WMAPE  \n",
       "0 0.12309644  "
      ]
     },
     "execution_count": 74,
     "metadata": {},
     "output_type": "execute_result"
    }
   ],
   "source": [
    "svm_control=sv_regressor_poly.predict(X_train)\n",
    "\n",
    "performance_list(\"SVR Performance without Feature Extraction\",svm_control, y_train)"
   ]
  },
  {
   "cell_type": "code",
   "execution_count": 75,
   "metadata": {
    "scrolled": true
   },
   "outputs": [
    {
     "data": {
      "text/html": [
       "<div>\n",
       "<style scoped>\n",
       "    .dataframe tbody tr th:only-of-type {\n",
       "        vertical-align: middle;\n",
       "    }\n",
       "\n",
       "    .dataframe tbody tr th {\n",
       "        vertical-align: top;\n",
       "    }\n",
       "\n",
       "    .dataframe thead th {\n",
       "        text-align: right;\n",
       "    }\n",
       "</style>\n",
       "<table border=\"1\" class=\"dataframe\">\n",
       "  <thead>\n",
       "    <tr style=\"text-align: right;\">\n",
       "      <th></th>\n",
       "      <th>Name</th>\n",
       "      <th># of inst</th>\n",
       "      <th>Mean</th>\n",
       "      <th>Standard Dev.</th>\n",
       "      <th>FBias</th>\n",
       "      <th>MPE</th>\n",
       "      <th>MAPE</th>\n",
       "      <th>RMSE</th>\n",
       "      <th>MAD</th>\n",
       "      <th>WMAPE</th>\n",
       "    </tr>\n",
       "  </thead>\n",
       "  <tbody>\n",
       "    <tr>\n",
       "      <th>0</th>\n",
       "      <td>SVR Performance with Feature Extraction</td>\n",
       "      <td>741</td>\n",
       "      <td>4,547.86253657</td>\n",
       "      <td>1,932.07349651</td>\n",
       "      <td>0.09667342</td>\n",
       "      <td>0.17751001</td>\n",
       "      <td>0.20747701</td>\n",
       "      <td>36.85029123</td>\n",
       "      <td>577.14605065</td>\n",
       "      <td>0.12690490</td>\n",
       "    </tr>\n",
       "  </tbody>\n",
       "</table>\n",
       "</div>"
      ],
      "text/plain": [
       "                                      Name  # of inst           Mean  \\\n",
       "0  SVR Performance with Feature Extraction        741 4,547.86253657   \n",
       "\n",
       "   Standard Dev.      FBias        MPE       MAPE        RMSE          MAD  \\\n",
       "0 1,932.07349651 0.09667342 0.17751001 0.20747701 36.85029123 577.14605065   \n",
       "\n",
       "       WMAPE  \n",
       "0 0.12690490  "
      ]
     },
     "execution_count": 75,
     "metadata": {},
     "output_type": "execute_result"
    }
   ],
   "source": [
    "svm_control_feature=sv_regressor_poly_new.predict(X_train_new)\n",
    "\n",
    "performance_list(\"SVR Performance with Feature Extraction\", svm_control_feature, y_train_new)"
   ]
  },
  {
   "cell_type": "code",
   "execution_count": null,
   "metadata": {},
   "outputs": [],
   "source": []
  },
  {
   "cell_type": "code",
   "execution_count": null,
   "metadata": {},
   "outputs": [],
   "source": []
  },
  {
   "cell_type": "code",
   "execution_count": null,
   "metadata": {},
   "outputs": [],
   "source": []
  },
  {
   "cell_type": "code",
   "execution_count": null,
   "metadata": {},
   "outputs": [],
   "source": []
  },
  {
   "cell_type": "code",
   "execution_count": null,
   "metadata": {},
   "outputs": [],
   "source": []
  },
  {
   "cell_type": "markdown",
   "metadata": {},
   "source": [
    "# General Function"
   ]
  },
  {
   "cell_type": "code",
   "execution_count": null,
   "metadata": {},
   "outputs": [],
   "source": [
    "def result_obtain(df, feature_set):\n",
    "    "
   ]
  },
  {
   "cell_type": "code",
   "execution_count": null,
   "metadata": {},
   "outputs": [],
   "source": []
  },
  {
   "cell_type": "markdown",
   "metadata": {},
   "source": [
    "# Lagged Models"
   ]
  },
  {
   "cell_type": "code",
   "execution_count": 108,
   "metadata": {},
   "outputs": [],
   "source": [
    "Xframes_feature=[X_train, X_test]\n",
    "yframes_feature=[y_train, y_test]\n",
    "X_concat=pd.concat(Xframes_feature)\n",
    "Y_concat=pd.concat(yframes_feature)\n",
    "final_frame=[X_concat, Y_concat]\n",
    "lagged_df=pd.concat(final_frame, axis=1)"
   ]
  },
  {
   "cell_type": "code",
   "execution_count": 109,
   "metadata": {},
   "outputs": [],
   "source": [
    "lagged_df[\"lag1\"] = lagged_df[\"Sales\"].shift(+1)\n",
    "lag1_df=lagged_df"
   ]
  },
  {
   "cell_type": "code",
   "execution_count": 117,
   "metadata": {},
   "outputs": [
    {
     "name": "stderr",
     "output_type": "stream",
     "text": [
      "C:\\Users\\bahad\\anaconda3\\envs\\r-tutorial\\lib\\site-packages\\ipykernel_launcher.py:3: SettingWithCopyWarning: \n",
      "A value is trying to be set on a copy of a slice from a DataFrame\n",
      "\n",
      "See the caveats in the documentation: https://pandas.pydata.org/pandas-docs/stable/user_guide/indexing.html#returning-a-view-versus-a-copy\n",
      "  This is separate from the ipykernel package so we can avoid doing imports until\n"
     ]
    }
   ],
   "source": [
    "lag1_train=lag1_df.iloc[:len(X_train)]\n",
    "\n",
    "lag1_train.dropna(inplace=True);\n",
    "lag1_train.reset_index(drop=True, inplace=True)\n",
    "lag1_train.index += 1\n",
    "\n",
    "X_train_lag1=lag1_train.iloc[:len(X_train)].drop([\"Sales\"], axis=1)\n",
    "\n",
    "y_train_lag1=lag1_train.iloc[:len(X_train)][\"Sales\"]"
   ]
  },
  {
   "cell_type": "code",
   "execution_count": 111,
   "metadata": {},
   "outputs": [],
   "source": [
    "X_test_lag1=lag1_df.iloc[len(X_train):].drop([\"Sales\"], axis=1)\n",
    "\n",
    "y_test_lag1=lag1_df.iloc[len(X_train):][\"Sales\"]"
   ]
  },
  {
   "cell_type": "code",
   "execution_count": null,
   "metadata": {},
   "outputs": [],
   "source": []
  },
  {
   "cell_type": "markdown",
   "metadata": {},
   "source": [
    "### Elastic Net"
   ]
  },
  {
   "cell_type": "code",
   "execution_count": 124,
   "metadata": {},
   "outputs": [
    {
     "data": {
      "text/plain": [
       "ElasticNet(alpha=0.1)"
      ]
     },
     "execution_count": 124,
     "metadata": {},
     "output_type": "execute_result"
    }
   ],
   "source": [
    "elastic_net_lag1 = ElasticNet(alpha=0.1, l1_ratio=0.5)\n",
    "elastic_net_lag1.fit(X_train_lag1, y_train_lag1)"
   ]
  },
  {
   "cell_type": "code",
   "execution_count": 126,
   "metadata": {},
   "outputs": [
    {
     "data": {
      "text/html": [
       "<div>\n",
       "<style scoped>\n",
       "    .dataframe tbody tr th:only-of-type {\n",
       "        vertical-align: middle;\n",
       "    }\n",
       "\n",
       "    .dataframe tbody tr th {\n",
       "        vertical-align: top;\n",
       "    }\n",
       "\n",
       "    .dataframe thead th {\n",
       "        text-align: right;\n",
       "    }\n",
       "</style>\n",
       "<table border=\"1\" class=\"dataframe\">\n",
       "  <thead>\n",
       "    <tr style=\"text-align: right;\">\n",
       "      <th></th>\n",
       "      <th>Name</th>\n",
       "      <th># of inst</th>\n",
       "      <th>Mean</th>\n",
       "      <th>Standard Dev.</th>\n",
       "      <th>FBias</th>\n",
       "      <th>MPE</th>\n",
       "      <th>MAPE</th>\n",
       "      <th>RMSE</th>\n",
       "      <th>MAD</th>\n",
       "      <th>WMAPE</th>\n",
       "    </tr>\n",
       "  </thead>\n",
       "  <tbody>\n",
       "    <tr>\n",
       "      <th>0</th>\n",
       "      <td>Elastic Net Performance with Lag1</td>\n",
       "      <td>189</td>\n",
       "      <td>4,142.13154605</td>\n",
       "      <td>1,923.98770006</td>\n",
       "      <td>-0.00313993</td>\n",
       "      <td>0.14884310</td>\n",
       "      <td>0.25818384</td>\n",
       "      <td>56.49581093</td>\n",
       "      <td>541.26155075</td>\n",
       "      <td>0.13067223</td>\n",
       "    </tr>\n",
       "  </tbody>\n",
       "</table>\n",
       "</div>"
      ],
      "text/plain": [
       "                                Name  # of inst           Mean  Standard Dev.  \\\n",
       "0  Elastic Net Performance with Lag1        189 4,142.13154605 1,923.98770006   \n",
       "\n",
       "        FBias        MPE       MAPE        RMSE          MAD      WMAPE  \n",
       "0 -0.00313993 0.14884310 0.25818384 56.49581093 541.26155075 0.13067223  "
      ]
     },
     "execution_count": 126,
     "metadata": {},
     "output_type": "execute_result"
    }
   ],
   "source": [
    "elastic_predictions_lag1=elastic_net_new.predict(X_test_lag1)\n",
    "\n",
    "res_elastic_lag1=performance_list(\"Elastic Net Performance with Lag1\", elastic_predictions_lag1, y_test_lag1)\n",
    "\n",
    "res_elastic_lag1"
   ]
  },
  {
   "cell_type": "markdown",
   "metadata": {},
   "source": [
    "### SVM"
   ]
  },
  {
   "cell_type": "markdown",
   "metadata": {},
   "source": [
    "#### Linear"
   ]
  },
  {
   "cell_type": "code",
   "execution_count": 127,
   "metadata": {
    "scrolled": true
   },
   "outputs": [
    {
     "name": "stderr",
     "output_type": "stream",
     "text": [
      "C:\\Users\\bahad\\anaconda3\\envs\\r-tutorial\\lib\\site-packages\\sklearn\\svm\\_base.py:977: ConvergenceWarning: Liblinear failed to converge, increase the number of iterations.\n",
      "  \"the number of iterations.\", ConvergenceWarning)\n"
     ]
    },
    {
     "data": {
      "text/plain": [
       "LinearSVR(epsilon=1)"
      ]
     },
     "execution_count": 127,
     "metadata": {},
     "output_type": "execute_result"
    }
   ],
   "source": [
    "sv_regressor_lag1=LinearSVR(epsilon=1)\n",
    "sv_regressor_lag1.fit(X_train_lag1, y_train_lag1)"
   ]
  },
  {
   "cell_type": "code",
   "execution_count": 128,
   "metadata": {
    "scrolled": true
   },
   "outputs": [
    {
     "data": {
      "text/html": [
       "<div>\n",
       "<style scoped>\n",
       "    .dataframe tbody tr th:only-of-type {\n",
       "        vertical-align: middle;\n",
       "    }\n",
       "\n",
       "    .dataframe tbody tr th {\n",
       "        vertical-align: top;\n",
       "    }\n",
       "\n",
       "    .dataframe thead th {\n",
       "        text-align: right;\n",
       "    }\n",
       "</style>\n",
       "<table border=\"1\" class=\"dataframe\">\n",
       "  <thead>\n",
       "    <tr style=\"text-align: right;\">\n",
       "      <th></th>\n",
       "      <th>Name</th>\n",
       "      <th># of inst</th>\n",
       "      <th>Mean</th>\n",
       "      <th>Standard Dev.</th>\n",
       "      <th>FBias</th>\n",
       "      <th>MPE</th>\n",
       "      <th>MAPE</th>\n",
       "      <th>RMSE</th>\n",
       "      <th>MAD</th>\n",
       "      <th>WMAPE</th>\n",
       "    </tr>\n",
       "  </thead>\n",
       "  <tbody>\n",
       "    <tr>\n",
       "      <th>0</th>\n",
       "      <td>SVR Linear Performance with Lag1</td>\n",
       "      <td>189</td>\n",
       "      <td>4,139.52691421</td>\n",
       "      <td>2,344.92710002</td>\n",
       "      <td>-0.00377112</td>\n",
       "      <td>-1,244,058.91023647</td>\n",
       "      <td>1,244,059.43150302</td>\n",
       "      <td>212.84135522</td>\n",
       "      <td>2,068.87831536</td>\n",
       "      <td>0.49978617</td>\n",
       "    </tr>\n",
       "  </tbody>\n",
       "</table>\n",
       "</div>"
      ],
      "text/plain": [
       "                               Name  # of inst           Mean  Standard Dev.  \\\n",
       "0  SVR Linear Performance with Lag1        189 4,139.52691421 2,344.92710002   \n",
       "\n",
       "        FBias                 MPE               MAPE         RMSE  \\\n",
       "0 -0.00377112 -1,244,058.91023647 1,244,059.43150302 212.84135522   \n",
       "\n",
       "             MAD      WMAPE  \n",
       "0 2,068.87831536 0.49978617  "
      ]
     },
     "execution_count": 128,
     "metadata": {},
     "output_type": "execute_result"
    }
   ],
   "source": [
    "svm_predictions_lag1=sv_regressor_new.predict(X_test_lag1)\n",
    "\n",
    "res_svr_lag1=performance_list(\"SVR Linear Performance with Lag1\", \n",
    "                                svm_predictions_lag1, y_test_lag1)\n",
    "\n",
    "res_svr_lag1"
   ]
  },
  {
   "cell_type": "markdown",
   "metadata": {},
   "source": [
    "#### Poly"
   ]
  },
  {
   "cell_type": "code",
   "execution_count": 129,
   "metadata": {},
   "outputs": [
    {
     "data": {
      "text/plain": [
       "SVR(C=50, degree=2, epsilon=0.05, kernel='poly')"
      ]
     },
     "execution_count": 129,
     "metadata": {},
     "output_type": "execute_result"
    }
   ],
   "source": [
    "sv_regressor_poly_lag1=SVR(kernel=\"poly\", degree=2, C=50, epsilon=0.05)\n",
    "sv_regressor_poly_lag1.fit(X_train_lag1, y_train_lag1)"
   ]
  },
  {
   "cell_type": "code",
   "execution_count": 130,
   "metadata": {
    "scrolled": true
   },
   "outputs": [
    {
     "data": {
      "text/html": [
       "<div>\n",
       "<style scoped>\n",
       "    .dataframe tbody tr th:only-of-type {\n",
       "        vertical-align: middle;\n",
       "    }\n",
       "\n",
       "    .dataframe tbody tr th {\n",
       "        vertical-align: top;\n",
       "    }\n",
       "\n",
       "    .dataframe thead th {\n",
       "        text-align: right;\n",
       "    }\n",
       "</style>\n",
       "<table border=\"1\" class=\"dataframe\">\n",
       "  <thead>\n",
       "    <tr style=\"text-align: right;\">\n",
       "      <th></th>\n",
       "      <th>Name</th>\n",
       "      <th># of inst</th>\n",
       "      <th>Mean</th>\n",
       "      <th>Standard Dev.</th>\n",
       "      <th>FBias</th>\n",
       "      <th>MPE</th>\n",
       "      <th>MAPE</th>\n",
       "      <th>RMSE</th>\n",
       "      <th>MAD</th>\n",
       "      <th>WMAPE</th>\n",
       "    </tr>\n",
       "  </thead>\n",
       "  <tbody>\n",
       "    <tr>\n",
       "      <th>0</th>\n",
       "      <td>SVR Polynomail Performance with Lag1</td>\n",
       "      <td>189</td>\n",
       "      <td>4,562.86621008</td>\n",
       "      <td>1,878.75406085</td>\n",
       "      <td>0.08935801</td>\n",
       "      <td>-0.01418579</td>\n",
       "      <td>0.53136129</td>\n",
       "      <td>173.39212876</td>\n",
       "      <td>1,784.11749944</td>\n",
       "      <td>0.39100807</td>\n",
       "    </tr>\n",
       "  </tbody>\n",
       "</table>\n",
       "</div>"
      ],
      "text/plain": [
       "                                   Name  # of inst           Mean  \\\n",
       "0  SVR Polynomail Performance with Lag1        189 4,562.86621008   \n",
       "\n",
       "   Standard Dev.      FBias         MPE       MAPE         RMSE  \\\n",
       "0 1,878.75406085 0.08935801 -0.01418579 0.53136129 173.39212876   \n",
       "\n",
       "             MAD      WMAPE  \n",
       "0 1,784.11749944 0.39100807  "
      ]
     },
     "execution_count": 130,
     "metadata": {},
     "output_type": "execute_result"
    }
   ],
   "source": [
    "svm_predictions_poly_lag1=sv_regressor_poly_new.predict(X_test_lag1)\n",
    "\n",
    "res_svr_poly_lag1=performance_list(\"SVR Polynomail Performance with Lag1\", \n",
    "                                svm_predictions_poly_lag1, y_test_lag1)\n",
    "\n",
    "res_svr_poly_lag1"
   ]
  },
  {
   "cell_type": "code",
   "execution_count": null,
   "metadata": {},
   "outputs": [],
   "source": []
  },
  {
   "cell_type": "markdown",
   "metadata": {},
   "source": [
    "### Random Forest"
   ]
  },
  {
   "cell_type": "code",
   "execution_count": 131,
   "metadata": {},
   "outputs": [],
   "source": [
    "random_reg_lag1=RandomForestRegressor()\n",
    "grid_search_lag1 = GridSearchCV(estimator=random_reg_lag1, param_grid=param_grid,\n",
    "                 cv=5,return_train_score=True)"
   ]
  },
  {
   "cell_type": "code",
   "execution_count": 133,
   "metadata": {},
   "outputs": [
    {
     "data": {
      "text/plain": [
       "{'bootstrap': True, 'max_features': 6, 'n_estimators': 100}"
      ]
     },
     "execution_count": 133,
     "metadata": {},
     "output_type": "execute_result"
    }
   ],
   "source": [
    "grid_search_lag1.fit(X_train_lag1, y_train_lag1)\n",
    "\n",
    "grid_search_lag1.best_params_"
   ]
  },
  {
   "cell_type": "code",
   "execution_count": 134,
   "metadata": {},
   "outputs": [
    {
     "data": {
      "text/html": [
       "<div>\n",
       "<style scoped>\n",
       "    .dataframe tbody tr th:only-of-type {\n",
       "        vertical-align: middle;\n",
       "    }\n",
       "\n",
       "    .dataframe tbody tr th {\n",
       "        vertical-align: top;\n",
       "    }\n",
       "\n",
       "    .dataframe thead th {\n",
       "        text-align: right;\n",
       "    }\n",
       "</style>\n",
       "<table border=\"1\" class=\"dataframe\">\n",
       "  <thead>\n",
       "    <tr style=\"text-align: right;\">\n",
       "      <th></th>\n",
       "      <th>Name</th>\n",
       "      <th># of inst</th>\n",
       "      <th>Mean</th>\n",
       "      <th>Standard Dev.</th>\n",
       "      <th>FBias</th>\n",
       "      <th>MPE</th>\n",
       "      <th>MAPE</th>\n",
       "      <th>RMSE</th>\n",
       "      <th>MAD</th>\n",
       "      <th>WMAPE</th>\n",
       "    </tr>\n",
       "  </thead>\n",
       "  <tbody>\n",
       "    <tr>\n",
       "      <th>0</th>\n",
       "      <td>Random Forest Performance with Lag1</td>\n",
       "      <td>189</td>\n",
       "      <td>4,130.34050265</td>\n",
       "      <td>2,141.38682610</td>\n",
       "      <td>-0.00600364</td>\n",
       "      <td>nan</td>\n",
       "      <td>nan</td>\n",
       "      <td>133.75886889</td>\n",
       "      <td>1,343.22891534</td>\n",
       "      <td>0.32521021</td>\n",
       "    </tr>\n",
       "  </tbody>\n",
       "</table>\n",
       "</div>"
      ],
      "text/plain": [
       "                                  Name  # of inst           Mean  \\\n",
       "0  Random Forest Performance with Lag1        189 4,130.34050265   \n",
       "\n",
       "   Standard Dev.       FBias  MPE  MAPE         RMSE            MAD      WMAPE  \n",
       "0 2,141.38682610 -0.00600364  nan   nan 133.75886889 1,343.22891534 0.32521021  "
      ]
     },
     "execution_count": 134,
     "metadata": {},
     "output_type": "execute_result"
    }
   ],
   "source": [
    "rf_predictions_lag1=grid_search_new.predict(X_test_lag1)\n",
    "\n",
    "res_rf_lag1=performance_list(\"Random Forest Performance with Lag1\", rf_predictions_lag1, y_test_lag1)\n",
    "\n",
    "res_rf_lag1"
   ]
  },
  {
   "cell_type": "code",
   "execution_count": null,
   "metadata": {},
   "outputs": [],
   "source": []
  },
  {
   "cell_type": "code",
   "execution_count": null,
   "metadata": {},
   "outputs": [],
   "source": []
  },
  {
   "cell_type": "markdown",
   "metadata": {},
   "source": [
    "# General Result Table"
   ]
  },
  {
   "cell_type": "code",
   "execution_count": 135,
   "metadata": {},
   "outputs": [],
   "source": [
    "pd.options.display.float_format = '{:,.8f}'.format"
   ]
  },
  {
   "cell_type": "code",
   "execution_count": 139,
   "metadata": {},
   "outputs": [],
   "source": [
    "result_frames_lag1=[total_result, res_elastic_lag1,res_svr_lag1,res_svr_poly_lag1,res_rf_lag1]\n",
    "total_result_new=pd.concat(result_frames_lag1)"
   ]
  },
  {
   "cell_type": "code",
   "execution_count": 140,
   "metadata": {
    "scrolled": false
   },
   "outputs": [
    {
     "data": {
      "text/html": [
       "<div>\n",
       "<style scoped>\n",
       "    .dataframe tbody tr th:only-of-type {\n",
       "        vertical-align: middle;\n",
       "    }\n",
       "\n",
       "    .dataframe tbody tr th {\n",
       "        vertical-align: top;\n",
       "    }\n",
       "\n",
       "    .dataframe thead th {\n",
       "        text-align: right;\n",
       "    }\n",
       "</style>\n",
       "<table border=\"1\" class=\"dataframe\">\n",
       "  <thead>\n",
       "    <tr style=\"text-align: right;\">\n",
       "      <th></th>\n",
       "      <th>Name</th>\n",
       "      <th># of inst</th>\n",
       "      <th>Mean</th>\n",
       "      <th>Standard Dev.</th>\n",
       "      <th>FBias</th>\n",
       "      <th>MPE</th>\n",
       "      <th>MAPE</th>\n",
       "      <th>RMSE</th>\n",
       "      <th>MAD</th>\n",
       "      <th>WMAPE</th>\n",
       "    </tr>\n",
       "  </thead>\n",
       "  <tbody>\n",
       "    <tr>\n",
       "      <th>0</th>\n",
       "      <td>Elastic Net Performance</td>\n",
       "      <td>189</td>\n",
       "      <td>4,141.00033091</td>\n",
       "      <td>1,923.42308249</td>\n",
       "      <td>-0.00341397</td>\n",
       "      <td>0.14959251</td>\n",
       "      <td>0.25716853</td>\n",
       "      <td>56.01371713</td>\n",
       "      <td>537.14747215</td>\n",
       "      <td>0.12971442</td>\n",
       "    </tr>\n",
       "    <tr>\n",
       "      <th>0</th>\n",
       "      <td>Support Vector Regressor Linear Performance</td>\n",
       "      <td>189</td>\n",
       "      <td>1,724.85714286</td>\n",
       "      <td>404.65494572</td>\n",
       "      <td>-1.40897490</td>\n",
       "      <td>-1.16349594</td>\n",
       "      <td>1.50212028</td>\n",
       "      <td>228.40731230</td>\n",
       "      <td>2,730.17460317</td>\n",
       "      <td>1.58284100</td>\n",
       "    </tr>\n",
       "    <tr>\n",
       "      <th>0</th>\n",
       "      <td>Support Vector Regressor Polynomial Performance</td>\n",
       "      <td>189</td>\n",
       "      <td>3,974.70506179</td>\n",
       "      <td>2,073.62702474</td>\n",
       "      <td>-0.04539519</td>\n",
       "      <td>0.12601338</td>\n",
       "      <td>0.24950465</td>\n",
       "      <td>50.12137594</td>\n",
       "      <td>409.95872659</td>\n",
       "      <td>0.10314192</td>\n",
       "    </tr>\n",
       "    <tr>\n",
       "      <th>0</th>\n",
       "      <td>Random Forest Performance</td>\n",
       "      <td>189</td>\n",
       "      <td>4,134.98268315</td>\n",
       "      <td>2,279.66578250</td>\n",
       "      <td>-0.00487424</td>\n",
       "      <td>nan</td>\n",
       "      <td>nan</td>\n",
       "      <td>43.61714496</td>\n",
       "      <td>359.74298771</td>\n",
       "      <td>0.08699988</td>\n",
       "    </tr>\n",
       "    <tr>\n",
       "      <th>0</th>\n",
       "      <td>Elastic Net Performance with Feature Extraction</td>\n",
       "      <td>189</td>\n",
       "      <td>4,130.68783029</td>\n",
       "      <td>2,347.56395800</td>\n",
       "      <td>-0.00000000</td>\n",
       "      <td>0.16931217</td>\n",
       "      <td>0.16931217</td>\n",
       "      <td>0.00000304</td>\n",
       "      <td>0.00003281</td>\n",
       "      <td>0.00000001</td>\n",
       "    </tr>\n",
       "    <tr>\n",
       "      <th>0</th>\n",
       "      <td>SVR Linear Performance with Feature Extraction</td>\n",
       "      <td>189</td>\n",
       "      <td>4,130.19997516</td>\n",
       "      <td>2,347.28644694</td>\n",
       "      <td>-0.00011812</td>\n",
       "      <td>0.16921405</td>\n",
       "      <td>0.16941029</td>\n",
       "      <td>0.04082733</td>\n",
       "      <td>0.48800357</td>\n",
       "      <td>0.00011815</td>\n",
       "    </tr>\n",
       "    <tr>\n",
       "      <th>0</th>\n",
       "      <td>SVR Polynomail Performance with Feature Extrac...</td>\n",
       "      <td>189</td>\n",
       "      <td>4,556.19991027</td>\n",
       "      <td>1,881.02675767</td>\n",
       "      <td>0.09339188</td>\n",
       "      <td>0.17438124</td>\n",
       "      <td>0.20286211</td>\n",
       "      <td>72.16989824</td>\n",
       "      <td>555.81940971</td>\n",
       "      <td>0.12199188</td>\n",
       "    </tr>\n",
       "    <tr>\n",
       "      <th>0</th>\n",
       "      <td>Random Forest Performance with Feature Extraction</td>\n",
       "      <td>189</td>\n",
       "      <td>4,126.14629630</td>\n",
       "      <td>2,332.01977796</td>\n",
       "      <td>-0.00110067</td>\n",
       "      <td>nan</td>\n",
       "      <td>nan</td>\n",
       "      <td>5.20899932</td>\n",
       "      <td>25.19259259</td>\n",
       "      <td>0.00610560</td>\n",
       "    </tr>\n",
       "    <tr>\n",
       "      <th>0</th>\n",
       "      <td>Elastic Net Performance with Lag1</td>\n",
       "      <td>189</td>\n",
       "      <td>4,142.13154605</td>\n",
       "      <td>1,923.98770006</td>\n",
       "      <td>-0.00313993</td>\n",
       "      <td>0.14884310</td>\n",
       "      <td>0.25818384</td>\n",
       "      <td>56.49581093</td>\n",
       "      <td>541.26155075</td>\n",
       "      <td>0.13067223</td>\n",
       "    </tr>\n",
       "    <tr>\n",
       "      <th>0</th>\n",
       "      <td>SVR Linear Performance with Lag1</td>\n",
       "      <td>189</td>\n",
       "      <td>4,139.52691421</td>\n",
       "      <td>2,344.92710002</td>\n",
       "      <td>-0.00377112</td>\n",
       "      <td>-1,244,058.91023647</td>\n",
       "      <td>1,244,059.43150302</td>\n",
       "      <td>212.84135522</td>\n",
       "      <td>2,068.87831536</td>\n",
       "      <td>0.49978617</td>\n",
       "    </tr>\n",
       "    <tr>\n",
       "      <th>0</th>\n",
       "      <td>SVR Polynomail Performance with Lag1</td>\n",
       "      <td>189</td>\n",
       "      <td>4,562.86621008</td>\n",
       "      <td>1,878.75406085</td>\n",
       "      <td>0.08935801</td>\n",
       "      <td>-0.01418579</td>\n",
       "      <td>0.53136129</td>\n",
       "      <td>173.39212876</td>\n",
       "      <td>1,784.11749944</td>\n",
       "      <td>0.39100807</td>\n",
       "    </tr>\n",
       "    <tr>\n",
       "      <th>0</th>\n",
       "      <td>Random Forest Performance with Lag1</td>\n",
       "      <td>189</td>\n",
       "      <td>4,130.34050265</td>\n",
       "      <td>2,141.38682610</td>\n",
       "      <td>-0.00600364</td>\n",
       "      <td>nan</td>\n",
       "      <td>nan</td>\n",
       "      <td>133.75886889</td>\n",
       "      <td>1,343.22891534</td>\n",
       "      <td>0.32521021</td>\n",
       "    </tr>\n",
       "  </tbody>\n",
       "</table>\n",
       "</div>"
      ],
      "text/plain": [
       "                                                Name  # of inst  \\\n",
       "0                            Elastic Net Performance        189   \n",
       "0        Support Vector Regressor Linear Performance        189   \n",
       "0    Support Vector Regressor Polynomial Performance        189   \n",
       "0                          Random Forest Performance        189   \n",
       "0    Elastic Net Performance with Feature Extraction        189   \n",
       "0     SVR Linear Performance with Feature Extraction        189   \n",
       "0  SVR Polynomail Performance with Feature Extrac...        189   \n",
       "0  Random Forest Performance with Feature Extraction        189   \n",
       "0                  Elastic Net Performance with Lag1        189   \n",
       "0                   SVR Linear Performance with Lag1        189   \n",
       "0               SVR Polynomail Performance with Lag1        189   \n",
       "0                Random Forest Performance with Lag1        189   \n",
       "\n",
       "            Mean  Standard Dev.       FBias                 MPE  \\\n",
       "0 4,141.00033091 1,923.42308249 -0.00341397          0.14959251   \n",
       "0 1,724.85714286   404.65494572 -1.40897490         -1.16349594   \n",
       "0 3,974.70506179 2,073.62702474 -0.04539519          0.12601338   \n",
       "0 4,134.98268315 2,279.66578250 -0.00487424                 nan   \n",
       "0 4,130.68783029 2,347.56395800 -0.00000000          0.16931217   \n",
       "0 4,130.19997516 2,347.28644694 -0.00011812          0.16921405   \n",
       "0 4,556.19991027 1,881.02675767  0.09339188          0.17438124   \n",
       "0 4,126.14629630 2,332.01977796 -0.00110067                 nan   \n",
       "0 4,142.13154605 1,923.98770006 -0.00313993          0.14884310   \n",
       "0 4,139.52691421 2,344.92710002 -0.00377112 -1,244,058.91023647   \n",
       "0 4,562.86621008 1,878.75406085  0.08935801         -0.01418579   \n",
       "0 4,130.34050265 2,141.38682610 -0.00600364                 nan   \n",
       "\n",
       "                MAPE         RMSE            MAD      WMAPE  \n",
       "0         0.25716853  56.01371713   537.14747215 0.12971442  \n",
       "0         1.50212028 228.40731230 2,730.17460317 1.58284100  \n",
       "0         0.24950465  50.12137594   409.95872659 0.10314192  \n",
       "0                nan  43.61714496   359.74298771 0.08699988  \n",
       "0         0.16931217   0.00000304     0.00003281 0.00000001  \n",
       "0         0.16941029   0.04082733     0.48800357 0.00011815  \n",
       "0         0.20286211  72.16989824   555.81940971 0.12199188  \n",
       "0                nan   5.20899932    25.19259259 0.00610560  \n",
       "0         0.25818384  56.49581093   541.26155075 0.13067223  \n",
       "0 1,244,059.43150302 212.84135522 2,068.87831536 0.49978617  \n",
       "0         0.53136129 173.39212876 1,784.11749944 0.39100807  \n",
       "0                nan 133.75886889 1,343.22891534 0.32521021  "
      ]
     },
     "execution_count": 140,
     "metadata": {},
     "output_type": "execute_result"
    }
   ],
   "source": [
    "total_result_new"
   ]
  },
  {
   "cell_type": "code",
   "execution_count": null,
   "metadata": {},
   "outputs": [],
   "source": []
  },
  {
   "cell_type": "markdown",
   "metadata": {},
   "source": [
    "# Deep Learning Codes"
   ]
  },
  {
   "cell_type": "code",
   "execution_count": null,
   "metadata": {},
   "outputs": [],
   "source": []
  },
  {
   "cell_type": "code",
   "execution_count": null,
   "metadata": {},
   "outputs": [],
   "source": []
  },
  {
   "cell_type": "code",
   "execution_count": null,
   "metadata": {},
   "outputs": [],
   "source": []
  },
  {
   "cell_type": "code",
   "execution_count": null,
   "metadata": {},
   "outputs": [],
   "source": []
  },
  {
   "cell_type": "code",
   "execution_count": null,
   "metadata": {},
   "outputs": [],
   "source": []
  },
  {
   "cell_type": "code",
   "execution_count": null,
   "metadata": {},
   "outputs": [],
   "source": []
  },
  {
   "cell_type": "code",
   "execution_count": null,
   "metadata": {},
   "outputs": [],
   "source": []
  },
  {
   "cell_type": "code",
   "execution_count": null,
   "metadata": {},
   "outputs": [],
   "source": []
  },
  {
   "cell_type": "code",
   "execution_count": null,
   "metadata": {},
   "outputs": [],
   "source": []
  }
 ],
 "metadata": {
  "kernelspec": {
   "display_name": "Python 3",
   "language": "python",
   "name": "python3"
  },
  "language_info": {
   "codemirror_mode": {
    "name": "ipython",
    "version": 3
   },
   "file_extension": ".py",
   "mimetype": "text/x-python",
   "name": "python",
   "nbconvert_exporter": "python",
   "pygments_lexer": "ipython3",
   "version": "3.7.9"
  }
 },
 "nbformat": 4,
 "nbformat_minor": 4
}
