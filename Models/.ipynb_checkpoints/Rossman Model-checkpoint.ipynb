{
 "cells": [
  {
   "cell_type": "code",
   "execution_count": 2,
   "metadata": {},
   "outputs": [],
   "source": [
    "import numpy as np\n",
    "import pandas as pd\n",
    "import os\n",
    "import matplotlib.pyplot as plt"
   ]
  },
  {
   "cell_type": "markdown",
   "metadata": {},
   "source": [
    "# Data "
   ]
  },
  {
   "cell_type": "code",
   "execution_count": 3,
   "metadata": {},
   "outputs": [
    {
     "name": "stderr",
     "output_type": "stream",
     "text": [
      "C:\\Users\\bahad\\anaconda3\\envs\\r-tutorial\\lib\\site-packages\\IPython\\core\\interactiveshell.py:3146: DtypeWarning: Columns (7) have mixed types.Specify dtype option on import or set low_memory=False.\n",
      "  interactivity=interactivity, compiler=compiler, result=result)\n"
     ]
    }
   ],
   "source": [
    "rossman=pd.read_csv(\"D:/Datasets/Rossmann_Data/train.csv\")"
   ]
  },
  {
   "cell_type": "code",
   "execution_count": 4,
   "metadata": {},
   "outputs": [],
   "source": [
    "rossman[\"Date\"]=pd.to_datetime(rossman[\"Date\"])"
   ]
  },
  {
   "cell_type": "code",
   "execution_count": 5,
   "metadata": {},
   "outputs": [
    {
     "name": "stdout",
     "output_type": "stream",
     "text": [
      "<class 'pandas.core.frame.DataFrame'>\n",
      "RangeIndex: 1017209 entries, 0 to 1017208\n",
      "Data columns (total 9 columns):\n",
      " #   Column         Non-Null Count    Dtype         \n",
      "---  ------         --------------    -----         \n",
      " 0   Store          1017209 non-null  int64         \n",
      " 1   DayOfWeek      1017209 non-null  int64         \n",
      " 2   Date           1017209 non-null  datetime64[ns]\n",
      " 3   Sales          1017209 non-null  int64         \n",
      " 4   Customers      1017209 non-null  int64         \n",
      " 5   Open           1017209 non-null  int64         \n",
      " 6   Promo          1017209 non-null  int64         \n",
      " 7   StateHoliday   1017209 non-null  object        \n",
      " 8   SchoolHoliday  1017209 non-null  int64         \n",
      "dtypes: datetime64[ns](1), int64(7), object(1)\n",
      "memory usage: 69.8+ MB\n"
     ]
    }
   ],
   "source": [
    "rossman.info()"
   ]
  },
  {
   "cell_type": "code",
   "execution_count": 6,
   "metadata": {},
   "outputs": [
    {
     "data": {
      "text/html": [
       "<div>\n",
       "<style scoped>\n",
       "    .dataframe tbody tr th:only-of-type {\n",
       "        vertical-align: middle;\n",
       "    }\n",
       "\n",
       "    .dataframe tbody tr th {\n",
       "        vertical-align: top;\n",
       "    }\n",
       "\n",
       "    .dataframe thead th {\n",
       "        text-align: right;\n",
       "    }\n",
       "</style>\n",
       "<table border=\"1\" class=\"dataframe\">\n",
       "  <thead>\n",
       "    <tr style=\"text-align: right;\">\n",
       "      <th></th>\n",
       "      <th>Store</th>\n",
       "      <th>DayOfWeek</th>\n",
       "      <th>Date</th>\n",
       "      <th>Sales</th>\n",
       "      <th>Customers</th>\n",
       "      <th>Open</th>\n",
       "      <th>Promo</th>\n",
       "      <th>StateHoliday</th>\n",
       "      <th>SchoolHoliday</th>\n",
       "    </tr>\n",
       "  </thead>\n",
       "  <tbody>\n",
       "    <tr>\n",
       "      <th>0</th>\n",
       "      <td>1</td>\n",
       "      <td>5</td>\n",
       "      <td>2015-07-31</td>\n",
       "      <td>5263</td>\n",
       "      <td>555</td>\n",
       "      <td>1</td>\n",
       "      <td>1</td>\n",
       "      <td>0</td>\n",
       "      <td>1</td>\n",
       "    </tr>\n",
       "    <tr>\n",
       "      <th>1</th>\n",
       "      <td>2</td>\n",
       "      <td>5</td>\n",
       "      <td>2015-07-31</td>\n",
       "      <td>6064</td>\n",
       "      <td>625</td>\n",
       "      <td>1</td>\n",
       "      <td>1</td>\n",
       "      <td>0</td>\n",
       "      <td>1</td>\n",
       "    </tr>\n",
       "    <tr>\n",
       "      <th>2</th>\n",
       "      <td>3</td>\n",
       "      <td>5</td>\n",
       "      <td>2015-07-31</td>\n",
       "      <td>8314</td>\n",
       "      <td>821</td>\n",
       "      <td>1</td>\n",
       "      <td>1</td>\n",
       "      <td>0</td>\n",
       "      <td>1</td>\n",
       "    </tr>\n",
       "    <tr>\n",
       "      <th>3</th>\n",
       "      <td>4</td>\n",
       "      <td>5</td>\n",
       "      <td>2015-07-31</td>\n",
       "      <td>13995</td>\n",
       "      <td>1498</td>\n",
       "      <td>1</td>\n",
       "      <td>1</td>\n",
       "      <td>0</td>\n",
       "      <td>1</td>\n",
       "    </tr>\n",
       "    <tr>\n",
       "      <th>4</th>\n",
       "      <td>5</td>\n",
       "      <td>5</td>\n",
       "      <td>2015-07-31</td>\n",
       "      <td>4822</td>\n",
       "      <td>559</td>\n",
       "      <td>1</td>\n",
       "      <td>1</td>\n",
       "      <td>0</td>\n",
       "      <td>1</td>\n",
       "    </tr>\n",
       "  </tbody>\n",
       "</table>\n",
       "</div>"
      ],
      "text/plain": [
       "   Store  DayOfWeek       Date  Sales  Customers  Open  Promo StateHoliday  \\\n",
       "0      1          5 2015-07-31   5263        555     1      1            0   \n",
       "1      2          5 2015-07-31   6064        625     1      1            0   \n",
       "2      3          5 2015-07-31   8314        821     1      1            0   \n",
       "3      4          5 2015-07-31  13995       1498     1      1            0   \n",
       "4      5          5 2015-07-31   4822        559     1      1            0   \n",
       "\n",
       "   SchoolHoliday  \n",
       "0              1  \n",
       "1              1  \n",
       "2              1  \n",
       "3              1  \n",
       "4              1  "
      ]
     },
     "execution_count": 6,
     "metadata": {},
     "output_type": "execute_result"
    }
   ],
   "source": [
    "rossman.head()"
   ]
  },
  {
   "cell_type": "markdown",
   "metadata": {},
   "source": [
    "## Dummy Encoding"
   ]
  },
  {
   "cell_type": "code",
   "execution_count": 7,
   "metadata": {},
   "outputs": [],
   "source": [
    "from sklearn.preprocessing import OneHotEncoder"
   ]
  },
  {
   "cell_type": "code",
   "execution_count": 8,
   "metadata": {},
   "outputs": [],
   "source": [
    "hot_encoder=OneHotEncoder()"
   ]
  },
  {
   "cell_type": "markdown",
   "metadata": {},
   "source": [
    "### State Holidays"
   ]
  },
  {
   "cell_type": "code",
   "execution_count": 9,
   "metadata": {},
   "outputs": [
    {
     "data": {
      "text/plain": [
       "0    855087\n",
       "0    131072\n",
       "a     20260\n",
       "b      6690\n",
       "c      4100\n",
       "Name: StateHoliday, dtype: int64"
      ]
     },
     "execution_count": 9,
     "metadata": {},
     "output_type": "execute_result"
    }
   ],
   "source": [
    "rossman[\"StateHoliday\"].value_counts()"
   ]
  },
  {
   "cell_type": "code",
   "execution_count": 10,
   "metadata": {},
   "outputs": [],
   "source": [
    "rossman[\"StateHoliday\"]=rossman[\"StateHoliday\"].astype(str)\n",
    "encoded_stateholidays=hot_encoder.fit_transform(rossman[[\"StateHoliday\"]])\n",
    "array_stateholidays=encoded_stateholidays.toarray()\n",
    "state_df=pd.DataFrame(array_stateholidays,columns=[\"0\", \"A\", \"B\", \"C\"])"
   ]
  },
  {
   "cell_type": "code",
   "execution_count": 11,
   "metadata": {},
   "outputs": [
    {
     "data": {
      "text/plain": [
       "0    A    B    C  \n",
       "1.0  0.0  0.0  0.0    986159\n",
       "0.0  1.0  0.0  0.0     20260\n",
       "     0.0  1.0  0.0      6690\n",
       "          0.0  1.0      4100\n",
       "dtype: int64"
      ]
     },
     "execution_count": 11,
     "metadata": {},
     "output_type": "execute_result"
    }
   ],
   "source": [
    "state_df.value_counts()"
   ]
  },
  {
   "cell_type": "markdown",
   "metadata": {},
   "source": [
    "### Weekdays"
   ]
  },
  {
   "cell_type": "code",
   "execution_count": 12,
   "metadata": {},
   "outputs": [
    {
     "data": {
      "text/plain": [
       "5    145845\n",
       "4    145845\n",
       "3    145665\n",
       "2    145664\n",
       "7    144730\n",
       "6    144730\n",
       "1    144730\n",
       "Name: DayOfWeek, dtype: int64"
      ]
     },
     "execution_count": 12,
     "metadata": {},
     "output_type": "execute_result"
    }
   ],
   "source": [
    "rossman[\"DayOfWeek\"].value_counts()"
   ]
  },
  {
   "cell_type": "code",
   "execution_count": 13,
   "metadata": {},
   "outputs": [],
   "source": [
    "encoded_weekdays=hot_encoder.fit_transform(rossman[[\"DayOfWeek\"]])\n",
    "array_weekdays=encoded_weekdays.toarray()\n",
    "weekday_df=pd.DataFrame(array_weekdays,columns=[\"Monday\", \"Tuesday\", \"Wednesday\", \"Thursday\",\"Friday\",\"Saturday\",\"Sunday\"])"
   ]
  },
  {
   "cell_type": "code",
   "execution_count": 14,
   "metadata": {},
   "outputs": [
    {
     "data": {
      "text/plain": [
       "Monday  Tuesday  Wednesday  Thursday  Friday  Saturday  Sunday\n",
       "0.0     0.0      0.0        1.0       0.0     0.0       0.0       145845\n",
       "                            0.0       1.0     0.0       0.0       145845\n",
       "                 1.0        0.0       0.0     0.0       0.0       145665\n",
       "        1.0      0.0        0.0       0.0     0.0       0.0       145664\n",
       "1.0     0.0      0.0        0.0       0.0     0.0       0.0       144730\n",
       "0.0     0.0      0.0        0.0       0.0     1.0       0.0       144730\n",
       "                                              0.0       1.0       144730\n",
       "dtype: int64"
      ]
     },
     "execution_count": 14,
     "metadata": {},
     "output_type": "execute_result"
    }
   ],
   "source": [
    "weekday_df.value_counts()"
   ]
  },
  {
   "cell_type": "markdown",
   "metadata": {},
   "source": [
    "## Concatenated dataframe"
   ]
  },
  {
   "cell_type": "code",
   "execution_count": 15,
   "metadata": {},
   "outputs": [],
   "source": [
    "frames = [rossman, state_df, weekday_df]\n",
    "rossman_concat=pd.concat(frames, axis=1)"
   ]
  },
  {
   "cell_type": "code",
   "execution_count": 16,
   "metadata": {},
   "outputs": [
    {
     "data": {
      "text/html": [
       "<div>\n",
       "<style scoped>\n",
       "    .dataframe tbody tr th:only-of-type {\n",
       "        vertical-align: middle;\n",
       "    }\n",
       "\n",
       "    .dataframe tbody tr th {\n",
       "        vertical-align: top;\n",
       "    }\n",
       "\n",
       "    .dataframe thead th {\n",
       "        text-align: right;\n",
       "    }\n",
       "</style>\n",
       "<table border=\"1\" class=\"dataframe\">\n",
       "  <thead>\n",
       "    <tr style=\"text-align: right;\">\n",
       "      <th></th>\n",
       "      <th>Store</th>\n",
       "      <th>DayOfWeek</th>\n",
       "      <th>Sales</th>\n",
       "      <th>Customers</th>\n",
       "      <th>Open</th>\n",
       "      <th>Promo</th>\n",
       "      <th>SchoolHoliday</th>\n",
       "      <th>0</th>\n",
       "      <th>A</th>\n",
       "      <th>B</th>\n",
       "      <th>C</th>\n",
       "      <th>Monday</th>\n",
       "      <th>Tuesday</th>\n",
       "      <th>Wednesday</th>\n",
       "      <th>Thursday</th>\n",
       "      <th>Friday</th>\n",
       "      <th>Saturday</th>\n",
       "      <th>Sunday</th>\n",
       "    </tr>\n",
       "  </thead>\n",
       "  <tbody>\n",
       "    <tr>\n",
       "      <th>count</th>\n",
       "      <td>1.017209e+06</td>\n",
       "      <td>1.017209e+06</td>\n",
       "      <td>1.017209e+06</td>\n",
       "      <td>1.017209e+06</td>\n",
       "      <td>1.017209e+06</td>\n",
       "      <td>1.017209e+06</td>\n",
       "      <td>1.017209e+06</td>\n",
       "      <td>1.017209e+06</td>\n",
       "      <td>1.017209e+06</td>\n",
       "      <td>1.017209e+06</td>\n",
       "      <td>1.017209e+06</td>\n",
       "      <td>1.017209e+06</td>\n",
       "      <td>1.017209e+06</td>\n",
       "      <td>1.017209e+06</td>\n",
       "      <td>1.017209e+06</td>\n",
       "      <td>1.017209e+06</td>\n",
       "      <td>1.017209e+06</td>\n",
       "      <td>1.017209e+06</td>\n",
       "    </tr>\n",
       "    <tr>\n",
       "      <th>mean</th>\n",
       "      <td>5.584297e+02</td>\n",
       "      <td>3.998341e+00</td>\n",
       "      <td>5.773819e+03</td>\n",
       "      <td>6.331459e+02</td>\n",
       "      <td>8.301067e-01</td>\n",
       "      <td>3.815145e-01</td>\n",
       "      <td>1.786467e-01</td>\n",
       "      <td>9.694753e-01</td>\n",
       "      <td>1.991724e-02</td>\n",
       "      <td>6.576820e-03</td>\n",
       "      <td>4.030637e-03</td>\n",
       "      <td>1.422815e-01</td>\n",
       "      <td>1.431997e-01</td>\n",
       "      <td>1.432007e-01</td>\n",
       "      <td>1.433776e-01</td>\n",
       "      <td>1.433776e-01</td>\n",
       "      <td>1.422815e-01</td>\n",
       "      <td>1.422815e-01</td>\n",
       "    </tr>\n",
       "    <tr>\n",
       "      <th>std</th>\n",
       "      <td>3.219087e+02</td>\n",
       "      <td>1.997391e+00</td>\n",
       "      <td>3.849926e+03</td>\n",
       "      <td>4.644117e+02</td>\n",
       "      <td>3.755392e-01</td>\n",
       "      <td>4.857586e-01</td>\n",
       "      <td>3.830564e-01</td>\n",
       "      <td>1.720261e-01</td>\n",
       "      <td>1.397160e-01</td>\n",
       "      <td>8.083051e-02</td>\n",
       "      <td>6.335925e-02</td>\n",
       "      <td>3.493388e-01</td>\n",
       "      <td>3.502765e-01</td>\n",
       "      <td>3.502775e-01</td>\n",
       "      <td>3.504577e-01</td>\n",
       "      <td>3.504577e-01</td>\n",
       "      <td>3.493388e-01</td>\n",
       "      <td>3.493388e-01</td>\n",
       "    </tr>\n",
       "    <tr>\n",
       "      <th>min</th>\n",
       "      <td>1.000000e+00</td>\n",
       "      <td>1.000000e+00</td>\n",
       "      <td>0.000000e+00</td>\n",
       "      <td>0.000000e+00</td>\n",
       "      <td>0.000000e+00</td>\n",
       "      <td>0.000000e+00</td>\n",
       "      <td>0.000000e+00</td>\n",
       "      <td>0.000000e+00</td>\n",
       "      <td>0.000000e+00</td>\n",
       "      <td>0.000000e+00</td>\n",
       "      <td>0.000000e+00</td>\n",
       "      <td>0.000000e+00</td>\n",
       "      <td>0.000000e+00</td>\n",
       "      <td>0.000000e+00</td>\n",
       "      <td>0.000000e+00</td>\n",
       "      <td>0.000000e+00</td>\n",
       "      <td>0.000000e+00</td>\n",
       "      <td>0.000000e+00</td>\n",
       "    </tr>\n",
       "    <tr>\n",
       "      <th>25%</th>\n",
       "      <td>2.800000e+02</td>\n",
       "      <td>2.000000e+00</td>\n",
       "      <td>3.727000e+03</td>\n",
       "      <td>4.050000e+02</td>\n",
       "      <td>1.000000e+00</td>\n",
       "      <td>0.000000e+00</td>\n",
       "      <td>0.000000e+00</td>\n",
       "      <td>1.000000e+00</td>\n",
       "      <td>0.000000e+00</td>\n",
       "      <td>0.000000e+00</td>\n",
       "      <td>0.000000e+00</td>\n",
       "      <td>0.000000e+00</td>\n",
       "      <td>0.000000e+00</td>\n",
       "      <td>0.000000e+00</td>\n",
       "      <td>0.000000e+00</td>\n",
       "      <td>0.000000e+00</td>\n",
       "      <td>0.000000e+00</td>\n",
       "      <td>0.000000e+00</td>\n",
       "    </tr>\n",
       "    <tr>\n",
       "      <th>50%</th>\n",
       "      <td>5.580000e+02</td>\n",
       "      <td>4.000000e+00</td>\n",
       "      <td>5.744000e+03</td>\n",
       "      <td>6.090000e+02</td>\n",
       "      <td>1.000000e+00</td>\n",
       "      <td>0.000000e+00</td>\n",
       "      <td>0.000000e+00</td>\n",
       "      <td>1.000000e+00</td>\n",
       "      <td>0.000000e+00</td>\n",
       "      <td>0.000000e+00</td>\n",
       "      <td>0.000000e+00</td>\n",
       "      <td>0.000000e+00</td>\n",
       "      <td>0.000000e+00</td>\n",
       "      <td>0.000000e+00</td>\n",
       "      <td>0.000000e+00</td>\n",
       "      <td>0.000000e+00</td>\n",
       "      <td>0.000000e+00</td>\n",
       "      <td>0.000000e+00</td>\n",
       "    </tr>\n",
       "    <tr>\n",
       "      <th>75%</th>\n",
       "      <td>8.380000e+02</td>\n",
       "      <td>6.000000e+00</td>\n",
       "      <td>7.856000e+03</td>\n",
       "      <td>8.370000e+02</td>\n",
       "      <td>1.000000e+00</td>\n",
       "      <td>1.000000e+00</td>\n",
       "      <td>0.000000e+00</td>\n",
       "      <td>1.000000e+00</td>\n",
       "      <td>0.000000e+00</td>\n",
       "      <td>0.000000e+00</td>\n",
       "      <td>0.000000e+00</td>\n",
       "      <td>0.000000e+00</td>\n",
       "      <td>0.000000e+00</td>\n",
       "      <td>0.000000e+00</td>\n",
       "      <td>0.000000e+00</td>\n",
       "      <td>0.000000e+00</td>\n",
       "      <td>0.000000e+00</td>\n",
       "      <td>0.000000e+00</td>\n",
       "    </tr>\n",
       "    <tr>\n",
       "      <th>max</th>\n",
       "      <td>1.115000e+03</td>\n",
       "      <td>7.000000e+00</td>\n",
       "      <td>4.155100e+04</td>\n",
       "      <td>7.388000e+03</td>\n",
       "      <td>1.000000e+00</td>\n",
       "      <td>1.000000e+00</td>\n",
       "      <td>1.000000e+00</td>\n",
       "      <td>1.000000e+00</td>\n",
       "      <td>1.000000e+00</td>\n",
       "      <td>1.000000e+00</td>\n",
       "      <td>1.000000e+00</td>\n",
       "      <td>1.000000e+00</td>\n",
       "      <td>1.000000e+00</td>\n",
       "      <td>1.000000e+00</td>\n",
       "      <td>1.000000e+00</td>\n",
       "      <td>1.000000e+00</td>\n",
       "      <td>1.000000e+00</td>\n",
       "      <td>1.000000e+00</td>\n",
       "    </tr>\n",
       "  </tbody>\n",
       "</table>\n",
       "</div>"
      ],
      "text/plain": [
       "              Store     DayOfWeek         Sales     Customers          Open  \\\n",
       "count  1.017209e+06  1.017209e+06  1.017209e+06  1.017209e+06  1.017209e+06   \n",
       "mean   5.584297e+02  3.998341e+00  5.773819e+03  6.331459e+02  8.301067e-01   \n",
       "std    3.219087e+02  1.997391e+00  3.849926e+03  4.644117e+02  3.755392e-01   \n",
       "min    1.000000e+00  1.000000e+00  0.000000e+00  0.000000e+00  0.000000e+00   \n",
       "25%    2.800000e+02  2.000000e+00  3.727000e+03  4.050000e+02  1.000000e+00   \n",
       "50%    5.580000e+02  4.000000e+00  5.744000e+03  6.090000e+02  1.000000e+00   \n",
       "75%    8.380000e+02  6.000000e+00  7.856000e+03  8.370000e+02  1.000000e+00   \n",
       "max    1.115000e+03  7.000000e+00  4.155100e+04  7.388000e+03  1.000000e+00   \n",
       "\n",
       "              Promo  SchoolHoliday             0             A             B  \\\n",
       "count  1.017209e+06   1.017209e+06  1.017209e+06  1.017209e+06  1.017209e+06   \n",
       "mean   3.815145e-01   1.786467e-01  9.694753e-01  1.991724e-02  6.576820e-03   \n",
       "std    4.857586e-01   3.830564e-01  1.720261e-01  1.397160e-01  8.083051e-02   \n",
       "min    0.000000e+00   0.000000e+00  0.000000e+00  0.000000e+00  0.000000e+00   \n",
       "25%    0.000000e+00   0.000000e+00  1.000000e+00  0.000000e+00  0.000000e+00   \n",
       "50%    0.000000e+00   0.000000e+00  1.000000e+00  0.000000e+00  0.000000e+00   \n",
       "75%    1.000000e+00   0.000000e+00  1.000000e+00  0.000000e+00  0.000000e+00   \n",
       "max    1.000000e+00   1.000000e+00  1.000000e+00  1.000000e+00  1.000000e+00   \n",
       "\n",
       "                  C        Monday       Tuesday     Wednesday      Thursday  \\\n",
       "count  1.017209e+06  1.017209e+06  1.017209e+06  1.017209e+06  1.017209e+06   \n",
       "mean   4.030637e-03  1.422815e-01  1.431997e-01  1.432007e-01  1.433776e-01   \n",
       "std    6.335925e-02  3.493388e-01  3.502765e-01  3.502775e-01  3.504577e-01   \n",
       "min    0.000000e+00  0.000000e+00  0.000000e+00  0.000000e+00  0.000000e+00   \n",
       "25%    0.000000e+00  0.000000e+00  0.000000e+00  0.000000e+00  0.000000e+00   \n",
       "50%    0.000000e+00  0.000000e+00  0.000000e+00  0.000000e+00  0.000000e+00   \n",
       "75%    0.000000e+00  0.000000e+00  0.000000e+00  0.000000e+00  0.000000e+00   \n",
       "max    1.000000e+00  1.000000e+00  1.000000e+00  1.000000e+00  1.000000e+00   \n",
       "\n",
       "             Friday      Saturday        Sunday  \n",
       "count  1.017209e+06  1.017209e+06  1.017209e+06  \n",
       "mean   1.433776e-01  1.422815e-01  1.422815e-01  \n",
       "std    3.504577e-01  3.493388e-01  3.493388e-01  \n",
       "min    0.000000e+00  0.000000e+00  0.000000e+00  \n",
       "25%    0.000000e+00  0.000000e+00  0.000000e+00  \n",
       "50%    0.000000e+00  0.000000e+00  0.000000e+00  \n",
       "75%    0.000000e+00  0.000000e+00  0.000000e+00  \n",
       "max    1.000000e+00  1.000000e+00  1.000000e+00  "
      ]
     },
     "execution_count": 16,
     "metadata": {},
     "output_type": "execute_result"
    }
   ],
   "source": [
    "rossman_concat.describe()"
   ]
  },
  {
   "cell_type": "markdown",
   "metadata": {},
   "source": [
    "# Performance Function"
   ]
  },
  {
   "cell_type": "code",
   "execution_count": 148,
   "metadata": {},
   "outputs": [],
   "source": [
    "def performance_list(ID,actual,forecast):\n",
    "    name=ID\n",
    "    n=len(actual)\n",
    "    error=actual-forecast\n",
    "    mean=np.mean(actual)\n",
    "    sd=actual.std()\n",
    "    FBias=sum(error)/sum(actual)\n",
    "    MPE=sum(error/actual)/n\n",
    "    MAPE=sum(abs(error/actual))/n\n",
    "    RMSE=np.sqrt(sum(error**2))/n\n",
    "    MAD=sum(abs(error))/n\n",
    "    WMAPE=MAD/mean\n",
    "    result_df=pd.DataFrame({\"Name\" :       name ,\n",
    "                            \"# of inst\":       n,\n",
    "                            \"Mean\":         mean,\n",
    "                            \"Standard Dev.\":  sd, \n",
    "                            \"FBias\":       FBias, \n",
    "                            \"MPE\":           MPE, \n",
    "                            \"MAPE\":         MAPE,                                      \n",
    "                            \"RMSE\":         RMSE, \n",
    "                            \"MAD\":           MAD, \n",
    "                            \"WMAPE\":      WMAPE}, index=[0])\n",
    "    return(result_df)"
   ]
  },
  {
   "cell_type": "code",
   "execution_count": null,
   "metadata": {},
   "outputs": [],
   "source": []
  },
  {
   "cell_type": "code",
   "execution_count": null,
   "metadata": {},
   "outputs": [],
   "source": []
  },
  {
   "cell_type": "markdown",
   "metadata": {},
   "source": [
    "# Store and Dataset Selection "
   ]
  },
  {
   "cell_type": "code",
   "execution_count": 62,
   "metadata": {},
   "outputs": [],
   "source": [
    "def store_selection(dataset, store_num):\n",
    "    selected_store=dataset[dataset[\"Store\"]==store_num].copy()\n",
    "    selected_store.sort_values(by=[\"Date\"], inplace=True)\n",
    "    selected_store.reset_index(drop=True, inplace=True)\n",
    "    selected_store.head(20)\n",
    "    return selected_store"
   ]
  },
  {
   "cell_type": "code",
   "execution_count": 75,
   "metadata": {},
   "outputs": [],
   "source": [
    "def Splitting_data(dataset, ratio):\n",
    "    interval=dataset.Date.max()-dataset.Date.min()\n",
    "    day_int=interval*ratio\n",
    "    Train=dataset[dataset[\"Date\"]<(dataset.Date.max()-day_int)]\n",
    "    Test=dataset[dataset[\"Date\"]>=(dataset.Date.max()-day_int)]\n",
    "    return Train, Test"
   ]
  },
  {
   "cell_type": "markdown",
   "metadata": {},
   "source": [
    "### Train & Test"
   ]
  },
  {
   "cell_type": "code",
   "execution_count": 97,
   "metadata": {},
   "outputs": [],
   "source": [
    "store1=store_selection(rossman_concat, 1)\n",
    "train1_initial, test1_initial=Splitting_data(store1, 0.2)"
   ]
  },
  {
   "cell_type": "markdown",
   "metadata": {},
   "source": [
    "### Date and Customer Drop"
   ]
  },
  {
   "cell_type": "code",
   "execution_count": 104,
   "metadata": {},
   "outputs": [],
   "source": [
    "train=train1_initial.drop([\"Date\", \"Customers\",\"Store\",\"DayOfWeek\",\"StateHoliday\"], axis=1)\n",
    "test=test1_initial.drop([\"Date\", \"Customers\",\"Store\",\"DayOfWeek\",\"StateHoliday\"], axis=1)"
   ]
  },
  {
   "cell_type": "code",
   "execution_count": 108,
   "metadata": {},
   "outputs": [],
   "source": [
    "X_train, y_train=train.drop([\"Sales\"], axis=1), train[\"Sales\"]\n",
    "X_test, y_test=test.drop([\"Sales\"], axis=1), test[\"Sales\"]"
   ]
  },
  {
   "cell_type": "code",
   "execution_count": null,
   "metadata": {},
   "outputs": [],
   "source": []
  },
  {
   "cell_type": "code",
   "execution_count": null,
   "metadata": {},
   "outputs": [],
   "source": []
  },
  {
   "cell_type": "markdown",
   "metadata": {},
   "source": [
    "# Linear Regression-Elastic Net"
   ]
  },
  {
   "cell_type": "code",
   "execution_count": 89,
   "metadata": {},
   "outputs": [],
   "source": [
    "from sklearn.linear_model import ElasticNet"
   ]
  },
  {
   "cell_type": "code",
   "execution_count": 109,
   "metadata": {},
   "outputs": [
    {
     "data": {
      "text/plain": [
       "ElasticNet(alpha=0.1)"
      ]
     },
     "execution_count": 109,
     "metadata": {},
     "output_type": "execute_result"
    }
   ],
   "source": [
    "elastic_net = ElasticNet(alpha=0.1, l1_ratio=0.5)\n",
    "elastic_net.fit(X_train, y_train)"
   ]
  },
  {
   "cell_type": "code",
   "execution_count": 149,
   "metadata": {},
   "outputs": [],
   "source": [
    "elastic_predictions=elastic_net.predict(X_test)"
   ]
  },
  {
   "cell_type": "code",
   "execution_count": 150,
   "metadata": {},
   "outputs": [],
   "source": [
    "res_elastic=performance_list(\"Elastic Net Performance\", elastic_predictions, y_test)"
   ]
  },
  {
   "cell_type": "code",
   "execution_count": 151,
   "metadata": {},
   "outputs": [
    {
     "data": {
      "text/html": [
       "<div>\n",
       "<style scoped>\n",
       "    .dataframe tbody tr th:only-of-type {\n",
       "        vertical-align: middle;\n",
       "    }\n",
       "\n",
       "    .dataframe tbody tr th {\n",
       "        vertical-align: top;\n",
       "    }\n",
       "\n",
       "    .dataframe thead th {\n",
       "        text-align: right;\n",
       "    }\n",
       "</style>\n",
       "<table border=\"1\" class=\"dataframe\">\n",
       "  <thead>\n",
       "    <tr style=\"text-align: right;\">\n",
       "      <th></th>\n",
       "      <th>Name</th>\n",
       "      <th># of inst</th>\n",
       "      <th>Mean</th>\n",
       "      <th>Standard Dev.</th>\n",
       "      <th>FBias</th>\n",
       "      <th>MPE</th>\n",
       "      <th>MAPE</th>\n",
       "      <th>RMSE</th>\n",
       "      <th>MAD</th>\n",
       "      <th>WMAPE</th>\n",
       "    </tr>\n",
       "  </thead>\n",
       "  <tbody>\n",
       "    <tr>\n",
       "      <th>0</th>\n",
       "      <td>Elastic Net Performance</td>\n",
       "      <td>189</td>\n",
       "      <td>4012.049205</td>\n",
       "      <td>1609.679886</td>\n",
       "      <td>0.066895</td>\n",
       "      <td>0.207765</td>\n",
       "      <td>0.25979</td>\n",
       "      <td>47.380683</td>\n",
       "      <td>521.128951</td>\n",
       "      <td>0.129891</td>\n",
       "    </tr>\n",
       "  </tbody>\n",
       "</table>\n",
       "</div>"
      ],
      "text/plain": [
       "                      Name  # of inst         Mean  Standard Dev.     FBias  \\\n",
       "0  Elastic Net Performance        189  4012.049205    1609.679886  0.066895   \n",
       "\n",
       "        MPE     MAPE       RMSE         MAD     WMAPE  \n",
       "0  0.207765  0.25979  47.380683  521.128951  0.129891  "
      ]
     },
     "execution_count": 151,
     "metadata": {},
     "output_type": "execute_result"
    }
   ],
   "source": [
    "res_elastic"
   ]
  },
  {
   "cell_type": "markdown",
   "metadata": {},
   "source": [
    "# Support Vector Machines"
   ]
  },
  {
   "cell_type": "markdown",
   "metadata": {},
   "source": [
    "### Linear"
   ]
  },
  {
   "cell_type": "code",
   "execution_count": 152,
   "metadata": {},
   "outputs": [],
   "source": [
    "from sklearn.svm import LinearSVR"
   ]
  },
  {
   "cell_type": "code",
   "execution_count": 177,
   "metadata": {},
   "outputs": [
    {
     "data": {
      "text/plain": [
       "LinearSVR()"
      ]
     },
     "execution_count": 177,
     "metadata": {},
     "output_type": "execute_result"
    }
   ],
   "source": [
    "sv_regressor=LinearSVR(epsilon=1)\n",
    "sv_regressor.fit(X_train, y_train)"
   ]
  },
  {
   "cell_type": "markdown",
   "metadata": {},
   "source": [
    "### Poly with Kernel"
   ]
  },
  {
   "cell_type": "code",
   "execution_count": 182,
   "metadata": {},
   "outputs": [],
   "source": [
    "from sklearn.svm import SVR"
   ]
  },
  {
   "cell_type": "code",
   "execution_count": 201,
   "metadata": {},
   "outputs": [
    {
     "data": {
      "text/plain": [
       "SVR(C=50, degree=2, epsilon=0.05, kernel='poly')"
      ]
     },
     "execution_count": 201,
     "metadata": {},
     "output_type": "execute_result"
    }
   ],
   "source": [
    "sv_regressor_poly=SVR(kernel=\"poly\", degree=2, C=50, epsilon=0.05)\n",
    "sv_regressor_poly.fit(X_train, y_train)"
   ]
  },
  {
   "cell_type": "markdown",
   "metadata": {},
   "source": [
    "### Predictions"
   ]
  },
  {
   "cell_type": "code",
   "execution_count": 202,
   "metadata": {},
   "outputs": [],
   "source": [
    "svm_predictions_linear=sv_regressor.predict(X_test)"
   ]
  },
  {
   "cell_type": "code",
   "execution_count": 203,
   "metadata": {},
   "outputs": [],
   "source": [
    "res_svr_linear=performance_list(\"Support Vector Regressor Linear Performance\", svm_predictions_linear, y_test)"
   ]
  },
  {
   "cell_type": "code",
   "execution_count": null,
   "metadata": {},
   "outputs": [],
   "source": []
  },
  {
   "cell_type": "code",
   "execution_count": 204,
   "metadata": {},
   "outputs": [],
   "source": [
    "svm_predictions_poly=sv_regressor_poly.predict(X_test)"
   ]
  },
  {
   "cell_type": "code",
   "execution_count": 205,
   "metadata": {},
   "outputs": [],
   "source": [
    "res_svr_poly=performance_list(\"Support Vector Regressor Polynomial Performance\", svm_predictions_poly, y_test)"
   ]
  },
  {
   "cell_type": "markdown",
   "metadata": {},
   "source": [
    "### Results"
   ]
  },
  {
   "cell_type": "code",
   "execution_count": 206,
   "metadata": {},
   "outputs": [
    {
     "data": {
      "text/html": [
       "<div>\n",
       "<style scoped>\n",
       "    .dataframe tbody tr th:only-of-type {\n",
       "        vertical-align: middle;\n",
       "    }\n",
       "\n",
       "    .dataframe tbody tr th {\n",
       "        vertical-align: top;\n",
       "    }\n",
       "\n",
       "    .dataframe thead th {\n",
       "        text-align: right;\n",
       "    }\n",
       "</style>\n",
       "<table border=\"1\" class=\"dataframe\">\n",
       "  <thead>\n",
       "    <tr style=\"text-align: right;\">\n",
       "      <th></th>\n",
       "      <th>Name</th>\n",
       "      <th># of inst</th>\n",
       "      <th>Mean</th>\n",
       "      <th>Standard Dev.</th>\n",
       "      <th>FBias</th>\n",
       "      <th>MPE</th>\n",
       "      <th>MAPE</th>\n",
       "      <th>RMSE</th>\n",
       "      <th>MAD</th>\n",
       "      <th>WMAPE</th>\n",
       "    </tr>\n",
       "  </thead>\n",
       "  <tbody>\n",
       "    <tr>\n",
       "      <th>0</th>\n",
       "      <td>Support Vector Regressor Linear Performance</td>\n",
       "      <td>189</td>\n",
       "      <td>1703.084656</td>\n",
       "      <td>399.773154</td>\n",
       "      <td>-1.198165</td>\n",
       "      <td>-0.989375</td>\n",
       "      <td>1.338582</td>\n",
       "      <td>184.344699</td>\n",
       "      <td>2349.328042</td>\n",
       "      <td>1.379455</td>\n",
       "    </tr>\n",
       "  </tbody>\n",
       "</table>\n",
       "</div>"
      ],
      "text/plain": [
       "                                          Name  # of inst         Mean  \\\n",
       "0  Support Vector Regressor Linear Performance        189  1703.084656   \n",
       "\n",
       "   Standard Dev.     FBias       MPE      MAPE        RMSE          MAD  \\\n",
       "0     399.773154 -1.198165 -0.989375  1.338582  184.344699  2349.328042   \n",
       "\n",
       "      WMAPE  \n",
       "0  1.379455  "
      ]
     },
     "execution_count": 206,
     "metadata": {},
     "output_type": "execute_result"
    }
   ],
   "source": [
    "res_svr_linear"
   ]
  },
  {
   "cell_type": "code",
   "execution_count": 207,
   "metadata": {},
   "outputs": [
    {
     "data": {
      "text/html": [
       "<div>\n",
       "<style scoped>\n",
       "    .dataframe tbody tr th:only-of-type {\n",
       "        vertical-align: middle;\n",
       "    }\n",
       "\n",
       "    .dataframe tbody tr th {\n",
       "        vertical-align: top;\n",
       "    }\n",
       "\n",
       "    .dataframe thead th {\n",
       "        text-align: right;\n",
       "    }\n",
       "</style>\n",
       "<table border=\"1\" class=\"dataframe\">\n",
       "  <thead>\n",
       "    <tr style=\"text-align: right;\">\n",
       "      <th></th>\n",
       "      <th>Name</th>\n",
       "      <th># of inst</th>\n",
       "      <th>Mean</th>\n",
       "      <th>Standard Dev.</th>\n",
       "      <th>FBias</th>\n",
       "      <th>MPE</th>\n",
       "      <th>MAPE</th>\n",
       "      <th>RMSE</th>\n",
       "      <th>MAD</th>\n",
       "      <th>WMAPE</th>\n",
       "    </tr>\n",
       "  </thead>\n",
       "  <tbody>\n",
       "    <tr>\n",
       "      <th>0</th>\n",
       "      <td>Support Vector Regressor Polynomial Performance</td>\n",
       "      <td>189</td>\n",
       "      <td>3810.141062</td>\n",
       "      <td>1745.683754</td>\n",
       "      <td>0.017448</td>\n",
       "      <td>0.180755</td>\n",
       "      <td>0.252733</td>\n",
       "      <td>40.544141</td>\n",
       "      <td>398.325296</td>\n",
       "      <td>0.104543</td>\n",
       "    </tr>\n",
       "  </tbody>\n",
       "</table>\n",
       "</div>"
      ],
      "text/plain": [
       "                                              Name  # of inst         Mean  \\\n",
       "0  Support Vector Regressor Polynomial Performance        189  3810.141062   \n",
       "\n",
       "   Standard Dev.     FBias       MPE      MAPE       RMSE         MAD  \\\n",
       "0    1745.683754  0.017448  0.180755  0.252733  40.544141  398.325296   \n",
       "\n",
       "      WMAPE  \n",
       "0  0.104543  "
      ]
     },
     "execution_count": 207,
     "metadata": {},
     "output_type": "execute_result"
    }
   ],
   "source": [
    "res_svr_poly"
   ]
  },
  {
   "cell_type": "markdown",
   "metadata": {},
   "source": [
    "# Random Forest"
   ]
  },
  {
   "cell_type": "code",
   "execution_count": 208,
   "metadata": {},
   "outputs": [],
   "source": [
    "from sklearn.ensemble import RandomForestRegressor\n",
    "from sklearn.model_selection import GridSearchCV"
   ]
  },
  {
   "cell_type": "markdown",
   "metadata": {},
   "source": [
    "### Grid"
   ]
  },
  {
   "cell_type": "code",
   "execution_count": 209,
   "metadata": {},
   "outputs": [],
   "source": [
    "param_grid=[\n",
    "    {\"n_estimators\":[100,200,300,400,500], \"max_features\":[2,4,6],\n",
    "     \"bootstrap\":[False,True]}\n",
    "]"
   ]
  },
  {
   "cell_type": "code",
   "execution_count": 210,
   "metadata": {},
   "outputs": [],
   "source": [
    "random_reg=RandomForestRegressor()\n",
    "grid_search = GridSearchCV(estimator=random_reg, param_grid=param_grid,\n",
    "                 cv=5,return_train_score=True)"
   ]
  },
  {
   "cell_type": "markdown",
   "metadata": {},
   "source": [
    "### Predictions"
   ]
  },
  {
   "cell_type": "code",
   "execution_count": 211,
   "metadata": {},
   "outputs": [
    {
     "data": {
      "text/plain": [
       "GridSearchCV(cv=5, estimator=RandomForestRegressor(),\n",
       "             param_grid=[{'bootstrap': [False, True], 'max_features': [2, 4, 6],\n",
       "                          'n_estimators': [100, 200, 300, 400, 500]}],\n",
       "             return_train_score=True)"
      ]
     },
     "execution_count": 211,
     "metadata": {},
     "output_type": "execute_result"
    }
   ],
   "source": [
    "grid_search.fit(X_train, y_train)"
   ]
  },
  {
   "cell_type": "code",
   "execution_count": 212,
   "metadata": {},
   "outputs": [
    {
     "data": {
      "text/plain": [
       "{'bootstrap': True, 'max_features': 4, 'n_estimators': 300}"
      ]
     },
     "execution_count": 212,
     "metadata": {},
     "output_type": "execute_result"
    }
   ],
   "source": [
    "grid_search.best_params_"
   ]
  },
  {
   "cell_type": "markdown",
   "metadata": {},
   "source": [
    "### Results"
   ]
  },
  {
   "cell_type": "code",
   "execution_count": 213,
   "metadata": {},
   "outputs": [],
   "source": [
    "rf_predictions=grid_search.predict(X_test)"
   ]
  },
  {
   "cell_type": "code",
   "execution_count": 214,
   "metadata": {},
   "outputs": [],
   "source": [
    "res_rf=performance_list(\"Random Forest Performance\", rf_predictions, y_test)"
   ]
  },
  {
   "cell_type": "code",
   "execution_count": 215,
   "metadata": {},
   "outputs": [
    {
     "data": {
      "text/html": [
       "<div>\n",
       "<style scoped>\n",
       "    .dataframe tbody tr th:only-of-type {\n",
       "        vertical-align: middle;\n",
       "    }\n",
       "\n",
       "    .dataframe tbody tr th {\n",
       "        vertical-align: top;\n",
       "    }\n",
       "\n",
       "    .dataframe thead th {\n",
       "        text-align: right;\n",
       "    }\n",
       "</style>\n",
       "<table border=\"1\" class=\"dataframe\">\n",
       "  <thead>\n",
       "    <tr style=\"text-align: right;\">\n",
       "      <th></th>\n",
       "      <th>Name</th>\n",
       "      <th># of inst</th>\n",
       "      <th>Mean</th>\n",
       "      <th>Standard Dev.</th>\n",
       "      <th>FBias</th>\n",
       "      <th>MPE</th>\n",
       "      <th>MAPE</th>\n",
       "      <th>RMSE</th>\n",
       "      <th>MAD</th>\n",
       "      <th>WMAPE</th>\n",
       "    </tr>\n",
       "  </thead>\n",
       "  <tbody>\n",
       "    <tr>\n",
       "      <th>0</th>\n",
       "      <td>Random Forest Performance</td>\n",
       "      <td>189</td>\n",
       "      <td>3999.115276</td>\n",
       "      <td>1937.965615</td>\n",
       "      <td>0.063878</td>\n",
       "      <td>NaN</td>\n",
       "      <td>NaN</td>\n",
       "      <td>44.171517</td>\n",
       "      <td>443.769549</td>\n",
       "      <td>0.110967</td>\n",
       "    </tr>\n",
       "  </tbody>\n",
       "</table>\n",
       "</div>"
      ],
      "text/plain": [
       "                        Name  # of inst         Mean  Standard Dev.     FBias  \\\n",
       "0  Random Forest Performance        189  3999.115276    1937.965615  0.063878   \n",
       "\n",
       "   MPE  MAPE       RMSE         MAD     WMAPE  \n",
       "0  NaN   NaN  44.171517  443.769549  0.110967  "
      ]
     },
     "execution_count": 215,
     "metadata": {},
     "output_type": "execute_result"
    }
   ],
   "source": [
    "res_rf"
   ]
  },
  {
   "cell_type": "markdown",
   "metadata": {},
   "source": [
    "# Feature Extraction"
   ]
  },
  {
   "cell_type": "code",
   "execution_count": 216,
   "metadata": {},
   "outputs": [],
   "source": [
    "from sklearn.tree import DecisionTreeRegressor"
   ]
  },
  {
   "cell_type": "markdown",
   "metadata": {},
   "source": [
    "### Train Node Selection"
   ]
  },
  {
   "cell_type": "code",
   "execution_count": 259,
   "metadata": {},
   "outputs": [
    {
     "data": {
      "text/plain": [
       "DecisionTreeRegressor(max_depth=5, min_samples_leaf=10)"
      ]
     },
     "execution_count": 259,
     "metadata": {},
     "output_type": "execute_result"
    }
   ],
   "source": [
    "estimator = DecisionTreeRegressor(min_samples_leaf=10, max_depth=5)\n",
    "estimator.fit(X_train, y_train)"
   ]
  },
  {
   "cell_type": "code",
   "execution_count": 260,
   "metadata": {},
   "outputs": [],
   "source": [
    "on_leaf = estimator.apply(X_train)"
   ]
  },
  {
   "cell_type": "code",
   "execution_count": 261,
   "metadata": {},
   "outputs": [],
   "source": [
    "X_train_ext=X_train[:]"
   ]
  },
  {
   "cell_type": "code",
   "execution_count": 263,
   "metadata": {},
   "outputs": [
    {
     "name": "stderr",
     "output_type": "stream",
     "text": [
      "C:\\Users\\bahad\\anaconda3\\envs\\r-tutorial\\lib\\site-packages\\ipykernel_launcher.py:1: SettingWithCopyWarning: \n",
      "A value is trying to be set on a copy of a slice from a DataFrame.\n",
      "Try using .loc[row_indexer,col_indexer] = value instead\n",
      "\n",
      "See the caveats in the documentation: https://pandas.pydata.org/pandas-docs/stable/user_guide/indexing.html#returning-a-view-versus-a-copy\n",
      "  \"\"\"Entry point for launching an IPython kernel.\n"
     ]
    }
   ],
   "source": [
    "X_train_ext[\"Node\"] = on_leaf.tolist()"
   ]
  },
  {
   "cell_type": "markdown",
   "metadata": {},
   "source": [
    "### Test Node Selection"
   ]
  },
  {
   "cell_type": "code",
   "execution_count": 380,
   "metadata": {},
   "outputs": [],
   "source": [
    "on_leaf_test = estimator.apply(X_test)"
   ]
  },
  {
   "cell_type": "code",
   "execution_count": 381,
   "metadata": {},
   "outputs": [],
   "source": [
    "X_test_ext=X_test[:]"
   ]
  },
  {
   "cell_type": "code",
   "execution_count": 382,
   "metadata": {},
   "outputs": [
    {
     "name": "stderr",
     "output_type": "stream",
     "text": [
      "C:\\Users\\bahad\\anaconda3\\envs\\r-tutorial\\lib\\site-packages\\ipykernel_launcher.py:1: SettingWithCopyWarning: \n",
      "A value is trying to be set on a copy of a slice from a DataFrame.\n",
      "Try using .loc[row_indexer,col_indexer] = value instead\n",
      "\n",
      "See the caveats in the documentation: https://pandas.pydata.org/pandas-docs/stable/user_guide/indexing.html#returning-a-view-versus-a-copy\n",
      "  \"\"\"Entry point for launching an IPython kernel.\n"
     ]
    }
   ],
   "source": [
    "X_test_ext[\"Node\"] = on_leaf_test.tolist()"
   ]
  },
  {
   "cell_type": "markdown",
   "metadata": {},
   "source": [
    "### Feature Adding"
   ]
  },
  {
   "cell_type": "markdown",
   "metadata": {},
   "source": [
    "Ma=1 kullanıldı daha hızlı bir şekilde anlaşılması için"
   ]
  },
  {
   "cell_type": "code",
   "execution_count": 383,
   "metadata": {},
   "outputs": [],
   "source": [
    "Xframes_feature=[X_train_ext, X_test_ext]\n",
    "yframes_feature=[y_train, y_test]\n",
    "X_concat=pd.concat(Xframes_feature)\n",
    "Y_concat=pd.concat(yframes_feature)\n",
    "final_frame=[X_concat, Y_concat]\n",
    "concated_df=pd.concat(final_frame, axis=1)"
   ]
  },
  {
   "cell_type": "code",
   "execution_count": 384,
   "metadata": {},
   "outputs": [],
   "source": [
    "concated_df[\"new_feature\"] = concated_df.groupby([\"Node\"])[\"Sales\"].shift(+1)"
   ]
  },
  {
   "cell_type": "code",
   "execution_count": 385,
   "metadata": {},
   "outputs": [],
   "source": [
    "X_test_new=concated_df.iloc[len(X_train):].drop([\"Sales\",\"Node\"], axis=1)\n",
    "\n",
    "y_test_new=concated_df.iloc[len(X_train):][\"new_feature\"]"
   ]
  },
  {
   "cell_type": "code",
   "execution_count": 386,
   "metadata": {},
   "outputs": [],
   "source": [
    "train_new=concated_df.iloc[:len(X_train)]"
   ]
  },
  {
   "cell_type": "code",
   "execution_count": 387,
   "metadata": {},
   "outputs": [
    {
     "name": "stderr",
     "output_type": "stream",
     "text": [
      "C:\\Users\\bahad\\anaconda3\\envs\\r-tutorial\\lib\\site-packages\\ipykernel_launcher.py:1: SettingWithCopyWarning: \n",
      "A value is trying to be set on a copy of a slice from a DataFrame\n",
      "\n",
      "See the caveats in the documentation: https://pandas.pydata.org/pandas-docs/stable/user_guide/indexing.html#returning-a-view-versus-a-copy\n",
      "  \"\"\"Entry point for launching an IPython kernel.\n"
     ]
    }
   ],
   "source": [
    "train_new.dropna(inplace=True);\n",
    "train_new.reset_index(drop=True, inplace=True)"
   ]
  },
  {
   "cell_type": "code",
   "execution_count": 388,
   "metadata": {},
   "outputs": [],
   "source": [
    "X_train_new=train_new.drop([\"Sales\",\"Node\"], axis=1)\n",
    "\n",
    "y_train_new=train_new[\"new_feature\"]"
   ]
  },
  {
   "cell_type": "markdown",
   "metadata": {},
   "source": [
    "## Short Prediction Quality"
   ]
  },
  {
   "cell_type": "markdown",
   "metadata": {},
   "source": [
    "### Elastic Net"
   ]
  },
  {
   "cell_type": "code",
   "execution_count": 389,
   "metadata": {},
   "outputs": [
    {
     "data": {
      "text/plain": [
       "ElasticNet(alpha=0.1)"
      ]
     },
     "execution_count": 389,
     "metadata": {},
     "output_type": "execute_result"
    }
   ],
   "source": [
    "elastic_net_new = ElasticNet(alpha=0.1, l1_ratio=0.5)\n",
    "elastic_net_new.fit(X_train_new, y_train_new)"
   ]
  },
  {
   "cell_type": "code",
   "execution_count": 390,
   "metadata": {},
   "outputs": [
    {
     "data": {
      "text/html": [
       "<div>\n",
       "<style scoped>\n",
       "    .dataframe tbody tr th:only-of-type {\n",
       "        vertical-align: middle;\n",
       "    }\n",
       "\n",
       "    .dataframe tbody tr th {\n",
       "        vertical-align: top;\n",
       "    }\n",
       "\n",
       "    .dataframe thead th {\n",
       "        text-align: right;\n",
       "    }\n",
       "</style>\n",
       "<table border=\"1\" class=\"dataframe\">\n",
       "  <thead>\n",
       "    <tr style=\"text-align: right;\">\n",
       "      <th></th>\n",
       "      <th>Name</th>\n",
       "      <th># of inst</th>\n",
       "      <th>Mean</th>\n",
       "      <th>Standard Dev.</th>\n",
       "      <th>FBias</th>\n",
       "      <th>MPE</th>\n",
       "      <th>MAPE</th>\n",
       "      <th>RMSE</th>\n",
       "      <th>MAD</th>\n",
       "      <th>WMAPE</th>\n",
       "    </tr>\n",
       "  </thead>\n",
       "  <tbody>\n",
       "    <tr>\n",
       "      <th>0</th>\n",
       "      <td>Elastic Net Performance with Feature Extraction</td>\n",
       "      <td>189</td>\n",
       "      <td>3718.111118</td>\n",
       "      <td>1862.555847</td>\n",
       "      <td>1.749097e-09</td>\n",
       "      <td>0.174603</td>\n",
       "      <td>0.174603</td>\n",
       "      <td>0.000003</td>\n",
       "      <td>0.000031</td>\n",
       "      <td>8.343196e-09</td>\n",
       "    </tr>\n",
       "  </tbody>\n",
       "</table>\n",
       "</div>"
      ],
      "text/plain": [
       "                                              Name  # of inst         Mean  \\\n",
       "0  Elastic Net Performance with Feature Extraction        189  3718.111118   \n",
       "\n",
       "   Standard Dev.         FBias       MPE      MAPE      RMSE       MAD  \\\n",
       "0    1862.555847  1.749097e-09  0.174603  0.174603  0.000003  0.000031   \n",
       "\n",
       "          WMAPE  \n",
       "0  8.343196e-09  "
      ]
     },
     "execution_count": 390,
     "metadata": {},
     "output_type": "execute_result"
    }
   ],
   "source": [
    "elastic_predictions_new=elastic_net_new.predict(X_test_new)\n",
    "\n",
    "res_elastic_new=performance_list(\"Elastic Net Performance with Feature Extraction\", elastic_predictions_new, y_test_new)\n",
    "\n",
    "res_elastic_new"
   ]
  },
  {
   "cell_type": "markdown",
   "metadata": {},
   "source": [
    "### SVM"
   ]
  },
  {
   "cell_type": "markdown",
   "metadata": {},
   "source": [
    "#### Linear"
   ]
  },
  {
   "cell_type": "code",
   "execution_count": 425,
   "metadata": {
    "scrolled": true
   },
   "outputs": [
    {
     "name": "stderr",
     "output_type": "stream",
     "text": [
      "C:\\Users\\bahad\\anaconda3\\envs\\r-tutorial\\lib\\site-packages\\sklearn\\svm\\_base.py:977: ConvergenceWarning: Liblinear failed to converge, increase the number of iterations.\n",
      "  \"the number of iterations.\", ConvergenceWarning)\n"
     ]
    },
    {
     "data": {
      "text/plain": [
       "LinearSVR(epsilon=1)"
      ]
     },
     "execution_count": 425,
     "metadata": {},
     "output_type": "execute_result"
    }
   ],
   "source": [
    "sv_regressor_new=LinearSVR(epsilon=1)\n",
    "sv_regressor_new.fit(X_train_new, y_train_new)"
   ]
  },
  {
   "cell_type": "code",
   "execution_count": 431,
   "metadata": {
    "scrolled": true
   },
   "outputs": [
    {
     "data": {
      "text/html": [
       "<div>\n",
       "<style scoped>\n",
       "    .dataframe tbody tr th:only-of-type {\n",
       "        vertical-align: middle;\n",
       "    }\n",
       "\n",
       "    .dataframe tbody tr th {\n",
       "        vertical-align: top;\n",
       "    }\n",
       "\n",
       "    .dataframe thead th {\n",
       "        text-align: right;\n",
       "    }\n",
       "</style>\n",
       "<table border=\"1\" class=\"dataframe\">\n",
       "  <thead>\n",
       "    <tr style=\"text-align: right;\">\n",
       "      <th></th>\n",
       "      <th>Name</th>\n",
       "      <th># of inst</th>\n",
       "      <th>Mean</th>\n",
       "      <th>Standard Dev.</th>\n",
       "      <th>FBias</th>\n",
       "      <th>MPE</th>\n",
       "      <th>MAPE</th>\n",
       "      <th>RMSE</th>\n",
       "      <th>MAD</th>\n",
       "      <th>WMAPE</th>\n",
       "    </tr>\n",
       "  </thead>\n",
       "  <tbody>\n",
       "    <tr>\n",
       "      <th>0</th>\n",
       "      <td>SVR Linear Performance with Feature Extraction</td>\n",
       "      <td>189</td>\n",
       "      <td>3717.617288</td>\n",
       "      <td>1862.308234</td>\n",
       "      <td>-0.000133</td>\n",
       "      <td>0.174494</td>\n",
       "      <td>0.174713</td>\n",
       "      <td>0.040184</td>\n",
       "      <td>0.494007</td>\n",
       "      <td>0.000133</td>\n",
       "    </tr>\n",
       "  </tbody>\n",
       "</table>\n",
       "</div>"
      ],
      "text/plain": [
       "                                             Name  # of inst         Mean  \\\n",
       "0  SVR Linear Performance with Feature Extraction        189  3717.617288   \n",
       "\n",
       "   Standard Dev.     FBias       MPE      MAPE      RMSE       MAD     WMAPE  \n",
       "0    1862.308234 -0.000133  0.174494  0.174713  0.040184  0.494007  0.000133  "
      ]
     },
     "execution_count": 431,
     "metadata": {},
     "output_type": "execute_result"
    }
   ],
   "source": [
    "svm_predictions_new=sv_regressor_new.predict(X_test_new)\n",
    "\n",
    "res_svr_new=performance_list(\"SVR Linear Performance with Feature Extraction\", \n",
    "                                svm_predictions_new, y_test_new)\n",
    "\n",
    "res_svr_new"
   ]
  },
  {
   "cell_type": "markdown",
   "metadata": {},
   "source": [
    "#### Poly"
   ]
  },
  {
   "cell_type": "code",
   "execution_count": 432,
   "metadata": {},
   "outputs": [
    {
     "data": {
      "text/plain": [
       "SVR(C=50, degree=2, epsilon=0.05, kernel='poly')"
      ]
     },
     "execution_count": 432,
     "metadata": {},
     "output_type": "execute_result"
    }
   ],
   "source": [
    "sv_regressor_poly_new=SVR(kernel=\"poly\", degree=2, C=50, epsilon=0.05)\n",
    "sv_regressor_poly_new.fit(X_train_new, y_train_new)"
   ]
  },
  {
   "cell_type": "code",
   "execution_count": 433,
   "metadata": {
    "scrolled": true
   },
   "outputs": [
    {
     "data": {
      "text/html": [
       "<div>\n",
       "<style scoped>\n",
       "    .dataframe tbody tr th:only-of-type {\n",
       "        vertical-align: middle;\n",
       "    }\n",
       "\n",
       "    .dataframe tbody tr th {\n",
       "        vertical-align: top;\n",
       "    }\n",
       "\n",
       "    .dataframe thead th {\n",
       "        text-align: right;\n",
       "    }\n",
       "</style>\n",
       "<table border=\"1\" class=\"dataframe\">\n",
       "  <thead>\n",
       "    <tr style=\"text-align: right;\">\n",
       "      <th></th>\n",
       "      <th>Name</th>\n",
       "      <th># of inst</th>\n",
       "      <th>Mean</th>\n",
       "      <th>Standard Dev.</th>\n",
       "      <th>FBias</th>\n",
       "      <th>MPE</th>\n",
       "      <th>MAPE</th>\n",
       "      <th>RMSE</th>\n",
       "      <th>MAD</th>\n",
       "      <th>WMAPE</th>\n",
       "    </tr>\n",
       "  </thead>\n",
       "  <tbody>\n",
       "    <tr>\n",
       "      <th>0</th>\n",
       "      <td>SVR Performance with Feature Extraction</td>\n",
       "      <td>189</td>\n",
       "      <td>4107.706215</td>\n",
       "      <td>1151.950087</td>\n",
       "      <td>0.094845</td>\n",
       "      <td>0.174431</td>\n",
       "      <td>0.185741</td>\n",
       "      <td>67.930761</td>\n",
       "      <td>439.951638</td>\n",
       "      <td>0.107104</td>\n",
       "    </tr>\n",
       "  </tbody>\n",
       "</table>\n",
       "</div>"
      ],
      "text/plain": [
       "                                      Name  # of inst         Mean  \\\n",
       "0  SVR Performance with Feature Extraction        189  4107.706215   \n",
       "\n",
       "   Standard Dev.     FBias       MPE      MAPE       RMSE         MAD  \\\n",
       "0    1151.950087  0.094845  0.174431  0.185741  67.930761  439.951638   \n",
       "\n",
       "      WMAPE  \n",
       "0  0.107104  "
      ]
     },
     "execution_count": 433,
     "metadata": {},
     "output_type": "execute_result"
    }
   ],
   "source": [
    "svm_predictions_poly_new=sv_regressor_poly_new.predict(X_test_new)\n",
    "\n",
    "res_svr_poly_new=performance_list(\"SVR Performance with Feature Extraction\", \n",
    "                                svm_predictions_poly_new, y_test_new)\n",
    "\n",
    "res_svr_poly_new"
   ]
  },
  {
   "cell_type": "code",
   "execution_count": null,
   "metadata": {},
   "outputs": [],
   "source": []
  },
  {
   "cell_type": "markdown",
   "metadata": {},
   "source": [
    "### Random Forest"
   ]
  },
  {
   "cell_type": "code",
   "execution_count": 394,
   "metadata": {},
   "outputs": [],
   "source": [
    "random_reg_new=RandomForestRegressor()\n",
    "grid_search_new = GridSearchCV(estimator=random_reg_new, param_grid=param_grid,\n",
    "                 cv=5,return_train_score=True)"
   ]
  },
  {
   "cell_type": "code",
   "execution_count": 395,
   "metadata": {},
   "outputs": [
    {
     "data": {
      "text/plain": [
       "{'bootstrap': False, 'max_features': 6, 'n_estimators': 100}"
      ]
     },
     "execution_count": 395,
     "metadata": {},
     "output_type": "execute_result"
    }
   ],
   "source": [
    "grid_search_new.fit(X_train_new, y_train_new)\n",
    "\n",
    "grid_search_new.best_params_"
   ]
  },
  {
   "cell_type": "code",
   "execution_count": 396,
   "metadata": {},
   "outputs": [
    {
     "data": {
      "text/html": [
       "<div>\n",
       "<style scoped>\n",
       "    .dataframe tbody tr th:only-of-type {\n",
       "        vertical-align: middle;\n",
       "    }\n",
       "\n",
       "    .dataframe tbody tr th {\n",
       "        vertical-align: top;\n",
       "    }\n",
       "\n",
       "    .dataframe thead th {\n",
       "        text-align: right;\n",
       "    }\n",
       "</style>\n",
       "<table border=\"1\" class=\"dataframe\">\n",
       "  <thead>\n",
       "    <tr style=\"text-align: right;\">\n",
       "      <th></th>\n",
       "      <th>Name</th>\n",
       "      <th># of inst</th>\n",
       "      <th>Mean</th>\n",
       "      <th>Standard Dev.</th>\n",
       "      <th>FBias</th>\n",
       "      <th>MPE</th>\n",
       "      <th>MAPE</th>\n",
       "      <th>RMSE</th>\n",
       "      <th>MAD</th>\n",
       "      <th>WMAPE</th>\n",
       "    </tr>\n",
       "  </thead>\n",
       "  <tbody>\n",
       "    <tr>\n",
       "      <th>0</th>\n",
       "      <td>Random Forest Performance with Feature Extraction</td>\n",
       "      <td>189</td>\n",
       "      <td>3721.757831</td>\n",
       "      <td>1860.950849</td>\n",
       "      <td>0.00098</td>\n",
       "      <td>NaN</td>\n",
       "      <td>NaN</td>\n",
       "      <td>2.5769</td>\n",
       "      <td>18.103333</td>\n",
       "      <td>0.004864</td>\n",
       "    </tr>\n",
       "  </tbody>\n",
       "</table>\n",
       "</div>"
      ],
      "text/plain": [
       "                                                Name  # of inst         Mean  \\\n",
       "0  Random Forest Performance with Feature Extraction        189  3721.757831   \n",
       "\n",
       "   Standard Dev.    FBias  MPE  MAPE    RMSE        MAD     WMAPE  \n",
       "0    1860.950849  0.00098  NaN   NaN  2.5769  18.103333  0.004864  "
      ]
     },
     "execution_count": 396,
     "metadata": {},
     "output_type": "execute_result"
    }
   ],
   "source": [
    "rf_predictions_new=grid_search_new.predict(X_test_new)\n",
    "\n",
    "res_rf_new=performance_list(\"Random Forest Performance with Feature Extraction\", rf_predictions_new, y_test_new)\n",
    "\n",
    "res_rf_new"
   ]
  },
  {
   "cell_type": "code",
   "execution_count": null,
   "metadata": {},
   "outputs": [],
   "source": []
  },
  {
   "cell_type": "code",
   "execution_count": null,
   "metadata": {},
   "outputs": [],
   "source": []
  },
  {
   "cell_type": "markdown",
   "metadata": {},
   "source": [
    "# General Result Table"
   ]
  },
  {
   "cell_type": "code",
   "execution_count": 434,
   "metadata": {},
   "outputs": [],
   "source": [
    "result_frames=[res_elastic,res_svr_linear,res_svr_poly,res_rf, res_elastic_new,res_svr_new,res_svr_poly_new,res_rf_new]\n",
    "total_result=pd.concat(result_frames)\n",
    "total_result.reset_index(drop=True, inplace=True)"
   ]
  },
  {
   "cell_type": "code",
   "execution_count": 435,
   "metadata": {},
   "outputs": [
    {
     "data": {
      "text/html": [
       "<div>\n",
       "<style scoped>\n",
       "    .dataframe tbody tr th:only-of-type {\n",
       "        vertical-align: middle;\n",
       "    }\n",
       "\n",
       "    .dataframe tbody tr th {\n",
       "        vertical-align: top;\n",
       "    }\n",
       "\n",
       "    .dataframe thead th {\n",
       "        text-align: right;\n",
       "    }\n",
       "</style>\n",
       "<table border=\"1\" class=\"dataframe\">\n",
       "  <thead>\n",
       "    <tr style=\"text-align: right;\">\n",
       "      <th></th>\n",
       "      <th>Name</th>\n",
       "      <th># of inst</th>\n",
       "      <th>Mean</th>\n",
       "      <th>Standard Dev.</th>\n",
       "      <th>FBias</th>\n",
       "      <th>MPE</th>\n",
       "      <th>MAPE</th>\n",
       "      <th>RMSE</th>\n",
       "      <th>MAD</th>\n",
       "      <th>WMAPE</th>\n",
       "    </tr>\n",
       "  </thead>\n",
       "  <tbody>\n",
       "    <tr>\n",
       "      <th>0</th>\n",
       "      <td>Elastic Net Performance</td>\n",
       "      <td>189</td>\n",
       "      <td>4012.049205</td>\n",
       "      <td>1609.679886</td>\n",
       "      <td>6.689545e-02</td>\n",
       "      <td>0.207765</td>\n",
       "      <td>0.259790</td>\n",
       "      <td>47.380683</td>\n",
       "      <td>521.128951</td>\n",
       "      <td>1.298910e-01</td>\n",
       "    </tr>\n",
       "    <tr>\n",
       "      <th>1</th>\n",
       "      <td>Support Vector Regressor Linear Performance</td>\n",
       "      <td>189</td>\n",
       "      <td>1703.084656</td>\n",
       "      <td>399.773154</td>\n",
       "      <td>-1.198165e+00</td>\n",
       "      <td>-0.989375</td>\n",
       "      <td>1.338582</td>\n",
       "      <td>184.344699</td>\n",
       "      <td>2349.328042</td>\n",
       "      <td>1.379455e+00</td>\n",
       "    </tr>\n",
       "    <tr>\n",
       "      <th>2</th>\n",
       "      <td>Support Vector Regressor Polynomial Performance</td>\n",
       "      <td>189</td>\n",
       "      <td>3810.141062</td>\n",
       "      <td>1745.683754</td>\n",
       "      <td>1.744809e-02</td>\n",
       "      <td>0.180755</td>\n",
       "      <td>0.252733</td>\n",
       "      <td>40.544141</td>\n",
       "      <td>398.325296</td>\n",
       "      <td>1.045435e-01</td>\n",
       "    </tr>\n",
       "    <tr>\n",
       "      <th>3</th>\n",
       "      <td>Random Forest Performance</td>\n",
       "      <td>189</td>\n",
       "      <td>3999.115276</td>\n",
       "      <td>1937.965615</td>\n",
       "      <td>6.387760e-02</td>\n",
       "      <td>NaN</td>\n",
       "      <td>NaN</td>\n",
       "      <td>44.171517</td>\n",
       "      <td>443.769549</td>\n",
       "      <td>1.109669e-01</td>\n",
       "    </tr>\n",
       "    <tr>\n",
       "      <th>4</th>\n",
       "      <td>Elastic Net Performance with Feature Extraction</td>\n",
       "      <td>189</td>\n",
       "      <td>3718.111118</td>\n",
       "      <td>1862.555847</td>\n",
       "      <td>1.749097e-09</td>\n",
       "      <td>0.174603</td>\n",
       "      <td>0.174603</td>\n",
       "      <td>0.000003</td>\n",
       "      <td>0.000031</td>\n",
       "      <td>8.343196e-09</td>\n",
       "    </tr>\n",
       "    <tr>\n",
       "      <th>5</th>\n",
       "      <td>SVR Linear Performance with Feature Extraction</td>\n",
       "      <td>189</td>\n",
       "      <td>3717.617288</td>\n",
       "      <td>1862.308234</td>\n",
       "      <td>-1.328334e-04</td>\n",
       "      <td>0.174494</td>\n",
       "      <td>0.174713</td>\n",
       "      <td>0.040184</td>\n",
       "      <td>0.494007</td>\n",
       "      <td>1.328826e-04</td>\n",
       "    </tr>\n",
       "    <tr>\n",
       "      <th>6</th>\n",
       "      <td>SVR Performance with Feature Extraction</td>\n",
       "      <td>189</td>\n",
       "      <td>4107.706215</td>\n",
       "      <td>1151.950087</td>\n",
       "      <td>9.484493e-02</td>\n",
       "      <td>0.174431</td>\n",
       "      <td>0.185741</td>\n",
       "      <td>67.930761</td>\n",
       "      <td>439.951638</td>\n",
       "      <td>1.071040e-01</td>\n",
       "    </tr>\n",
       "    <tr>\n",
       "      <th>7</th>\n",
       "      <td>Random Forest Performance with Feature Extraction</td>\n",
       "      <td>189</td>\n",
       "      <td>3721.757831</td>\n",
       "      <td>1860.950849</td>\n",
       "      <td>9.798380e-04</td>\n",
       "      <td>NaN</td>\n",
       "      <td>NaN</td>\n",
       "      <td>2.576900</td>\n",
       "      <td>18.103333</td>\n",
       "      <td>4.864189e-03</td>\n",
       "    </tr>\n",
       "  </tbody>\n",
       "</table>\n",
       "</div>"
      ],
      "text/plain": [
       "                                                Name  # of inst         Mean  \\\n",
       "0                            Elastic Net Performance        189  4012.049205   \n",
       "1        Support Vector Regressor Linear Performance        189  1703.084656   \n",
       "2    Support Vector Regressor Polynomial Performance        189  3810.141062   \n",
       "3                          Random Forest Performance        189  3999.115276   \n",
       "4    Elastic Net Performance with Feature Extraction        189  3718.111118   \n",
       "5     SVR Linear Performance with Feature Extraction        189  3717.617288   \n",
       "6            SVR Performance with Feature Extraction        189  4107.706215   \n",
       "7  Random Forest Performance with Feature Extraction        189  3721.757831   \n",
       "\n",
       "   Standard Dev.         FBias       MPE      MAPE        RMSE          MAD  \\\n",
       "0    1609.679886  6.689545e-02  0.207765  0.259790   47.380683   521.128951   \n",
       "1     399.773154 -1.198165e+00 -0.989375  1.338582  184.344699  2349.328042   \n",
       "2    1745.683754  1.744809e-02  0.180755  0.252733   40.544141   398.325296   \n",
       "3    1937.965615  6.387760e-02       NaN       NaN   44.171517   443.769549   \n",
       "4    1862.555847  1.749097e-09  0.174603  0.174603    0.000003     0.000031   \n",
       "5    1862.308234 -1.328334e-04  0.174494  0.174713    0.040184     0.494007   \n",
       "6    1151.950087  9.484493e-02  0.174431  0.185741   67.930761   439.951638   \n",
       "7    1860.950849  9.798380e-04       NaN       NaN    2.576900    18.103333   \n",
       "\n",
       "          WMAPE  \n",
       "0  1.298910e-01  \n",
       "1  1.379455e+00  \n",
       "2  1.045435e-01  \n",
       "3  1.109669e-01  \n",
       "4  8.343196e-09  \n",
       "5  1.328826e-04  \n",
       "6  1.071040e-01  \n",
       "7  4.864189e-03  "
      ]
     },
     "execution_count": 435,
     "metadata": {},
     "output_type": "execute_result"
    }
   ],
   "source": [
    "total_result"
   ]
  },
  {
   "cell_type": "markdown",
   "metadata": {},
   "source": [
    "## SVR polynomial Overfitting"
   ]
  },
  {
   "cell_type": "code",
   "execution_count": 436,
   "metadata": {},
   "outputs": [
    {
     "data": {
      "text/html": [
       "<div>\n",
       "<style scoped>\n",
       "    .dataframe tbody tr th:only-of-type {\n",
       "        vertical-align: middle;\n",
       "    }\n",
       "\n",
       "    .dataframe tbody tr th {\n",
       "        vertical-align: top;\n",
       "    }\n",
       "\n",
       "    .dataframe thead th {\n",
       "        text-align: right;\n",
       "    }\n",
       "</style>\n",
       "<table border=\"1\" class=\"dataframe\">\n",
       "  <thead>\n",
       "    <tr style=\"text-align: right;\">\n",
       "      <th></th>\n",
       "      <th>Name</th>\n",
       "      <th># of inst</th>\n",
       "      <th>Mean</th>\n",
       "      <th>Standard Dev.</th>\n",
       "      <th>FBias</th>\n",
       "      <th>MPE</th>\n",
       "      <th>MAPE</th>\n",
       "      <th>RMSE</th>\n",
       "      <th>MAD</th>\n",
       "      <th>WMAPE</th>\n",
       "    </tr>\n",
       "  </thead>\n",
       "  <tbody>\n",
       "    <tr>\n",
       "      <th>0</th>\n",
       "      <td>SVR Performance without Feature Extraction</td>\n",
       "      <td>753</td>\n",
       "      <td>3806.690545</td>\n",
       "      <td>1729.079992</td>\n",
       "      <td>-0.04984</td>\n",
       "      <td>0.12113</td>\n",
       "      <td>0.276489</td>\n",
       "      <td>30.021611</td>\n",
       "      <td>515.651023</td>\n",
       "      <td>0.135459</td>\n",
       "    </tr>\n",
       "  </tbody>\n",
       "</table>\n",
       "</div>"
      ],
      "text/plain": [
       "                                         Name  # of inst         Mean  \\\n",
       "0  SVR Performance without Feature Extraction        753  3806.690545   \n",
       "\n",
       "   Standard Dev.    FBias      MPE      MAPE       RMSE         MAD     WMAPE  \n",
       "0    1729.079992 -0.04984  0.12113  0.276489  30.021611  515.651023  0.135459  "
      ]
     },
     "execution_count": 436,
     "metadata": {},
     "output_type": "execute_result"
    }
   ],
   "source": [
    "svm_control=sv_regressor_poly.predict(X_train)\n",
    "\n",
    "performance_list(\"SVR Performance without Feature Extraction\",svm_control, y_train)"
   ]
  },
  {
   "cell_type": "code",
   "execution_count": 438,
   "metadata": {},
   "outputs": [
    {
     "data": {
      "text/html": [
       "<div>\n",
       "<style scoped>\n",
       "    .dataframe tbody tr th:only-of-type {\n",
       "        vertical-align: middle;\n",
       "    }\n",
       "\n",
       "    .dataframe tbody tr th {\n",
       "        vertical-align: top;\n",
       "    }\n",
       "\n",
       "    .dataframe thead th {\n",
       "        text-align: right;\n",
       "    }\n",
       "</style>\n",
       "<table border=\"1\" class=\"dataframe\">\n",
       "  <thead>\n",
       "    <tr style=\"text-align: right;\">\n",
       "      <th></th>\n",
       "      <th>Name</th>\n",
       "      <th># of inst</th>\n",
       "      <th>Mean</th>\n",
       "      <th>Standard Dev.</th>\n",
       "      <th>FBias</th>\n",
       "      <th>MPE</th>\n",
       "      <th>MAPE</th>\n",
       "      <th>RMSE</th>\n",
       "      <th>MAD</th>\n",
       "      <th>WMAPE</th>\n",
       "    </tr>\n",
       "  </thead>\n",
       "  <tbody>\n",
       "    <tr>\n",
       "      <th>0</th>\n",
       "      <td>SVR Performance with Feature Extraction</td>\n",
       "      <td>740</td>\n",
       "      <td>4417.906777</td>\n",
       "      <td>1495.960616</td>\n",
       "      <td>0.096427</td>\n",
       "      <td>0.17645</td>\n",
       "      <td>0.186869</td>\n",
       "      <td>34.993079</td>\n",
       "      <td>472.891062</td>\n",
       "      <td>0.10704</td>\n",
       "    </tr>\n",
       "  </tbody>\n",
       "</table>\n",
       "</div>"
      ],
      "text/plain": [
       "                                      Name  # of inst         Mean  \\\n",
       "0  SVR Performance with Feature Extraction        740  4417.906777   \n",
       "\n",
       "   Standard Dev.     FBias      MPE      MAPE       RMSE         MAD    WMAPE  \n",
       "0    1495.960616  0.096427  0.17645  0.186869  34.993079  472.891062  0.10704  "
      ]
     },
     "execution_count": 438,
     "metadata": {},
     "output_type": "execute_result"
    }
   ],
   "source": [
    "svm_control_feature=sv_regressor_poly_new.predict(X_train_new)\n",
    "\n",
    "performance_list(\"SVR Performance with Feature Extraction\", svm_control_feature, y_train_new)"
   ]
  },
  {
   "cell_type": "markdown",
   "metadata": {},
   "source": [
    "# Deep Learning Codes"
   ]
  },
  {
   "cell_type": "code",
   "execution_count": null,
   "metadata": {},
   "outputs": [],
   "source": []
  },
  {
   "cell_type": "code",
   "execution_count": null,
   "metadata": {},
   "outputs": [],
   "source": []
  },
  {
   "cell_type": "code",
   "execution_count": null,
   "metadata": {},
   "outputs": [],
   "source": []
  },
  {
   "cell_type": "code",
   "execution_count": null,
   "metadata": {},
   "outputs": [],
   "source": []
  },
  {
   "cell_type": "code",
   "execution_count": null,
   "metadata": {},
   "outputs": [],
   "source": []
  },
  {
   "cell_type": "code",
   "execution_count": null,
   "metadata": {},
   "outputs": [],
   "source": []
  },
  {
   "cell_type": "code",
   "execution_count": null,
   "metadata": {},
   "outputs": [],
   "source": []
  },
  {
   "cell_type": "code",
   "execution_count": null,
   "metadata": {},
   "outputs": [],
   "source": []
  },
  {
   "cell_type": "code",
   "execution_count": null,
   "metadata": {},
   "outputs": [],
   "source": []
  }
 ],
 "metadata": {
  "kernelspec": {
   "display_name": "Python 3",
   "language": "python",
   "name": "python3"
  },
  "language_info": {
   "codemirror_mode": {
    "name": "ipython",
    "version": 3
   },
   "file_extension": ".py",
   "mimetype": "text/x-python",
   "name": "python",
   "nbconvert_exporter": "python",
   "pygments_lexer": "ipython3",
   "version": "3.7.9"
  }
 },
 "nbformat": 4,
 "nbformat_minor": 4
}
